{
 "cells": [
  {
   "cell_type": "markdown",
   "id": "1af4c022-4381-40fe-ad31-c5b9b1979cf6",
   "metadata": {},
   "source": [
    "# Assignment 4"
   ]
  },
  {
   "cell_type": "markdown",
   "id": "0bb74a2b-912c-44c6-ae72-74e1fafcaee9",
   "metadata": {},
   "source": [
    "#### <span style=\"color: #ff0000;\">Question 1 :What exactly is []?\n",
    "**<span style=\"font-size:larger;\">Answer 1</span>** : **'[]'** represents an empty list. Empty lists are commonly used as placeholders to be populated with elements later. We can also use the list() function to create an empty list."
   ]
  },
  {
   "cell_type": "markdown",
   "id": "f5fb3f55-dedc-4173-af89-de619bf88431",
   "metadata": {},
   "source": [
    "#### <span style=\"color: #ff0000;\">Question 2 :In a list of values stored in a variable called spam, how would you assign the value  'hello' as the third value? (Assume [2, 4, 6, 8, 10] are in spam.)       \n"
   ]
  },
  {
   "cell_type": "markdown",
   "id": "6f82cfeb-ade4-4799-a590-93b25e8f502e",
   "metadata": {},
   "source": [
    "**<span style=\"font-size:larger;\">Answer 2</span>** : To assign the value 'hello' as the third value we can use insert(place,value) inbuilt function as shown in code :\n"
   ]
  },
  {
   "cell_type": "code",
   "execution_count": 54,
   "id": "d8ef2989-378a-46fe-b86b-f86683d74206",
   "metadata": {},
   "outputs": [
    {
     "name": "stdout",
     "output_type": "stream",
     "text": [
      "[2, 4, 'hello', 6, 8, 10]\n"
     ]
    }
   ],
   "source": [
    "spam =[2,4,6,8,10]\n",
    "\n",
    "spam.insert(2,\"hello\")\n",
    "\n",
    "print(spam)"
   ]
  },
  {
   "cell_type": "markdown",
   "id": "0b78594f-589b-4087-94e8-c41d4ffb330c",
   "metadata": {},
   "source": [
    "<span style=\"color: #ff0000;\">Let's pretend the spam includes the list ['a', 'b', 'c','d'] for the next three queries.        \n",
    "    \n",
    "\n",
    "#### <span style=\"color: #ff0000;\">Question 3 : What is the value of spam[int(int('3' * 2) / 11)]?\n",
    "**<span style=\"font-size:larger;\">Answer 3</span>** : spam[int(int('33')/11] --> spam[int(3)] --> spam[3] --> 'd'   "
   ]
  },
  {
   "cell_type": "code",
   "execution_count": 55,
   "id": "889bca34-db37-4c70-afe1-d77d9e885385",
   "metadata": {},
   "outputs": [
    {
     "name": "stdout",
     "output_type": "stream",
     "text": [
      "d\n"
     ]
    }
   ],
   "source": [
    "spam=['a','b','c','d']\n",
    "\n",
    "print(spam[int(int('3'*2)/11)])"
   ]
  },
  {
   "cell_type": "markdown",
   "id": "0369aaf3-ab16-4a8f-9cc3-df81fc0a0d9a",
   "metadata": {},
   "source": [
    "#### <span style=\"color: #ff0000;\">Question 4 : What is the value of spam[-1]?\n",
    "**<span style=\"font-size:larger;\">Answer 4</span>** :  spam[-1] --> 'd'      \n",
    "\n",
    "    "
   ]
  },
  {
   "cell_type": "code",
   "execution_count": 56,
   "id": "92c5f0c6-29a4-48e0-8b95-593b7f919568",
   "metadata": {},
   "outputs": [
    {
     "name": "stdout",
     "output_type": "stream",
     "text": [
      "d\n"
     ]
    }
   ],
   "source": [
    "print(spam[-1])"
   ]
  },
  {
   "cell_type": "markdown",
   "id": "96afa73d-8144-423a-b5d4-f92c1e977990",
   "metadata": {
    "tags": []
   },
   "source": [
    "#### <span style=\"color: #ff0000;\">Question 5 :What is the value of spam[:2]?     \n",
    "**<span style=\"font-size:larger;\">Answer 5</span>** : spam[ : 2] --> ['a', 'b']    "
   ]
  },
  {
   "cell_type": "code",
   "execution_count": 57,
   "id": "99548d4e-5df8-4168-ba2e-ebdc710d6624",
   "metadata": {},
   "outputs": [
    {
     "name": "stdout",
     "output_type": "stream",
     "text": [
      "['a', 'b']\n"
     ]
    }
   ],
   "source": [
    "print(spam[:2])"
   ]
  },
  {
   "cell_type": "markdown",
   "id": "2661cbd0-1d25-4440-a0fd-b6eabb3a8c9d",
   "metadata": {},
   "source": [
    "<span style=\"color: #ff0000;\">Let's pretend bacon has the list [3.14, 'cat', 11, 'cat', True] for the next three questions.                \n",
    "               \n",
    "#### <span style=\"color: #ff0000;\">Question 6 : What is the value of bacon.index('cat')?\n",
    "**<span style=\"font-size:larger;\">Answer 6</span>** :  bacon.index('cat') --> 1"
   ]
  },
  {
   "cell_type": "code",
   "execution_count": 58,
   "id": "bec9442c-57a9-42d5-b62a-0d6a42ab637d",
   "metadata": {},
   "outputs": [
    {
     "name": "stdout",
     "output_type": "stream",
     "text": [
      "1\n"
     ]
    }
   ],
   "source": [
    "bacon = [3.14, 'cat', 11, 'cat', True]\n",
    "\n",
    "print(bacon.index('cat'))"
   ]
  },
  {
   "cell_type": "markdown",
   "id": "b509430e-f40a-4923-9c4e-70a0bf067dec",
   "metadata": {
    "tags": []
   },
   "source": [
    "#### <span style=\"color: #ff0000;\">Question 7 : How does bacon.append(99) change the look of the list value in bacon?\n",
    "**<span style=\"font-size:larger;\">Answer 7</span>** : after appending 99 to list list will be like :  [3.14, 'cat', 11, 'cat', True, 99] "
   ]
  },
  {
   "cell_type": "code",
   "execution_count": 59,
   "id": "27d9c07a-13ea-4e9b-af4a-33b0950d2d1c",
   "metadata": {},
   "outputs": [
    {
     "name": "stdout",
     "output_type": "stream",
     "text": [
      "[3.14, 'cat', 11, 'cat', True, 99]\n"
     ]
    }
   ],
   "source": [
    "bacon.append(99)\n",
    "\n",
    "print(bacon) "
   ]
  },
  {
   "cell_type": "markdown",
   "id": "f3706eb9-c70a-4183-91db-6cb859ee9730",
   "metadata": {},
   "source": [
    "#### <span style=\"color: #ff0000;\"> Question 8 :How does bacon.remove('cat') change the look of the list in bacon?\n",
    "**<span style=\"font-size:larger;\">Answer 8</span>** : bacon.remove('cat') will remove any 'cat' element occured first in the list and rest of  list will remain same,"
   ]
  },
  {
   "cell_type": "code",
   "execution_count": 60,
   "id": "2415ab25-cdcb-481b-aeaa-b5abdaf0c9cd",
   "metadata": {},
   "outputs": [
    {
     "name": "stdout",
     "output_type": "stream",
     "text": [
      "[3.14, 11, 'cat', True, 99]\n"
     ]
    }
   ],
   "source": [
    "bacon.remove('cat')\n",
    "\n",
    "print(bacon)"
   ]
  },
  {
   "cell_type": "markdown",
   "id": "9fbdc01b-61c7-4c1f-bafb-a6bb32a1aace",
   "metadata": {
    "tags": []
   },
   "source": [
    "#### <span style=\"color: #ff0000;\"> Question 9 : What are the list concatenation and list replication operators?\n",
    "**<span style=\"font-size:larger;\">Answer 9</span>** : The list concatenation operator is the plus sign (+), and the list replication operator is the asterisk (*).          \n",
    "**List Concatenation Operator (+)**:\n",
    "The plus operator is used to concatenate two or more lists, resulting in a new list that contains all the elements from the original lists.          \n",
    "**List Replication Operator (*)**:\n",
    "The asterisk operator is used to replicate a list by a given number of times. It creates a new list by repeating the elements of the original list\n",
    "    "
   ]
  },
  {
   "cell_type": "code",
   "execution_count": 61,
   "id": "9cb0cd6b-48d0-42f2-b8ee-a4103d3627a1",
   "metadata": {},
   "outputs": [
    {
     "name": "stdout",
     "output_type": "stream",
     "text": [
      "[3.14, 11, 'cat', True, 99, 3.14, 11, 'cat', True, 99]\n",
      "[3.14, 11, 'cat', True, 99, 3.14, 11, 'cat', True, 99, 3.14, 11, 'cat', True, 99, 3.14, 11, 'cat', True, 99]\n"
     ]
    }
   ],
   "source": [
    "bacon = [3.14, 11, 'cat', True, 99]\n",
    "\n",
    "print(bacon+bacon) # List concatenation using list concatenation operator (+)\n",
    "\n",
    "print(bacon * 4)  # List relication using list replication operator (*) (4 - 4 times replication)"
   ]
  },
  {
   "cell_type": "markdown",
   "id": "c2fdd836-1ea1-413f-8945-d0a8b4156314",
   "metadata": {},
   "source": [
    "#### <span style=\"color: #ff0000;\"> Question 10 : What is difference between the list methods append() and insert()?\n",
    "**<span style=\"font-size:larger;\">Answer 10</span>** : The **append()** adds an element to the end of a list, while **insert()** inserts an element at a specific index within the list, causing the existing elements to shift. for example :"
   ]
  },
  {
   "cell_type": "code",
   "execution_count": 62,
   "id": "c6eafe85-7bc3-41ee-9209-f0fa6c33b7a7",
   "metadata": {},
   "outputs": [
    {
     "name": "stdout",
     "output_type": "stream",
     "text": [
      "[3.14, 'cat', 11, 'cat', True, 99, 'Dynosour']\n"
     ]
    }
   ],
   "source": [
    "bacon = [3.14, 11, 'cat', True, 99] \n",
    "\n",
    "bacon.insert(1, 'cat') # inserting 'cat' element on the 2nd position of the bacon list\n",
    "\n",
    "bacon.append(\"Dynosour\") # To append the element \"Dynosour\" at the end of the list\n",
    "\n",
    "print(bacon)"
   ]
  },
  {
   "cell_type": "markdown",
   "id": "36ffde32-16dc-4312-87df-35b59b3b5b84",
   "metadata": {},
   "source": [
    "#### <span style=\"color: #ff0000;\"> Question 11 : What are the two methods for removing items from a list?\n",
    "**<span style=\"font-size:larger;\">Answer 11</span>** :pop() and remove() are the two methods for removing items from a list.         \n",
    "**remove()** method :\n",
    "The remove() method is used to remove the first occurrence of a specified element from a list. It takes a single argument, which is the element to be removed. If the element is found in the list, it is removed.         \n",
    "**pop()** method :\n",
    "The pop() method is used to remove and return an element at a specified index from a list. It takes an optional argument, which is the index of the element to be removed. If no index is provided, it removes and returns the last element in the list."
   ]
  },
  {
   "cell_type": "code",
   "execution_count": 63,
   "id": "ef8d6be6-4c00-4672-92db-4f5172d0d8cf",
   "metadata": {},
   "outputs": [
    {
     "data": {
      "text/plain": [
       "11"
      ]
     },
     "execution_count": 63,
     "metadata": {},
     "output_type": "execute_result"
    }
   ],
   "source": [
    "bacon = [3.14, 'cat', 11, 'cat', True, 99, 'Dynosour']\n",
    "\n",
    "bacon.remove('cat') #will remove 'cat' elememnt at the first occurence in the list at position 2\n",
    "\n",
    "bacon.pop() # To remove elemeent from end of the list ('Dyosour' will be removed) \n",
    "\n",
    "bacon.pop(1) # to remove element from specific index (11 will return and remove from list)\n"
   ]
  },
  {
   "cell_type": "code",
   "execution_count": 64,
   "id": "54055e99-cd4c-470a-9c1f-d81148bf3d58",
   "metadata": {},
   "outputs": [
    {
     "name": "stdout",
     "output_type": "stream",
     "text": [
      "[3.14, 'cat', True, 99]\n"
     ]
    }
   ],
   "source": [
    "print(bacon)"
   ]
  },
  {
   "cell_type": "markdown",
   "id": "95ba104d-3b3e-4710-a5d0-8afec827b907",
   "metadata": {},
   "source": [
    "#### <span style=\"color: #ff0000;\"> Question 12 : Describe how list values and string values are identical.\n",
    "**<span style=\"font-size:larger;\">Answer 12</span>** : List values and string values have some similarities, but they are fundamentally different data types with distinct characteristics. However, there are a few similarities that can be drawn between them:         \n",
    "1. **Sequence Type**: Both lists and strings are examples of sequence types. They can store multiple values in a specific order and support indexing and slicing operations.                \n",
    "2. **Indexing and Slicing**: Both lists and strings allow accessing individual elements using indexing and slicing. Indexing is used to access a specific element at a given position, while slicing allows extracting a portion of the sequence.     "
   ]
  },
  {
   "cell_type": "code",
   "execution_count": 65,
   "id": "185e76d5-e289-4606-a74d-95e1e389d39b",
   "metadata": {},
   "outputs": [
    {
     "name": "stdout",
     "output_type": "stream",
     "text": [
      "1\n",
      "W\n",
      "[2, 3, 4]\n",
      "Hello\n"
     ]
    }
   ],
   "source": [
    "my_list = [1, 2, 3, 4, 5]\n",
    "my_string = \"Hello, World!\"\n",
    "print(my_list[0])  # Indexing in List   \n",
    "print(my_string[7])   # Indexing in string    \n",
    "\n",
    "print(my_list[1:4])  # Slicing in List    \n",
    "print(my_string[0:5])   # Slicing in strings\n"
   ]
  },
  {
   "cell_type": "markdown",
   "id": "5dc87b8c-ce64-48dd-8475-c2e64e7dd91a",
   "metadata": {},
   "source": [
    "3. **Iteration**: Both lists and strings can be iterated over using loops or comprehensions to access each element or character sequentially.\n",
    "4. **Length**: The built-in len() function can be used to determine the length (number of elements or characters) of both lists and strings."
   ]
  },
  {
   "cell_type": "code",
   "execution_count": 66,
   "id": "5951a00b-cc30-495d-b3ad-a73d9b835707",
   "metadata": {},
   "outputs": [
    {
     "name": "stdout",
     "output_type": "stream",
     "text": [
      "1\n",
      "2\n",
      "3\n",
      "4\n",
      "5\n",
      "Length of my_list is 5\n",
      "--------------\n",
      "H\n",
      "e\n",
      "l\n",
      "l\n",
      "o\n",
      ",\n",
      " \n",
      "W\n",
      "o\n",
      "r\n",
      "l\n",
      "d\n",
      "!\n",
      "Length of my_string is 13\n"
     ]
    }
   ],
   "source": [
    "for item in my_list:\n",
    "    print(item)\n",
    "x=len(my_list)\n",
    "print(f\"Length of my_list is {x}\")\n",
    "print(\"--------------\")\n",
    "for char in my_string:\n",
    "    print(char)\n",
    "print(f\"Length of my_string is {len(my_string)}\")"
   ]
  },
  {
   "cell_type": "markdown",
   "id": "d5c23303-c68a-4251-a8dc-758c76bd1f19",
   "metadata": {},
   "source": [
    "#### <span style=\"color: #ff0000;\"> Question 13 : What's the difference between tuples and lists?\n",
    "**<span style=\"font-size:larger;\">Answer 13</span>** : Tuples and lists are both used to store collections of items, but they have several key differences in terms of mutability, syntax, and intended usage:      \n",
    "**Mutability** : Tuples are immutable, meaning their elements cannot be modified once created. In contrast, lists are mutable, allowing modifications to their elements, such as changing, adding, or removing items.              \n",
    "**Mutability** : Tuples are immutable, meaning their elements cannot be modified once created. In contrast, lists are mutable, allowing modifications to their elements, such as changing, adding, or removing items.                  \n",
    "**Performance** : Tuples are generally more memory-efficient and have slightly faster performance compared to lists due to their immutability.                     \n",
    "**Common Operations**: Both tuples and lists support indexing, slicing, iteration, and the len() function. However, lists have additional methods specifically designed for mutation operations, such as append(), insert(), and remove(), which are not available for tuples.\n"
   ]
  },
  {
   "cell_type": "markdown",
   "id": "10702a1a-c3f0-4cbd-9531-ec25c67a2a05",
   "metadata": {},
   "source": [
    "#### <span style=\"color: #ff0000;\"> Question 14 : How do you type a tuple value that only contains the integer 42?\n",
    "**<span style=\"font-size:larger;\">Answer 14</span>** : To create a tuple value that only contains the integer 42, we can use the following syntax: tuple_1 = (42,)          \n",
    " The trailing comma after the integer 42 is necessary to differentiate it from the regular use of parentheses in Python, which may denote an expression or grouping.\n"
   ]
  },
  {
   "cell_type": "code",
   "execution_count": 67,
   "id": "32f208aa-73f0-4fbc-bc5c-dd33e14af699",
   "metadata": {},
   "outputs": [
    {
     "name": "stdout",
     "output_type": "stream",
     "text": [
      "(42,) \t <class 'tuple'>\n"
     ]
    }
   ],
   "source": [
    "tuple_1=(42,)\n",
    "print(tuple_1,\"\\t\",type(tuple_1))"
   ]
  },
  {
   "cell_type": "markdown",
   "id": "6f728aad-d0f6-41ee-9264-da6435622b64",
   "metadata": {},
   "source": [
    "#### <span style=\"color: #ff0000;\"> Question 15 : How do you get a list value's tuple form? How do you get a tuple value's list form?\n",
    "**<span style=\"font-size:larger;\">Answer 15</span>** : By using the appropriate conversion functions tuple() and list(), we can easily convert a list to its tuple form or a tuple to its list form.         \n",
    "example for **list to tuple** convertion :"
   ]
  },
  {
   "cell_type": "code",
   "execution_count": 68,
   "id": "280dba0f-87ce-489f-b6d3-90ac38b22313",
   "metadata": {},
   "outputs": [
    {
     "name": "stdout",
     "output_type": "stream",
     "text": [
      "(1, 2, 3)\n"
     ]
    }
   ],
   "source": [
    "my_list = [1, 2, 3]\n",
    "my_tuple = tuple(my_list)\n",
    "print(my_tuple)\n"
   ]
  },
  {
   "cell_type": "markdown",
   "id": "7cfa4c44-7b85-4e33-849f-d0415c262228",
   "metadata": {},
   "source": [
    "Example for **tuple to list** covertion :"
   ]
  },
  {
   "cell_type": "code",
   "execution_count": 69,
   "id": "58fd7a17-539b-465d-95d4-309f6e434511",
   "metadata": {},
   "outputs": [
    {
     "name": "stdout",
     "output_type": "stream",
     "text": [
      "[1, 2, 3]\n"
     ]
    }
   ],
   "source": [
    "my_tuple = (1, 2, 3)\n",
    "my_list = list(my_tuple)\n",
    "print(my_list)\n"
   ]
  },
  {
   "cell_type": "markdown",
   "id": "4a19fb3e-03ef-4bf3-9cbb-75c230162215",
   "metadata": {},
   "source": [
    "#### <span style=\"color: #ff0000;\"> Question 16 : Variables that \"contain\" list values are not necessarily lists themselves. Instead, what do they contain?\n",
    "**<span style=\"font-size:larger;\">Answer 16</span>** : Variables that \"contain\" list values actually contain references to the list objects. Or we can say, the variables store memory addresses or pointers to the location in memory where the list objects are stored. When we assign a list to a variable, the variable does not directly hold the list data itself. Instead, it holds a reference to the memory location where the list is stored. This is true for other mutable objects in Python as well, such as dictionaries and custom objects.\n",
    "    "
   ]
  },
  {
   "cell_type": "markdown",
   "id": "2a946cc8-2ebe-4db2-a458-8b068f123210",
   "metadata": {},
   "source": [
    "#### <span style=\"color: #ff0000;\"> Question 17 : How do you distinguish between copy.copy() and copy.deepcopy()?\n",
    "**<span style=\"font-size:larger;\">Answer 17</span>** : **copy.copy()** creates a shallow copy where nested objects are still shared between the original and copied objects, while **copy.deepcopy()** creates a deep copy where all nested objects are also copied, resulting in independent copies. For example : "
   ]
  },
  {
   "cell_type": "code",
   "execution_count": 70,
   "id": "65f1f4be-798d-4f0f-8c55-2cebf4afea28",
   "metadata": {},
   "outputs": [
    {
     "name": "stdout",
     "output_type": "stream",
     "text": [
      "[1, [2, 3, 4]]\n",
      "[1, [2, 3, 4]]\n",
      "[1, [2, 3, 10]]\n"
     ]
    }
   ],
   "source": [
    "import copy\n",
    "\n",
    "original_list = [1, [2, 3]]\n",
    "copied_list = copy.copy(original_list)\n",
    "deep_copied_list = copy.deepcopy(original_list)\n",
    "\n",
    "copied_list[1].append(4)\n",
    "deep_copied_list[1].append(10)\n",
    "\n",
    "print(original_list)  \n",
    "print(copied_list)    \n",
    "print(deep_copied_list) "
   ]
  }
 ],
 "metadata": {
  "kernelspec": {
   "display_name": "Python 3 (ipykernel)",
   "language": "python",
   "name": "python3"
  },
  "language_info": {
   "codemirror_mode": {
    "name": "ipython",
    "version": 3
   },
   "file_extension": ".py",
   "mimetype": "text/x-python",
   "name": "python",
   "nbconvert_exporter": "python",
   "pygments_lexer": "ipython3",
   "version": "3.10.6"
  }
 },
 "nbformat": 4,
 "nbformat_minor": 5
}
