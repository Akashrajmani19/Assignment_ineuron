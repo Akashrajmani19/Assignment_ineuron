{
 "cells": [
  {
   "cell_type": "markdown",
   "id": "42f18dd0-e995-4b6b-ba3e-4d41945dcbf7",
   "metadata": {},
   "source": [
    "# Assignment 8 : "
   ]
  },
  {
   "cell_type": "markdown",
   "id": "1fece233-96c6-4b0e-a8d5-32a2e9c30e66",
   "metadata": {},
   "source": [
    "#### <span style=\"color: #ff0000;\">Question 1 : In Python, what is the difference between a built-in function and a user-defined function? Provide an example of each.\n",
    "**<span style=\"font-size:larger;\">Answer 1</span>** : The main difference between a built-in function and a user-defined function lies in their origin and how they are created.\n",
    "\n",
    "**Built-in Function**: A built-in function is a function that is already available as part of the Python programming language. These functions are pre-defined and come bundled with Python, providing a wide range of functionalities that can be directly used without any additional setup or import statements. Built-in functions are written in Python or other low-level languages and are optimized for performance.               \n",
    "\n",
    "\n",
    "Example of a built-in function : **len()** : The **len()** function is a built-in function that returns the length of a sequence or collection, such as a string, list, or tuple. It takes a single argument and returns the number of elements in the sequence."
   ]
  },
  {
   "cell_type": "code",
   "execution_count": 14,
   "id": "5be2aef2-018a-4f5b-93a6-5ab1f48f37c9",
   "metadata": {},
   "outputs": [
    {
     "name": "stdout",
     "output_type": "stream",
     "text": [
      "15\n"
     ]
    }
   ],
   "source": [
    "List = [1,2,3,4,5,6,7,8,9,10,11,12,13,14,15]\n",
    "print(len(List))  # Here len() function used to get the exact number of elements ib List"
   ]
  },
  {
   "cell_type": "markdown",
   "id": "f9343b0c-e3d8-4171-b5e3-f7693244d93d",
   "metadata": {},
   "source": [
    "\n",
    "**User-defined Function**: A user-defined function is created by the programmer to perform a specific task or a series of tasks. These functions are defined using the **'def'** keyword and can have any desired name. User-defined functions allow developers to modularize their code, promote reusability, and encapsulate specific functionalities. They are created as needed within a Python program."
   ]
  },
  {
   "cell_type": "code",
   "execution_count": 15,
   "id": "138d0faa-6d0b-4f75-8fab-751775e7b515",
   "metadata": {},
   "outputs": [
    {
     "name": "stdout",
     "output_type": "stream",
     "text": [
      "10\n"
     ]
    }
   ],
   "source": [
    "def add(x,y): # add() function is created to add to nubers\n",
    "    return x+y\n",
    "print(add(3,7)) "
   ]
  },
  {
   "cell_type": "markdown",
   "id": "a9da5269-aa2a-48fa-8224-c4686158627a",
   "metadata": {},
   "source": [
    "#### <span style=\"color: #ff0000;\">Question 2 :How can you pass arguments to a function in Python? Explain the difference between positional arguments and keyword arguments.\n",
    "**<span style=\"font-size:larger;\">Answer 2</span>** : We can pass arguments to a function in two ways: positional arguments and keyword arguments.            \n",
    "**Positional Arguments**: Positional arguments are passed to a function based on their position or order. The arguments are matched with the function parameters in the order they are provided. The number of arguments passed must match the number of parameters defined by the function."
   ]
  },
  {
   "cell_type": "code",
   "execution_count": 16,
   "id": "b291bebb-8c0e-4a9f-9ada-ea78644bed1a",
   "metadata": {},
   "outputs": [
    {
     "name": "stdout",
     "output_type": "stream",
     "text": [
      "Hello AKash. You are 23 years old.\n"
     ]
    }
   ],
   "source": [
    "def greet(name, age):\n",
    "    print(f\"Hello {name}. You are {age} years old.\")\n",
    "\n",
    "greet(\"AKash\", 23)"
   ]
  },
  {
   "cell_type": "markdown",
   "id": "552b9181-6cf9-4df3-936f-6ff4c2ab6bd1",
   "metadata": {},
   "source": [
    "**Keyword Arguments**: Keyword arguments are passed to a function using the parameter name explicitly. The order of the arguments does not matter as long as the parameter names are provided. This allows flexibility and clarity in passing arguments, especially when dealing with functions that have multiple parameters."
   ]
  },
  {
   "cell_type": "code",
   "execution_count": 17,
   "id": "494da819-d211-4506-a92d-e705112ddb1b",
   "metadata": {},
   "outputs": [
    {
     "name": "stdout",
     "output_type": "stream",
     "text": [
      "Hello Akash! You are 23 years old.\n"
     ]
    }
   ],
   "source": [
    "def greet(name, age):\n",
    "    print(f\"Hello {name}! You are {age} years old.\")\n",
    "\n",
    "greet(age=23, name=\"Akash\")"
   ]
  },
  {
   "cell_type": "markdown",
   "id": "c1ae7127-cb08-4e17-bcc6-2758cd919736",
   "metadata": {},
   "source": [
    "#### <span style=\"color: #ff0000;\">Question 3 : What is the purpose of the return statement in a function? Can a function have multiple return statements? Explain with an example.\n",
    "**<span style=\"font-size:larger;\">Answer 3</span>** : The return statement in a function is used to specify the value that the function should return when it is called and executed. It allows the function to produce a result or output that can be used by the calling code or stored in a variable. The return statement also serves the purpose of terminating the execution of the function.                \n",
    "        Function can have multiple return statements, but only one return statement is executed during the function's execution. "
   ]
  },
  {
   "cell_type": "code",
   "execution_count": 18,
   "id": "f781a218-1b1a-47db-9939-9cef2c54761f",
   "metadata": {},
   "outputs": [
    {
     "name": "stdout",
     "output_type": "stream",
     "text": [
      "5\n",
      "8\n"
     ]
    }
   ],
   "source": [
    "def get_absolute(number):\n",
    "    \"\"\"Here we have defined a function to get a absolute value of a number with multiple return statement.\"\"\"\n",
    "    if number >= 0:\n",
    "        return number\n",
    "    else:\n",
    "        return -number\n",
    "\n",
    "result1 = get_absolute(5) # Giving positive value to function\n",
    "print(result1)  \n",
    "\n",
    "result2 = get_absolute(-8) # Giving positive value to function\n",
    "print(result2)  \n"
   ]
  },
  {
   "cell_type": "markdown",
   "id": "6216d53b-c07e-4400-874f-6dbd022c2ed2",
   "metadata": {},
   "source": [
    "#### <span style=\"color: #ff0000;\">Question 4 : What are lambda functions in Python? How are they different from regular functions? Provide an example where a lambda function can be useful.\n",
    "**<span style=\"font-size:larger;\">Answer 4</span>** : A Lambda function is a small, anonymous function that can be defined a single line. It is also known as an \"anoymus function\" because it dosen't requir a formal name like a regular function. Lambda functions are typically used when we need a simple function for a short period of time and don't want to define a separate function using the 'def' keyword.          \n",
    "Lambda functions are different from regular functions in a few ways:                              \n",
    "**Anonymous**: Lambda functions don't have a name. They are defined and used at the same place in the code without assigning them to a variable. They are primarily used where a small function is needed as an argument to another function or operation.                          \n",
    "**Single Expression**: Lambda functions can only contain a single expression. This means they can't include multiple statements or complex control flow structures. The expression is evaluated and the result is returned.                      \n",
    "**Concise Syntax**: The syntax of lambda functions is compact and concise, making them useful for writing simple, one-liner functions. They are often used in situations where a full-fledged named function is not necessary."
   ]
  },
  {
   "cell_type": "code",
   "execution_count": 19,
   "id": "c92a9047-9b4f-4207-b445-f08cda9b93e9",
   "metadata": {},
   "outputs": [
    {
     "name": "stdout",
     "output_type": "stream",
     "text": [
      "12\n"
     ]
    },
    {
     "name": "stdin",
     "output_type": "stream",
     "text": [
      "Give number to check number is even or odd : 4\n"
     ]
    },
    {
     "name": "stdout",
     "output_type": "stream",
     "text": [
      "enen\n"
     ]
    },
    {
     "name": "stdin",
     "output_type": "stream",
     "text": [
      "Give first number : 5\n",
      "Give second number : 6\n"
     ]
    },
    {
     "name": "stdout",
     "output_type": "stream",
     "text": [
      "Big digit is 6\n"
     ]
    }
   ],
   "source": [
    "add= lambda x,y:x+y #for addition\n",
    "print(add(4,8))\n",
    "\n",
    "even_odd=lambda x: \"enen\" if x%2==0 else \"odd\"\n",
    "value=int(input(\"Give number to check number is even or odd :\"))\n",
    "print(even_odd(value))\n",
    "\n",
    "check_number = lambda x,y : x if x>y else y\n",
    "num1=int(input(\"Give first number :\"))\n",
    "num2=int(input(\"Give second number :\"))\n",
    "print(f\"Big digit is {check_number(num1,num2)}\")"
   ]
  },
  {
   "cell_type": "markdown",
   "id": "dab742e6-a3b0-4707-a4e8-dc3169d49771",
   "metadata": {},
   "source": [
    "#### <span style=\"color: #ff0000;\">Question 5 : How does the concept of \"scope\" apply to functions in Python? Explain the difference between local scope and global scope.\n",
    "**<span style=\"font-size:larger;\">Answer 5</span>** : The concept of \"scope\" refers to the region or context in which a variable or name can be accessed or referenced. The scope determines the visibility and lifetime of variables and functions in a program. When it comes to functions, there are two main scopes to consider: local scope and global scope               \n",
    "**Local Scope**: Variables defined within a function are considered to be in the local scope. These variables are only accessible within the function where they are defined. Local variables are created when the function is called and destroyed when the function completes its execution. They are not accessible from outside the function.                \n",
    "**Global Scope**: Variables defined outside of any function, at the top level of a module, have global scope. These variables are accessible throughout the module and can be accessed and modified by any function within the module. Global variables are created when the module is imported or executed and persist until the program terminates."
   ]
  },
  {
   "cell_type": "code",
   "execution_count": 20,
   "id": "157fa299-c0a5-4fd5-9e1c-1d4bf90d53c0",
   "metadata": {},
   "outputs": [
    {
     "name": "stdout",
     "output_type": "stream",
     "text": [
      "Printing x from funcion :  10\n",
      "Printing y from funcion :  15\n",
      "Modifying z inside the function :  25\n",
      "Printing y outside the function 15\n",
      "Printing z outside the function 25\n"
     ]
    }
   ],
   "source": [
    "y=15 # global variable\n",
    "z=20 # global variable\n",
    "def my_function():\n",
    "    x = 10  # This x is a local variable \n",
    "    global z # calling z in function as global varibale\n",
    "    z=z+5\n",
    "    print(\"Printing x from funcion : \",x)\n",
    "    print(\"Printing y from funcion : \",y)\n",
    "    print(\"Modifying z inside the function : \", z)\n",
    "\n",
    "my_function()  # Output: 10\n",
    "#print(x)  # Raises NameError: name 'x' is not defined\n",
    "print(\"Printing y outside the function\",y)\n",
    "print(\"Printing z outside the function\",z)"
   ]
  },
  {
   "cell_type": "markdown",
   "id": "d6b70203-4504-4c68-b4a3-cf986428af43",
   "metadata": {},
   "source": [
    "#### <span style=\"color: #ff0000;\">Question 6 : How can you use the \"return\" statement in a Python function to return multiple values?\n",
    "**<span style=\"font-size:larger;\">Answer 6</span>** :In Python, the return statement in a function can be used to return multiple values by combining them into a tuple, list, or dictionary. This allows the function to return multiple pieces of data as a single entity."
   ]
  },
  {
   "cell_type": "code",
   "execution_count": 21,
   "id": "83312466-07bd-459a-a04c-599626b8816f",
   "metadata": {},
   "outputs": [
    {
     "name": "stdout",
     "output_type": "stream",
     "text": [
      "{'name': 'Bob', 'age': 30, 'city': 'London'}\n"
     ]
    }
   ],
   "source": [
    "def get_info():\n",
    "    name = \"Bob\"\n",
    "    age = 30\n",
    "    city = \"London\"\n",
    "    return {\"name\": name, \"age\": age, \"city\": city} # This functin is returning a dictionary\n",
    "\n",
    "result = get_info()\n",
    "print(result)  "
   ]
  },
  {
   "cell_type": "markdown",
   "id": "719446f1-e903-4771-b0ae-57ea256f5a8d",
   "metadata": {},
   "source": [
    "#### <span style=\"color: #ff0000;\">Question 7 : What is the difference between the \"pass by value\" and \"pass by reference\" concepts when it comes to function arguments in Python?\n",
    "    \n",
    "**<span style=\"font-size:larger;\">Answer 7</span>** :In Python, arguments are passed to functions by assigning the reference of an object to a parameter.So the behavior can be understood as \"pass by value\" for immutable objects since modifications within the function do not affect the original object. For mutable objects, the behavior is similar to \"pass by reference\" as modifications within the function affect the original object and is the key diffrence between the \"pass by value\" and \"pass by reference\" concept in python."
   ]
  },
  {
   "cell_type": "markdown",
   "id": "adf8640f-0471-4aa5-b387-9807bfdaa2a5",
   "metadata": {},
   "source": [
    "#### <span style=\"color: #ff0000;\">Question  8: Create a function that can intake integer or decimal value and do following operations:\n",
    "a. Logarithmic function (log x)                      \n",
    "b. Exponential function (exp(x))             \n",
    "c. Power function with base 2 (2^x)               \n",
    "d. Square root                 \n",
    "**<span style=\"font-size:larger;\">Answer 8</span>** : "
   ]
  },
  {
   "cell_type": "code",
   "execution_count": 22,
   "id": "c1ef6e18-32db-4754-a565-0b3276cc980b",
   "metadata": {},
   "outputs": [
    {
     "name": "stdout",
     "output_type": "stream",
     "text": [
      "Logarithmic function : 1.6094379124341003 \n",
      "Exponential function : 148.4131591025766\n",
      "Power function with base 2 : 32\n",
      "Square root : 2.23606797749979\n"
     ]
    }
   ],
   "source": [
    "import math\n",
    "def operation(x):\n",
    "    a = math.log(x)\n",
    "    print(f\"Logarithmic function : {a} \")\n",
    "    b = math.exp(x)\n",
    "    print(f\"Exponential function : {b}\")\n",
    "    c = 2**(x)\n",
    "    print(f\"Power function with base 2 : {c}\")\n",
    "    d = math.sqrt(x)\n",
    "    print(f\"Square root : {d}\")\n",
    "    \n",
    "operation(5)\n"
   ]
  },
  {
   "cell_type": "markdown",
   "id": "ca8d8cda-a981-4423-8942-33f68e1da9fc",
   "metadata": {},
   "source": [
    "#### <span style=\"color: #ff0000;\">Question 9 : Create a function that takes a full name as an argument and returns first name and last name.\n",
    "**<span style=\"font-size:larger;\">Answer 9</span>** : "
   ]
  },
  {
   "cell_type": "code",
   "execution_count": 23,
   "id": "586b1ba2-1fcd-4cac-b18f-fb4936133fed",
   "metadata": {},
   "outputs": [
    {
     "name": "stdin",
     "output_type": "stream",
     "text": [
      "Give your full name. :  Akash Vaishnav\n"
     ]
    },
    {
     "name": "stdout",
     "output_type": "stream",
     "text": [
      "First name is Akash\n",
      "Last name is Vaishnav\n"
     ]
    }
   ],
   "source": [
    "def name_split(x):\n",
    "    a = name.split(\" \")\n",
    "    first_name = a[0]\n",
    "    last_name = a[1]\n",
    "    print(f\"First name is {first_name}\")\n",
    "    print(f\"Last name is {last_name}\")\n",
    "\n",
    "name = input(\"Give your full name. : \")\n",
    "name_split(name)"
   ]
  }
 ],
 "metadata": {
  "kernelspec": {
   "display_name": "Python 3 (ipykernel)",
   "language": "python",
   "name": "python3"
  },
  "language_info": {
   "codemirror_mode": {
    "name": "ipython",
    "version": 3
   },
   "file_extension": ".py",
   "mimetype": "text/x-python",
   "name": "python",
   "nbconvert_exporter": "python",
   "pygments_lexer": "ipython3",
   "version": "3.10.6"
  }
 },
 "nbformat": 4,
 "nbformat_minor": 5
}
