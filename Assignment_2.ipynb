{
 "cells": [
  {
   "cell_type": "markdown",
   "id": "1af4c022-4381-40fe-ad31-c5b9b1979cf6",
   "metadata": {},
   "source": [
    "# Assignment 2 "
   ]
  },
  {
   "cell_type": "markdown",
   "id": "0bb74a2b-912c-44c6-ae72-74e1fafcaee9",
   "metadata": {},
   "source": [
    "#### <span style=\"color: #ff0000;\">Question 1 : 1.What are the two values of the Boolean data type? How do you write them?\n",
    "**<span style=\"font-size:larger;\">Answer 1</span>** : \"**True**\" and \"**False**\" are the two values of the boolean data type. Where \"**True**\" represents a true and written as the keyword **True**. and \"False\" repersent a not or negative condition and written as the keyword **False**."
   ]
  },
  {
   "cell_type": "markdown",
   "id": "f5fb3f55-dedc-4173-af89-de619bf88431",
   "metadata": {},
   "source": [
    "#### <span style=\"color: #ff0000;\">Question 2 : What are the three different types of Boolean operators?"
   ]
  },
  {
   "cell_type": "markdown",
   "id": "6f82cfeb-ade4-4799-a590-93b25e8f502e",
   "metadata": {},
   "source": [
    "**<span style=\"font-size:larger;\">Answer 2</span>** : \"**AND**\", \"**OR**\" and \"**NOT**\" are the three diffrent types of Boolean operators.   \n",
    "**AND** :  The **AND** operator returns True if both operands are True, and False otherwise. It evaluates to True only if all the conditions are true.      \n",
    "**OR** : The **OR** operator returns True if at least one of the operands is True, and False if both operands are False. It evaluates to True if any of the conditions are true.      \n",
    "**NOT** : The **NOT** operator reverses the logical value of its operand. It returns True if the operand is False, and False if the operand is True. It essentially negates the value.\n"
   ]
  },
  {
   "cell_type": "markdown",
   "id": "0b78594f-589b-4087-94e8-c41d4ffb330c",
   "metadata": {},
   "source": [
    "#### <span style=\"color: #ff0000;\">Question 3 : Make a list of each Boolean operator's truth tables (i.e. every possible combination of Boolean values for the operator and what it evaluate).\n",
    "**<span style=\"font-size:larger;\">Answer 3</span>** :  List of each Boolean operator's Truth table -           \n",
    "**AND** Logical operator : "
   ]
  },
  {
   "cell_type": "markdown",
   "id": "51be9a59-9be5-423f-83cb-692e85f1c49c",
   "metadata": {},
   "source": [
    "        |-----------|-----------|--------|\n",
    "        | Operand 1 | Operand 2 | Result |\n",
    "        |-----------|-----------|--------|\n",
    "        | True      | True      | True   |\n",
    "        | True      | False     | False  |\n",
    "        | False     | True      | False  |\n",
    "        | False     | False     | False  |\n",
    "        |-----------|-----------|--------|\n",
    "**OR** Logical operator: "
   ]
  },
  {
   "cell_type": "markdown",
   "id": "446c71c3-1fe7-458a-a019-dcfc1781f225",
   "metadata": {},
   "source": [
    "    |-----------|-----------|--------|\n",
    "    | Operand 1 | Operand 2 | Result |\n",
    "    |-----------|-----------|--------|\n",
    "    | True      | True      | True   |\n",
    "    | True      | False     | True   |\n",
    "    | False     | True      | True   |\n",
    "    | False     | False     | False  |\n",
    "    |-----------|-----------|--------|\n",
    "\n",
    "**NOT** Logical operator : "
   ]
  },
  {
   "cell_type": "markdown",
   "id": "c2e3fbd8-fae7-42e8-b8a2-e9ea56f11af9",
   "metadata": {},
   "source": [
    "    |---------|--------|\n",
    "    | Operand | Result |\n",
    "    |---------|--------|\n",
    "    | True    | False  |\n",
    "    | False   | True   |\n",
    "    |---------|--------|\n"
   ]
  },
  {
   "cell_type": "markdown",
   "id": "0369aaf3-ab16-4a8f-9cc3-df81fc0a0d9a",
   "metadata": {},
   "source": [
    "#### <span style=\"color: #ff0000;\">Question 4 : What are the values of the following expressions?\n",
    "**<span style=\"font-size:larger;\">Answer 4</span>** :        \n",
    "    (5 > 4) and (3 == 5)   \n",
    "    Output : False          \n",
    "    not (5 > 4)          \n",
    "    Output : False        \n",
    "    (5 > 4) or (3 == 5)        \n",
    "    Output : True       \n",
    "    not((5 > 4) or (3 == 5))       \n",
    "    Output : False         \n",
    "    (True and True) and (True == False)         \n",
    "    Output : False        \n",
    "    (not False) or (not True)       \n",
    "    Output : True      \n",
    "    \n",
    "    \n",
    "    \n",
    "    \n",
    "    "
   ]
  },
  {
   "cell_type": "markdown",
   "id": "96afa73d-8144-423a-b5d4-f92c1e977990",
   "metadata": {
    "tags": []
   },
   "source": [
    "#### <span style=\"color: #ff0000;\">Question 5 : What are the six comparison operators?\n",
    "**<span style=\"font-size:larger;\">Answer 5</span>** : Comparison operators :\n",
    "        \n",
    "    "
   ]
  },
  {
   "cell_type": "markdown",
   "id": "8e0d0e22-f902-4402-9805-530447636f6b",
   "metadata": {},
   "source": [
    "    |---------------------|----------------------------|\n",
    "    |      Operator       |           Meaning          |\n",
    "    |---------------------|----------------------------|\n",
    "    |       ==            |           Equal to         |\n",
    "    |       >             |          Greater then      |\n",
    "    |       <             |           Less then        |\n",
    "    |       >=            | Greater then and equal to  |\n",
    "    |       <=            |   Less then and equal to   |\n",
    "    |       !=            |          Not equal to      |\n",
    "    |---------------------|----------------------------|\n",
    "These are the 6 comparision operator in python mostly used to compare two variables."
   ]
  },
  {
   "cell_type": "markdown",
   "id": "2661cbd0-1d25-4440-a0fd-b6eabb3a8c9d",
   "metadata": {},
   "source": [
    "#### <span style=\"color: #ff0000;\">Question 6 : How do you tell the difference between the equal to and assignment operators? Describe a condition and when you would use one.\n",
    "**<span style=\"font-size:larger;\">Answer 6</span>** : Equal to (\"==\") is used to compare the equality of two values. It checks whether the values on both sides of the operator are equal and assignment operator (\"=\")  is used to assign a value to a variable. It assigns the value on the right side of the operator to the variable on the left side. It's important that the assignment operator (=) is not used for equality comparison. If we use the assignment operator instead of the equal to operator in a conditional statement, it will assign the value rather than comparing for equality, which may lead to unexpected behavior of our programme. As an example :"
   ]
  },
  {
   "cell_type": "code",
   "execution_count": 20,
   "id": "343717dc-3734-4f03-b1cd-9039aeaf198c",
   "metadata": {},
   "outputs": [
    {
     "name": "stdout",
     "output_type": "stream",
     "text": [
      "x is not equal to y\n"
     ]
    }
   ],
   "source": [
    "x = 5 # Here we are assigning value 5 to x variable using assignment operator\n",
    "y = 7 # Here we are assigning value 7 to y variable using assignment operator\n",
    "\n",
    "if x == y: # Here we are comparing y with x for equality via equal to \n",
    "    print(\"x is equal to y\")\n",
    "else:\n",
    "    print(\"x is not equal to y\") \n",
    "\n"
   ]
  },
  {
   "cell_type": "code",
   "execution_count": 21,
   "id": "c171a685-87f9-446f-803a-bb1c67b6a9dd",
   "metadata": {},
   "outputs": [
    {
     "ename": "SyntaxError",
     "evalue": "invalid syntax. Maybe you meant '==' or ':=' instead of '='? (475029469.py, line 1)",
     "output_type": "error",
     "traceback": [
      "\u001b[0;36m  Cell \u001b[0;32mIn [21], line 1\u001b[0;36m\u001b[0m\n\u001b[0;31m    if x = y: # Here we use assignment operator for compaarision of y with x for equality via assignment operator gives us error\u001b[0m\n\u001b[0m       ^\u001b[0m\n\u001b[0;31mSyntaxError\u001b[0m\u001b[0;31m:\u001b[0m invalid syntax. Maybe you meant '==' or ':=' instead of '='?\n"
     ]
    }
   ],
   "source": [
    "\n",
    "if x = y: # Here we use assignment operator for compaarision of y with x for equality via assignment operator gives us error \n",
    "    print(\"x is equal to y\")\n",
    "else:\n",
    "    print(\"x is not equal to y\")"
   ]
  },
  {
   "cell_type": "markdown",
   "id": "ecc1312f-1d2b-4c58-9977-ba983bfab5c4",
   "metadata": {},
   "source": [
    "From above example we can realize that for comparision we must use equal to and where we need to assign any value to any variable we should use assignment operator otherwise it will raise an error as invalid syntax or some other errors."
   ]
  },
  {
   "cell_type": "markdown",
   "id": "b509430e-f40a-4923-9c4e-70a0bf067dec",
   "metadata": {
    "jp-MarkdownHeadingCollapsed": true,
    "tags": []
   },
   "source": [
    "#### <span style=\"color: #ff0000;\">Question 7 : Identify the three blocks in this code:\n",
    "spam = 0       \n",
    "if spam == 10:        \n",
    "    print('eggs')       \n",
    "if spam > 5:         \n",
    "    print('bacon')        \n",
    "else:          \n",
    "    print('ham')         \n",
    "print('spam')         \n",
    "print('spam')        \n",
    "**<span style=\"font-size:larger;\">Answer 7</span>** : So 3 blocks in this code can be written separately such as : "
   ]
  },
  {
   "cell_type": "markdown",
   "id": "f275362a-659e-43b7-a78d-6ecaedbc0de9",
   "metadata": {},
   "source": [
    "#### <span style=\"color: #ff0000;\"> Block 1 :"
   ]
  },
  {
   "cell_type": "code",
   "execution_count": null,
   "id": "7dffb974-98cf-4103-8ed0-27b8e12c9ff4",
   "metadata": {},
   "outputs": [],
   "source": [
    "spam = 0\n",
    "if spam == 10:\n",
    "    print('eggs')"
   ]
  },
  {
   "cell_type": "markdown",
   "id": "dd1dfc02-fe91-4154-b5b9-ae94a1914e0b",
   "metadata": {},
   "source": [
    "#### <span style=\"color: #ff0000;\"> Block 2 : "
   ]
  },
  {
   "cell_type": "code",
   "execution_count": null,
   "id": "d9e416b2-2386-4646-b367-44579bc9927b",
   "metadata": {},
   "outputs": [],
   "source": [
    "if spam > 5:\n",
    "    print('bacon')\n",
    "else:\n",
    "    print('ham')"
   ]
  },
  {
   "cell_type": "markdown",
   "id": "7b637347-86cc-4d04-b3fc-10e3c8e50a5a",
   "metadata": {},
   "source": [
    "#### <span style=\"color: #ff0000;\"> Block 3 : "
   ]
  },
  {
   "cell_type": "code",
   "execution_count": null,
   "id": "a79770ff-e65f-40ba-a008-7945d605a8c0",
   "metadata": {},
   "outputs": [],
   "source": [
    "print('spam')\n",
    "print('spam')"
   ]
  },
  {
   "cell_type": "markdown",
   "id": "f3706eb9-c70a-4183-91db-6cb859ee9730",
   "metadata": {},
   "source": [
    "#### <span style=\"color: #ff0000;\"> Question 8 : Write code that prints Hello if 1 is stored in spam, prints Howdy if 2 is stored in spam, and prints Greetings! if anything else is stored in spam.\n",
    "**<span style=\"font-size:larger;\">Answer 8</span>** :"
   ]
  },
  {
   "cell_type": "code",
   "execution_count": null,
   "id": "8789055d-9121-4334-964f-cb8f947b2e6e",
   "metadata": {},
   "outputs": [],
   "source": [
    "spam = int(input(\"Give any integer\"))\n",
    "\n",
    "if spam ==1:\n",
    "    print(\"Hello.\")\n",
    "elif spam == 2:\n",
    "    print(\"Howdy\")\n",
    "else:\n",
    "    print(\"Greetings!\")\n"
   ]
  },
  {
   "cell_type": "markdown",
   "id": "d58fb20c-70f1-45e2-adb6-71ea58e79a62",
   "metadata": {
    "tags": []
   },
   "source": [
    "#### <span style=\"color: #ff0000;\"> Question 9 : If your programme is stuck in an endless loop, what keys you’ll press?\n",
    "**<span style=\"font-size:larger;\">Answer 9</span>** : If my programme is stuck in a endless loop, i will press 'Ctrl + C' to stop the exception of code."
   ]
  },
  {
   "cell_type": "markdown",
   "id": "c2fdd836-1ea1-413f-8945-d0a8b4156314",
   "metadata": {},
   "source": [
    "#### <span style=\"color: #ff0000;\"> Question 10 : How can you tell the difference between break and continue?\n",
    "**<span style=\"font-size:larger;\">Answer 10</span>** : The diffrence between break and continue is that break statement is used to terminate the loop entirely and continue execution after the loop but continue statement is used to skip the current iteration of the loop and move on to the next iteration."
   ]
  },
  {
   "cell_type": "markdown",
   "id": "36ffde32-16dc-4312-87df-35b59b3b5b84",
   "metadata": {},
   "source": [
    "#### <span style=\"color: #ff0000;\"> Question 11 : In a for loop, what is the difference between range(10), range(0, 10), and range(0, 10, 1)? \n",
    "**<span style=\"font-size:larger;\">Answer 11</span>** : In a for loop range(10), range(0, 10), and range(0, 10, 1) are different ways of specifying the range of values that how loop will iterate.              \n",
    "    \n",
    "**range(10)** : This form of 'range' specifies the stop value only. It generates a sequence of numbers starting from 0 (default start value) up to, but not including, the specified stop value, which is 10 in this case. The step value is implicitly considered as 1 (default step value).                  \n",
    "    \n",
    "**range(0,10)** : This form of 'range' specifies both the start and stop values. It generates a sequence of numbers starting from the specified start value (0 in this case) up to, but not including, the specified stop value (10 in this case). The step value is implicitly considered as 1.                         \n",
    "    \n",
    "**range(0,10,1)** : This form of 'range' specifies the start, stop, and step values explicitly. It generates a sequence of numbers starting from the specified start value (0 in this case) up to, but not including, the specified stop value (10 in this case), incrementing by the specified step value (1 in this case).                       \n",
    "    \n",
    "But all three are giving same output in  this case."
   ]
  },
  {
   "cell_type": "markdown",
   "id": "95ba104d-3b3e-4710-a5d0-8afec827b907",
   "metadata": {},
   "source": [
    "#### <span style=\"color: #ff0000;\"> Question 12 : Write a short program that prints the numbers 1 to 10 using a for loop. Then write an equivalent program that prints the numbers 1 to 10 using a while loop.\n",
    "**<span style=\"font-size:larger;\">Answer 12</span>** : Using the for loop :"
   ]
  },
  {
   "cell_type": "code",
   "execution_count": null,
   "id": "32725edc-b980-4e8a-b64f-e31a51fb2a0a",
   "metadata": {},
   "outputs": [],
   "source": [
    "for i in range(1,11):\n",
    "    print(i)"
   ]
  },
  {
   "cell_type": "code",
   "execution_count": null,
   "id": "d0a27552-027f-41b9-a057-3ecf2968b0a7",
   "metadata": {},
   "outputs": [],
   "source": [
    "x=1\n",
    "while x<=10:\n",
    "    print(x)\n",
    "    x=x+1"
   ]
  },
  {
   "cell_type": "markdown",
   "id": "d5c23303-c68a-4251-a8dc-758c76bd1f19",
   "metadata": {},
   "source": [
    "#### <span style=\"color: #ff0000;\"> Question 13 : If you had a function named bacon() inside a module named spam, how would you call it after importing spam?\n",
    "**<span style=\"font-size:larger;\">Answer 13</span>** : if i had a function named bacon() inside a module named spam, i can call it via the syntax like :           \n",
    "\n",
    "import spam       \n",
    "\n",
    "spam.bacon()\n"
   ]
  }
 ],
 "metadata": {
  "kernelspec": {
   "display_name": "Python 3 (ipykernel)",
   "language": "python",
   "name": "python3"
  },
  "language_info": {
   "codemirror_mode": {
    "name": "ipython",
    "version": 3
   },
   "file_extension": ".py",
   "mimetype": "text/x-python",
   "name": "python",
   "nbconvert_exporter": "python",
   "pygments_lexer": "ipython3",
   "version": "3.10.6"
  }
 },
 "nbformat": 4,
 "nbformat_minor": 5
}
