{
 "cells": [
  {
   "cell_type": "markdown",
   "id": "64bfbd09-335d-4c41-b0ff-8bb505818bf6",
   "metadata": {},
   "source": [
    "# Assignment 13 : 02_july_OOPs"
   ]
  },
  {
   "cell_type": "markdown",
   "id": "ab4eb583-908e-4891-be53-5acca03b991a",
   "metadata": {},
   "source": [
    "#### <span style=\"color: #ff0000;\">Question 1 : Explain what inheritance is in object-oriented programming and why it is used.\n",
    "**<span style=\"font-size:larger;\">Answer 1</span>** : Object oriented programming is a technique, which allows new classes to created that inherit the properties and methods of an existing class. This allows for code reuse and makes it easy to create new class that have simillar functionality to existing classes.                           \n",
    "There is a lot of benifits of using inheritance:                                \n",
    "**Code Reusability**: Inheritance enables code reusability by allowing subclasses to reuse the fields and methods of their superclass. Instead of rewriting common functionalities, developers can extend existing classes and add new functionalities when needed.\n",
    "\n",
    "**Modularity and Organization**: Inheritance promotes a hierarchical organization of classes, making the codebase more manageable and easier to understand. Related classes can be grouped together in a logical manner, making it simpler to maintain and update the code.\n",
    "\n",
    "**Polymorphism**: Inheritance is closely related to polymorphism, another important OOP concept. Polymorphism allows objects of different classes to be treated as objects of a common superclass. This allows for more generic and flexible code that can work with different subclasses through a common interface.\n",
    "\n",
    "**Specialization**: Subclasses can specialize and override specific methods from the superclass, tailoring their behavior to suit their unique requirements. This allows developers to create more specific and focused classes that build upon the general behavior provided by the superclass.\n",
    "\n",
    "**Extensibility**: Inheritance allows new classes to be easily added to the existing codebase without modifying the superclass. This promotes a modular and scalable design, making it easier to extend the functionality of an application as new requirements arise."
   ]
  },
  {
   "cell_type": "markdown",
   "id": "918677b3-c553-4db0-8712-4313e8c5014b",
   "metadata": {},
   "source": [
    "#### <span style=\"color: #ff0000;\">Question 2 :Discuss the concept of single inheritance and multiple inheritance, highlighting their differences and advantages.\n",
    "**<span style=\"font-size:larger;\">Answer 2</span>** :                      \n",
    "**Single inheritance** : Single Inheritance refers to the property of a class being allowed to inherit from only one superclass (one direct parent class). Single inheritance provides a straightforward and easy-to-understand class hierarchy, avoids complex scenarios, such as the \"diamond problem,\" making it easier to manage and maintain the codebase and Encourages developers to create more focused and specialized classes, promoting encapsulation and clear separation of concerns.                              \n",
    "**Multiple inheritance** : Multiple Inheritance allows a class to inherit from multiple superclasses (multiple direct parent classes). It Allows a class to inherit features from multiple superclasses, promoting a high degree of code reuse, enables developers to create complex class hierarchies that share functionalities from multiple sources, providing versatility and Allows the use of mixins, classes that provide additional functionalities without being intended for standalone use, for easier behavior addition to various classes.                        \n",
    "    For Diifrence between single inheritance and multiple inhertance :\n",
    "    \n"
   ]
  },
  {
   "cell_type": "markdown",
   "id": "a3f9df6e-da32-494c-a0d3-d3c84fa4c1e9",
   "metadata": {},
   "source": [
    "    |------------------------------------------|----------------------------------------|\n",
    "    |       Single inheritance                 |             Mutiple inheritance        |\n",
    "    |------------------------------------------|----------------------------------------|\n",
    "    | Allows a class to inherit from only one  | Allows a class to inherit from multiple|\n",
    "    |  superclass (one direct parent class).   |  superclasses (multiple direct parent  |\n",
    "    |                                          | classes) .                             |\n",
    "    |------------------------------------------|----------------------------------------|\n",
    "    | Forms a linear class hierarchy.          | Forms a complex, potentially diamond-  |\n",
    "    |                                          | shaped class hierarchy.                |\n",
    "    |------------------------------------------|----------------------------------------|\n",
    "    | Offers code reusability, but to a lesser | Provides a higher degree of code re-   |\n",
    "    | extent compared to multiple inheritance. | usability  by inheriting features from |\n",
    "    |                                          | multiple sources.                      |\n",
    "    |------------------------------------------|----------------------------------------|\n",
    "    | Simpler and easier to manage and under-  | More complex, and may be harder to     |\n",
    "    | stand due to the linear hierarchy.       | manage and troubleshoot due to intert- |\n",
    "    |                                          | wined hierarchies.                     |\n",
    "    |------------------------------------------|----------------------------------------|"
   ]
  },
  {
   "cell_type": "markdown",
   "id": "53b59bd9-4510-4988-9b9a-b0b786296dba",
   "metadata": {},
   "source": [
    "#### <span style=\"color: #ff0000;\">Question 3 : Explain the terms \"base class\" and \"derived class\" in the context of inheritance.\n",
    "**<span style=\"font-size:larger;\">Answer 3</span>** : In the context of inheritance in object-oriented programming, the terms \"base class\" and \"derived class\" refer to the classes involved in an inheritance relationship.                  \n",
    "**Base class** : A base class, also known as a superclass or parent class, is the class that serves as the foundation or source of inheritance. It contains common properties (fields) and behaviors (methods) that are shared among multiple related classes. The base class acts as a blueprint from which other classes can inherit, extending or specializing its functionalities.               \n",
    "**Derived class** : A derived class, also known as a subclass or child class, is a class that inherits properties and behaviors from a base class. The derived class is created by specifying the base class as its parent during its definition. By inheriting from the base class, the derived class gains access to the fields and methods of the base class, allowing it to reuse and extend functionalities."
   ]
  },
  {
   "cell_type": "markdown",
   "id": "3ac1dec2-50b0-49d0-8b01-f952a218dee0",
   "metadata": {},
   "source": [
    "#### <span style=\"color: #ff0000;\">Question 4 : What is the significance of the \"protected\" access modifier in inheritance? How does it differ from \"private\" and \"public\" modifiers?\n",
    "**<span style=\"font-size:larger;\">Answer 4</span>** : The \"protected\" access modifier is useful in inheritance when we want to allow subclasses to access certain members for reuse or extension while still maintaining some level of encapsulation and restricting access from unrelated classes. It strikes a balance between the private and public access levels, making it a valuable tool for designing well-structured and reusable class hierarchies. Private members are accessible only within the same class where they are defined, and they are not visible to subclasses or external classes but protected members are accessible within the same class and its subclasses, but they are not visible to external classes where public members are accessible from any part of the code, including subclasses and external classes."
   ]
  },
  {
   "cell_type": "markdown",
   "id": "b5077a0f-cfa7-4c70-a479-93095d37beff",
   "metadata": {},
   "source": [
    "#### <span style=\"color: #ff0000;\">Question 5 : What is the purpose of the \"super\" keyword in inheritance? Provide an example.\n",
    "**<span style=\"font-size:larger;\">Answer 5</span>** : The \"super\" keyword is used in inheritance to refer to the superclass (base class) from within the subclass (derived class). It allows the subclass to access and call the members (fields and methods) of its immediate superclass. The \"super\" keyword is particularly useful when a subclass needs to override a method or constructor from the superclass while still using the functionality provided by the superclass. For example :"
   ]
  },
  {
   "cell_type": "code",
   "execution_count": 1,
   "id": "71478bcd-f143-446d-b786-f9b3403e2740",
   "metadata": {},
   "outputs": [],
   "source": [
    "class parent:\n",
    "    def __init__(self,name):\n",
    "        self.name=name\n",
    "\n",
    "class child(parent):\n",
    "    def __init__(self,name,occupation):\n",
    "        super().__init__(name)\n",
    "        self.occupation=occupation\n",
    "    def __str__(self):\n",
    "        return f\"name is {self.name} and occupation is {self.occupation}.\""
   ]
  },
  {
   "cell_type": "code",
   "execution_count": 2,
   "id": "39555c93-bdee-4668-ae37-5df67fd01096",
   "metadata": {},
   "outputs": [
    {
     "name": "stdout",
     "output_type": "stream",
     "text": [
      "name is Akash and occupation is Researcher.\n"
     ]
    }
   ],
   "source": [
    "person1=child(\"Akash\",\"Researcher\")\n",
    "print(person1)"
   ]
  },
  {
   "cell_type": "markdown",
   "id": "030b0485-3266-45c0-b46f-ac32a2a3a7ed",
   "metadata": {},
   "source": [
    "#### <span style=\"color: #ff0000;\">Question 6 : Create a base class called \"Vehicle\" with attributes like \"make\", \"model\", and \"year\". Then, create a derived class called \"Car\" that inherits from \"Vehicle\" and adds an attribute called \"fuel_type\". Implement appropriate methods in both classes.\n",
    "**<span style=\"font-size:larger;\">Answer 6</span>** : "
   ]
  },
  {
   "cell_type": "code",
   "execution_count": 5,
   "id": "da298e4b-20a2-4d79-a522-c91f2ee8ce06",
   "metadata": {},
   "outputs": [],
   "source": [
    "class Vehicle:\n",
    "    def __init__(self,maker,model,year):\n",
    "        self.maker = maker\n",
    "        self.model = model\n",
    "        self.year = year\n",
    "    \n",
    "    def display(self):\n",
    "        print(f\" Company : {self.maker} \\n Model : {self.model} \\n Year : {self.year}.\")\n",
    "    \n",
    "class Car(Vehicle):\n",
    "    def __init__(self,maker,model,year,fuel_type):\n",
    "        super().__init__(maker,model,year)\n",
    "        self.fuel_type= fuel_type\n",
    "    def display_Car(self):\n",
    "        print(f\" Company : {self.maker}\\n Model : {self.model}\\n Year : {self.year}\\n Fuel Type : {self.fuel_type}\")"
   ]
  },
  {
   "cell_type": "code",
   "execution_count": 6,
   "id": "9756ea26-2a22-4963-b59f-9ee8c9f8f8d1",
   "metadata": {},
   "outputs": [
    {
     "name": "stdout",
     "output_type": "stream",
     "text": [
      " Company : TATA \n",
      " Model : XUV700 \n",
      " Year : 2023.\n"
     ]
    }
   ],
   "source": [
    "car1=Car(\"TATA\",\"XUV700\",\"2023\",\"Diesel\")\n",
    "car1.display()"
   ]
  },
  {
   "cell_type": "code",
   "execution_count": 7,
   "id": "2f3fcee4-3c1a-442f-8a76-4a2b8c53e6dc",
   "metadata": {},
   "outputs": [
    {
     "name": "stdout",
     "output_type": "stream",
     "text": [
      " Company : TATA\n",
      " Model : XUV700\n",
      " Year : 2023\n",
      " Fuel Type : Diesel\n"
     ]
    }
   ],
   "source": [
    "car1.display_Car()"
   ]
  },
  {
   "cell_type": "markdown",
   "id": "dad76e8a-2953-4854-8527-c047a0c637a9",
   "metadata": {},
   "source": [
    "#### <span style=\"color: #ff0000;\">Question 7 : Create a base class called \"Employee\" with attributes like \"name\" and \"salary.\" Derive two classes, \"Manager\" and \"Developer,\" from \"Employee.\" Add an additional attribute called \"department\" for the \"Manager\" class and \"programming_language\" for the \"Developer\" class.\n",
    "**<span style=\"font-size:larger;\">Answer 7</span>** :"
   ]
  },
  {
   "cell_type": "code",
   "execution_count": 8,
   "id": "c24de3b7-1b6e-4664-a2bc-1ec7978ab1c1",
   "metadata": {},
   "outputs": [],
   "source": [
    "class Employee:\n",
    "    def __init__(self, name, salary):\n",
    "        self.name = name\n",
    "        self.salary = salary\n",
    "\n",
    "    def display_info(self):\n",
    "        print(f\"Name: {self.name}, Salary: {self.salary}\")\n",
    "\n",
    "\n",
    "class Manager(Employee):\n",
    "    def __init__(self, name, salary, department):\n",
    "        super().__init__(name, salary)\n",
    "        self.department = department\n",
    "\n",
    "    def display_info(self):\n",
    "        super().display_info()\n",
    "        print(f\"Department: {self.department}\")\n",
    "\n",
    "\n",
    "class Developer(Employee):\n",
    "    def __init__(self, name, salary, programming_language):\n",
    "        super().__init__(name, salary)\n",
    "        self.programming_language = programming_language\n",
    "\n",
    "    def display_info(self):\n",
    "        super().display_info()\n",
    "        print(f\"Programming Language: {self.programming_language}\")\n"
   ]
  },
  {
   "cell_type": "markdown",
   "id": "7c8b845b-d674-488f-9063-1ff6e9dd6624",
   "metadata": {},
   "source": [
    "#### <span style=\"color: #ff0000;\">Question 8 : Design a base class called \"Shape\" with attributes like \"colour\" and \"border_width.\" Create derived classes, \"Rectangle\" and \"Circle,\" that inherit from \"Shape\" and add specific attributes like \"length\" and \"width\" for the \"Rectangle\" class and \"radius\" for the \"Circle\" class.\n",
    "**<span style=\"font-size:larger;\">Answer 8</span>** : "
   ]
  },
  {
   "cell_type": "code",
   "execution_count": 1,
   "id": "462bd105-6cb4-4e2e-a182-07bc7e1af525",
   "metadata": {},
   "outputs": [],
   "source": [
    "Pi=3.14\n",
    "class Shape:\n",
    "    def __init__(self,color,border_width):\n",
    "        self.color=color\n",
    "        self.border_width = border_width\n",
    "    def dispay_info(self):\n",
    "        print(f\"Color : {self.color} \\nBorder Width : {self.border_width}\")\n",
    "    \n",
    "class Rectangle(Shape):\n",
    "    def __init__(self,color,border_width,length,width):\n",
    "        self.length=length\n",
    "        self.width=width\n",
    "        super().__init__(color,border_width)\n",
    "    def area_with_out_BW(self):\n",
    "        area = self.length*self.width\n",
    "        print(f\"Area of Ractangle with color {self.color} with out Border width : {area}\")\n",
    "        \n",
    "    def area_with_BW(self):\n",
    "        area = (self.length+self.border_width)*(self.width+self.border_width)  \n",
    "        print(f\"Area of Ractangle with color {self.color} Border width : {area}\")\n",
    "    \n",
    "class Circle(Shape):\n",
    "    def __init__(self,color,border_width,radius):\n",
    "        self.radius=radius\n",
    "        super().__init__(color,border_width)\n",
    "    def area_with_out_BW(self):\n",
    "        area = Pi*((self.radius)**2)\n",
    "        print(f\"Area of Circle color {self.color} with out Border width : {area}\")\n",
    "        \n",
    "    def area_with_BW(self):\n",
    "        area =  Pi*((self.radius+self.border_width)**2)  \n",
    "        print(f\"Area of Circle color {self.color} with Border width : {area}\")"
   ]
  },
  {
   "cell_type": "markdown",
   "id": "f9592067-6a8d-4f58-a349-851a368096ad",
   "metadata": {},
   "source": [
    "#### <span style=\"color: #ff0000;\">Question 9 : Create a base class called \"Device\" with attributes like \"brand\" and \"model.\" Derive two classes, \"Phone\" and \"Tablet,\" from \"Device.\" Add specific attributes like \"screen_size\" for the \"Phone\" class and \"battery_capacity\" for the \"Tablet\" class.\n",
    "**<span style=\"font-size:larger;\">Answer 9</span>** : "
   ]
  },
  {
   "cell_type": "code",
   "execution_count": 2,
   "id": "654c8e3a-dbc8-4667-aec9-637236366aa1",
   "metadata": {},
   "outputs": [],
   "source": [
    "class Device:\n",
    "    def __init__(self,brand,model):\n",
    "        self.brand = brand\n",
    "        self.model=model\n",
    "    def display_info(self):\n",
    "        print(f\"Brand : {self.brand} \\nModel : {self.model}\")\n",
    "    \n",
    "class Phone(Device):\n",
    "    def __init__(self,brand,model,screen_size):\n",
    "        self.screen_size = screen_size\n",
    "        super().__init__(brand,model)\n",
    "    def display_info(self):\n",
    "        print(f\"Brand : {self.brand} \\nModel : {self.model} \\nScreen sizev : {self.screen_size}\")\n",
    "    \n",
    "class Tablet(Device):\n",
    "    def __init__(self,brand,model,battery_capacity):\n",
    "        self.battery_capacity = battery_capacity\n",
    "        super().__init__(brand,model)\n",
    "    def display_info(self):\n",
    "        print(f\"Brand : {self.brand} \\nModel : {self.model} \\nBattery Capacity : {self.battery_capacity}\")"
   ]
  },
  {
   "cell_type": "code",
   "execution_count": 3,
   "id": "8dcaba3d-1444-4748-9281-ff0b14d161a8",
   "metadata": {},
   "outputs": [
    {
     "name": "stdout",
     "output_type": "stream",
     "text": [
      "Brand : Apple \n",
      "Model : Ipad Piro \n",
      "Battery Capacity : 10000\n"
     ]
    }
   ],
   "source": [
    "tablet= Tablet(\"Apple\",\"Ipad Piro\",10000)\n",
    "tablet.display_info()"
   ]
  },
  {
   "cell_type": "markdown",
   "id": "43fbde5a-cbdc-4568-908c-3d029cb45fed",
   "metadata": {},
   "source": [
    "#### <span style=\"color: #ff0000;\">Question 10 : Create a base class called \"BankAccount\" with attributes like \"account_number\" and \"balance.\" Derive two classes, \"SavingsAccount\" and \"CheckingAccount,\" from \"BankAccount.\" Add specific methods like \"calculate_interest\" for the \"SavingsAccount\" class and \"deduct_fees\" for the \"CheckingAccount\" class.\n",
    "**<span style=\"font-size:larger;\">Answer 10</span>** : "
   ]
  },
  {
   "cell_type": "code",
   "execution_count": 6,
   "id": "22bc21fb-9c61-4caf-8e8d-e747060ea561",
   "metadata": {},
   "outputs": [],
   "source": [
    "class BankAccount:\n",
    "    def __init__(self, account_number, balance):\n",
    "        self.account_number = account_number\n",
    "        self.balance = balance\n",
    "\n",
    "    def deposit(self, amount):\n",
    "        self.balance += amount\n",
    "\n",
    "    def withdraw(self, amount):\n",
    "        if self.balance >= amount:\n",
    "            self.balance -= amount\n",
    "        else:\n",
    "            print(\"Insufficient funds!\")\n",
    "\n",
    "    def get_balance(self):\n",
    "        return self.balance\n",
    "\n",
    "\n",
    "class SavingsAccount(BankAccount):\n",
    "    def __init__(self, account_number, balance, interest_rate):\n",
    "        super().__init__(account_number, balance)\n",
    "        self.interest_rate = interest_rate\n",
    "\n",
    "    def calculate_interest(self):\n",
    "        interest = self.balance * self.interest_rate\n",
    "        self.balance += interest\n",
    "\n",
    "    def get_interest_rate(self):\n",
    "        return self.interest_rate\n",
    "\n",
    "\n",
    "class CheckingAccount(BankAccount):\n",
    "    def __init__(self, account_number, balance, fee):\n",
    "        super().__init__(account_number, balance)\n",
    "        self.fee = fee\n",
    "\n",
    "    def deduct_fees(self):\n",
    "        self.balance -= self.fee\n",
    "\n",
    "    def get_fee_amount(self):\n",
    "        return self.fee  "
   ]
  },
  {
   "cell_type": "code",
   "execution_count": 11,
   "id": "29c8acbd-a466-43ca-91d5-1a741a58d928",
   "metadata": {},
   "outputs": [
    {
     "name": "stdout",
     "output_type": "stream",
     "text": [
      "Savings Account Balance: 6120.0\n"
     ]
    }
   ],
   "source": [
    "savings_acc = SavingsAccount(\"SAV123456\", 5000, 0.02)\n",
    "savings_acc.deposit(1000)\n",
    "savings_acc.calculate_interest()\n",
    "print(\"Savings Account Balance:\", savings_acc.get_balance())\n",
    "\n"
   ]
  },
  {
   "cell_type": "code",
   "execution_count": 12,
   "id": "185feb6f-23a7-45b6-918e-164cd302c718",
   "metadata": {},
   "outputs": [
    {
     "name": "stdout",
     "output_type": "stream",
     "text": [
      "Checking Account Balance: 3480\n"
     ]
    }
   ],
   "source": [
    "checking_acc = CheckingAccount(\"CHK789012\", 3000, 20)\n",
    "checking_acc.deposit(500)\n",
    "checking_acc.deduct_fees()\n",
    "print(\"Checking Account Balance:\", checking_acc.get_balance())"
   ]
  }
 ],
 "metadata": {
  "kernelspec": {
   "display_name": "Python 3 (ipykernel)",
   "language": "python",
   "name": "python3"
  },
  "language_info": {
   "codemirror_mode": {
    "name": "ipython",
    "version": 3
   },
   "file_extension": ".py",
   "mimetype": "text/x-python",
   "name": "python",
   "nbconvert_exporter": "python",
   "pygments_lexer": "ipython3",
   "version": "3.10.6"
  }
 },
 "nbformat": 4,
 "nbformat_minor": 5
}
