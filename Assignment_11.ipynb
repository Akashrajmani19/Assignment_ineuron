{
 "cells": [
  {
   "cell_type": "markdown",
   "id": "64bfbd09-335d-4c41-b0ff-8bb505818bf6",
   "metadata": {},
   "source": [
    "# Assignment 11 : "
   ]
  },
  {
   "cell_type": "markdown",
   "id": "918677b3-c553-4db0-8712-4313e8c5014b",
   "metadata": {},
   "source": [
    "#### <span style=\"color: #ff0000;\">Question 1 : What is the role of the 'else' block in a try-except statement? Provide an example scenario where it would be useful.\n",
    "**<span style=\"font-size:larger;\">Answer 1</span>** : The role of **else** block is to specify a set of statements that should be executed if no exception is raised inside the try block. If any exception is raised, the control will immediately transfer to the corresponding except block, and the else block will be skipped in thos scenerio. "
   ]
  },
  {
   "cell_type": "code",
   "execution_count": 7,
   "id": "0f4f1080-b111-4e5c-9547-9129de4d83c1",
   "metadata": {},
   "outputs": [
    {
     "name": "stdin",
     "output_type": "stream",
     "text": [
      "Number 1 :  65\n",
      "Number 2 :  45\n"
     ]
    },
    {
     "name": "stdout",
     "output_type": "stream",
     "text": [
      "\u001b[34mAll things working perfectly.\n",
      " Result is : 1.4444444444444444\n"
     ]
    }
   ],
   "source": [
    "num1 = int(input(\"Number 1 : \"))\n",
    "num2 = int(input(\"Number 2 : \"))\n",
    "\n",
    "try:\n",
    "    result = num1/num2\n",
    "except ZeroDivisionError:\n",
    "    print(\"\\033[31mERROR : Number 2 should be not a 0.\")\n",
    "else:\n",
    "    print(f\"\\033[34mAll things working perfectly.\\n Result is : {result}\")\n",
    "    "
   ]
  },
  {
   "cell_type": "markdown",
   "id": "53b59bd9-4510-4988-9b9a-b0b786296dba",
   "metadata": {},
   "source": [
    "#### <span style=\"color: #ff0000;\">Question 2 : Can a try-except block be nested inside another try-except block? Explain with an example.\n",
    "**<span style=\"font-size:larger;\">Answer 2</span>** : Yes, a try-except block can be nested inside another try-except block. This concept is known as \"nested exception handling\" or \"exception nesting.\" It allows us to handle different levels of exceptions independently and provide more specific error handling for different parts of our code."
   ]
  },
  {
   "cell_type": "code",
   "execution_count": 10,
   "id": "12e06b8c-dfc6-4ff2-bc68-059570fe97db",
   "metadata": {},
   "outputs": [
    {
     "name": "stdin",
     "output_type": "stream",
     "text": [
      "Number 1 :  5\n",
      "Number 2 :  8\n"
     ]
    },
    {
     "name": "stdout",
     "output_type": "stream",
     "text": [
      "\u001b[34mAll things working perfectly.\n",
      " Result is : 0.625\n",
      "\u001b[0mComplex result: 11.25\n"
     ]
    }
   ],
   "source": [
    "num1 = int(input(\"Number 1 : \"))\n",
    "num2 = int(input(\"Number 2 : \"))\n",
    "\n",
    "try:\n",
    "    \"\"\" We handle the division operation, catching ZeroDivisionError if the denominator is zero.\"\"\"\n",
    "    result = num1/num2\n",
    "except ZeroDivisionError:\n",
    "    print(\"\\033[31mERROR : Number 2 should be not a 0.\")\n",
    "else:\n",
    "    print(f\"\\033[34mAll things working perfectly.\\n Result is : {result}\")\n",
    "    try:\n",
    "        \"\"\"We perform a complex operation on the result. If any other exception occurs during this operation, we want to handle it separately.\"\"\"\n",
    "        # Complex operation on the result\n",
    "        complex_result = result * 2 + 10\n",
    "        print(\"\\033[0mComplex result:\", complex_result)\n",
    "    except Exception as e:\n",
    "        print(\"\\033[31mError occurred during complex operation:\", str(e))\n"
   ]
  },
  {
   "cell_type": "markdown",
   "id": "3ac1dec2-50b0-49d0-8b01-f952a218dee0",
   "metadata": {},
   "source": [
    "#### <span style=\"color: #ff0000;\">Question 3 : How can you create a custom exception class in Python? Provide an example that demonstrates its usage.\n",
    "**<span style=\"font-size:larger;\">Answer 3</span>** :  We can create custom exception classes by defining a new class that inherits from one of the built-in exception classes or a suitable base exception class like Exception. Custom exception classes are useful when we want to raise specific types of exceptions to handle specific error scenarios in our code. for example : "
   ]
  },
  {
   "cell_type": "code",
   "execution_count": 12,
   "id": "e4d4fb77-99dd-4777-ad68-88e71e43a6db",
   "metadata": {},
   "outputs": [
    {
     "name": "stdin",
     "output_type": "stream",
     "text": [
      "Enter a positive number:  -5\n"
     ]
    },
    {
     "name": "stdout",
     "output_type": "stream",
     "text": [
      "Custom Error occurred: Input cannot be negative.\n"
     ]
    },
    {
     "ename": "AttributeError",
     "evalue": "'CustomError' object has no attribute 'error_code'",
     "output_type": "error",
     "traceback": [
      "\u001b[0;31m---------------------------------------------------------------------------\u001b[0m",
      "\u001b[0;31mCustomError\u001b[0m                               Traceback (most recent call last)",
      "Cell \u001b[0;32mIn [12], line 11\u001b[0m\n\u001b[1;32m     10\u001b[0m     num \u001b[38;5;241m=\u001b[39m \u001b[38;5;28mint\u001b[39m(\u001b[38;5;28minput\u001b[39m(\u001b[38;5;124m\"\u001b[39m\u001b[38;5;124mEnter a positive number: \u001b[39m\u001b[38;5;124m\"\u001b[39m))\n\u001b[0;32m---> 11\u001b[0m     \u001b[43mcustom_function\u001b[49m\u001b[43m(\u001b[49m\u001b[43mnum\u001b[49m\u001b[43m)\u001b[49m\n\u001b[1;32m     12\u001b[0m \u001b[38;5;28;01mexcept\u001b[39;00m CustomError \u001b[38;5;28;01mas\u001b[39;00m ce:\n",
      "Cell \u001b[0;32mIn [12], line 8\u001b[0m, in \u001b[0;36mcustom_function\u001b[0;34m(x)\u001b[0m\n\u001b[1;32m      7\u001b[0m \u001b[38;5;28;01mif\u001b[39;00m x \u001b[38;5;241m<\u001b[39m \u001b[38;5;241m0\u001b[39m:\n\u001b[0;32m----> 8\u001b[0m     \u001b[38;5;28;01mraise\u001b[39;00m CustomError(\u001b[38;5;124m\"\u001b[39m\u001b[38;5;124mInput cannot be negative.\u001b[39m\u001b[38;5;124m\"\u001b[39m)\n",
      "\u001b[0;31mCustomError\u001b[0m: Input cannot be negative.",
      "\nDuring handling of the above exception, another exception occurred:\n",
      "\u001b[0;31mAttributeError\u001b[0m                            Traceback (most recent call last)",
      "Cell \u001b[0;32mIn [12], line 14\u001b[0m\n\u001b[1;32m     12\u001b[0m \u001b[38;5;28;01mexcept\u001b[39;00m CustomError \u001b[38;5;28;01mas\u001b[39;00m ce:\n\u001b[1;32m     13\u001b[0m     \u001b[38;5;28mprint\u001b[39m(\u001b[38;5;124m\"\u001b[39m\u001b[38;5;124mCustom Error occurred:\u001b[39m\u001b[38;5;124m\"\u001b[39m, ce)\n\u001b[0;32m---> 14\u001b[0m     \u001b[38;5;28mprint\u001b[39m(\u001b[38;5;124m\"\u001b[39m\u001b[38;5;124mError Code:\u001b[39m\u001b[38;5;124m\"\u001b[39m, \u001b[43mce\u001b[49m\u001b[38;5;241;43m.\u001b[39;49m\u001b[43merror_code\u001b[49m)\n\u001b[1;32m     15\u001b[0m \u001b[38;5;28;01mexcept\u001b[39;00m \u001b[38;5;167;01mValueError\u001b[39;00m \u001b[38;5;28;01mas\u001b[39;00m ve:\n\u001b[1;32m     16\u001b[0m     \u001b[38;5;28mprint\u001b[39m(\u001b[38;5;124m\"\u001b[39m\u001b[38;5;124mValue Error occurred:\u001b[39m\u001b[38;5;124m\"\u001b[39m, ve)\n",
      "\u001b[0;31mAttributeError\u001b[0m: 'CustomError' object has no attribute 'error_code'"
     ]
    }
   ],
   "source": [
    "# Custom exception class\n",
    "class CustomError(Exception):\n",
    "    def __init__(self, message):\n",
    "        super().__init__(message)\n",
    "        #self.error_code = 1001\n",
    "def custom_function(x):\n",
    "    if x < 0:\n",
    "        raise CustomError(\"Input cannot be negative.\")\n",
    "try:\n",
    "    num = int(input(\"Enter a positive number: \"))\n",
    "    custom_function(num)\n",
    "except CustomError as ce:\n",
    "    print(\"Custom Error occurred:\", ce)\n",
    "    print(\"Error Code:\", ce.error_code)\n",
    "except ValueError as ve:\n",
    "    print(\"Value Error occurred:\", ve)\n",
    "except Exception as e:\n",
    "    print(\"An unknown error occurred:\", e)"
   ]
  },
  {
   "cell_type": "markdown",
   "id": "b5077a0f-cfa7-4c70-a479-93095d37beff",
   "metadata": {},
   "source": [
    "#### <span style=\"color: #ff0000;\">Question 4 : What are some common exceptions that are built-in to Python?\n",
    "**<span style=\"font-size:larger;\">Answer 4</span>** :The except block specifies the type of exception we want to catch. If an exception of that type(or its subclass) is raised in the try block, the code inside the except block will excecuted and from here we can catch some specific type of exceptions. Some most common type of exceptions are:"
   ]
  },
  {
   "cell_type": "markdown",
   "id": "b29485ef-1fae-4893-a0b4-c0d0d3a8f8cc",
   "metadata": {},
   "source": [
    "<p><code>ZeroDivisionError</code> : It's occurs when in any airthmatic operation result is coming undefined or modulo in operation become 0. Like we have operation a/b and b become zero then we face this kind exception.</p>\n",
    "<p><code>TypeError</code> : Raised when an operation or function is applied to an object of inappropriate type like we are trying to add int with string directly or we are using int type where we need to use float type ariables.</p>\n",
    "<p><code>ValueError</code> : Raised when a built-in operation or function recives an argument that has the right type but an inappropriate value.</p>\n",
    "<p><code>IndexError</code> : Raised when a sequence subscript is out of range.</p>\n",
    "<p><code>KeyError</code> : Raised when a dictionary key is not found.</p>\n",
    "<p><code>FileNotFoundError</code> : Raised when a file or directry is requested but dosen't exist or dosen't exist at given address.</p>\n",
    "<p><code>IOError</code> : Riased when an I/O operation (such as a print statement, the buit-in open() function or a method of file object) fails for I/O- related reason.   </p>\n",
    "<p><code>ImportError</code> : Raised when a import statement fails to find the module defination or hen a <code>from .... import</code> fails to find ba name that is to be impoerted.</p>\n",
    "<p><code>MemoryError</code> : Raised when an operation runs out of memory.</p>\n",
    "<p><code>OverFlowError</code> : Raised when the result of an arithmetic operations is too large to be expressed by the normal number format.</p>\n",
    "<p><code>AttributeError</code> : Raised when an attribute reference or assignment falls.</p>\n",
    "<p><code>SyntaxError</code> : Raised when the parser encounter a syntax error.</p>\n",
    "<p><code>IndentationError</code> : Raised when there is incorrect indentation.</p>"
   ]
  },
  {
   "cell_type": "markdown",
   "id": "030b0485-3266-45c0-b46f-ac32a2a3a7ed",
   "metadata": {},
   "source": [
    "#### <span style=\"color: #ff0000;\">Question 5 : What is logging in Python, and why is it important in software development?\n",
    "**<span style=\"font-size:larger;\">Answer 5</span>** : Logging in python allow us to record and store messages at diffrent severity levels during the execution of our program. It's a powerful tool for understanding the flow of our code, diagonising issues, and monitoring the behaviour of our application."
   ]
  },
  {
   "cell_type": "markdown",
   "id": "e3f8a6c4-10a1-4271-9676-f60768e69c47",
   "metadata": {},
   "source": [
    " Logging is an essential aspect of software development and is vital for several reasons:\n",
    "\n",
    "**Troubleshooting and Debugging** : When a program encounters errors or unexpected behavior, logging can be instrumental in diagnosing and debugging issues. Developers can add log statements at critical points in the code to track the flow of execution, inspect variable values, and identify the cause of problems.\n",
    "\n",
    "**Monitoring and Performance Analysis** : In larger applications and production environments, logging allows developers and system administrators to monitor the application's health and performance. By analyzing log data, they can identify bottlenecks, assess resource utilization, and make informed decisions to optimize the application.\n",
    "\n",
    "**Audit Trails and Compliance** : In some applications, logging plays a crucial role in maintaining audit trails. This is especially important in sensitive systems where regulatory compliance is required, as logs can record who accessed what information and when.\n",
    "\n",
    "**Version Releases and Maintenance** : During software development and maintenance, logs help developers track changes and ensure that new features or fixes do not introduce unexpected problems.\n",
    "\n",
    "**User Feedback and Interaction** : In applications that involve user interactions, logging can provide insights into user behaviors, preferences, and error patterns. This information can be invaluable for improving user experiences and making data-driven decisions.\n",
    "\n",
    "**Production Support and Error Reporting** : In production environments, logging helps support teams quickly identify issues and troubleshoot problems reported by end-users. Log messages provide valuable information for understanding the context in which errors occurred."
   ]
  },
  {
   "cell_type": "markdown",
   "id": "dad76e8a-2953-4854-8527-c047a0c637a9",
   "metadata": {},
   "source": [
    "#### <span style=\"color: #ff0000;\">Question 6 : Explain the purpose of log levels in Python logging and provide examples of when each log level would be appropriate.\n",
    "**<span style=\"font-size:larger;\">Answer 6</span>** : Log levels in Python logging are used to categorize log messages based on their severity or importance. Python's logging module provides a range of predefined log levels, each representing a different severity level. The available log levels, in increasing order of severity, are:"
   ]
  },
  {
   "cell_type": "markdown",
   "id": "d76f002c-c6b2-4699-a118-056b06fa7fa2",
   "metadata": {},
   "source": [
    "**DEBUG** : Detailed information, typically used during development and debugging. It provides the most detailed log output.              \n",
    "   1. Example: Logging the values of variables during a specific loop to investigate a problem.           \n",
    "           2. Usage: Useful during development and debugging to track the flow of execution and inspect intermediate results.                                                 "
   ]
  },
  {
   "cell_type": "markdown",
   "id": "fdc0b706-fe5e-401a-9e0e-f0f70cb3472d",
   "metadata": {},
   "source": [
    "**INFO** : General information about the program's execution, useful for tracking the flow of execution and major events.\n",
    "   1. Example: Logging when a server starts or when a specific operation is successfully completed.                      \n",
    "    2. Usage: Used to provide general information about the application's execution, significant events, and milestones."
   ]
  },
  {
   "cell_type": "markdown",
   "id": "8272f983-34df-4688-b3dc-7e3c067b2aa8",
   "metadata": {},
   "source": [
    "**WARNING** : Indicates potential issues or unexpected behavior that do not necessarily cause the program to fail but may require attention.              \n",
    "  1. Example: Logging a warning message when an operation falls back to a default value.                 \n",
    "    2. Usage: Indicates potential issues that do not halt the program but might require attention to avoid future problems."
   ]
  },
  {
   "cell_type": "markdown",
   "id": "e9c8e677-b624-4fc2-bd15-10623ad4a9b3",
   "metadata": {},
   "source": [
    "**ERROR** : Indicates errors that cause the program to fail or encounter issues that need immediate attention.\n",
    "   1. Example: Logging an error when a required configuration file is missing, causing the program to fail.                           \n",
    "     2. Usage: Indicates errors that cause the program to fail or encounter issues that need immediate attention for proper functioning."
   ]
  },
  {
   "cell_type": "markdown",
   "id": "358d3afe-c224-4701-829a-d6fcca5c0238",
   "metadata": {},
   "source": [
    "**CRITICAL** : The highest level of severity, used for critical errors that may lead to the termination of the program or significant failures.             \n",
    "   1. Example: Logging a critical error when a database connection fails, and the program cannot proceed.                  \n",
    "     2. Usage: Reserved for the most severe errors that may lead to the termination of the program or significant failures."
   ]
  },
  {
   "cell_type": "markdown",
   "id": "7c8b845b-d674-488f-9063-1ff6e9dd6624",
   "metadata": {},
   "source": [
    "#### <span style=\"color: #ff0000;\">Question 7 :What are log formatters in Python logging, and how can you customise the log message format using formatters?\n",
    "**<span style=\"font-size:larger;\">Answer 7</span>** : Log formatters in Python logging are used to customize the appearance and structure of log messages. They allow developers to control the format of log entries by specifying how the log records should be presented in the log output. and to custmize we can follow these steps ."
   ]
  },
  {
   "cell_type": "code",
   "execution_count": null,
   "id": "634643a9-b7a2-40e3-b6d5-8d1fa57df0c4",
   "metadata": {},
   "outputs": [],
   "source": [
    "import logging # importing logging module\n",
    "\n",
    "logger=logging.getLogger(__name__) # defining logger : default it is root but with this logger will be __main__\n",
    "logger.setLevel(logging.DEBUG) # To set te level of logging\n",
    "formatter = logging.Formatter(\"%(asctime)s : %(name)s : %(levelname)s: %(message)s\") # to define formate of log ,masseges\n",
    "\n",
    "file_handler = logging.FileHandler(\"logging2.log\") # defining file to save log masseges\n",
    "file_handler.setFormatter(formatter) # aloting formatter to logger\n",
    "logger.addHandler(file_handler) # adding handler to logger"
   ]
  },
  {
   "cell_type": "markdown",
   "id": "37ea2a40-ef30-4230-98b6-f4adcd805983",
   "metadata": {},
   "source": [
    "#### <span style=\"color: #ff0000;\">Question 8 : How can you set up logging to capture log messages from multiple modules or classes in a Python application?\n",
    "**<span style=\"font-size:larger;\">Answer 8</span>** : To capture log messages from multiple modules or classes in a Python application, we can set up logging with a shared logger that will be used across the entire application. This shared logger will handle log messages from different parts of the code, making it easier to manage and control the logging behavior. "
   ]
  },
  {
   "cell_type": "code",
   "execution_count": null,
   "id": "bc607408-a1aa-40ef-ab4e-b97fab03cfe3",
   "metadata": {},
   "outputs": [],
   "source": [
    "# main.py\n",
    "import logging\n",
    "\n",
    "# Step 1: Create a shared logger\n",
    "shared_logger = logging.getLogger('my_shared_logger')\n",
    "shared_logger.setLevel(logging.DEBUG)\n",
    "\n",
    "# Step 2: Configure log handlers and formatters\n",
    "console_handler = logging.StreamHandler()\n",
    "log_formatter = logging.Formatter('%(asctime)s - %(name)s - %(levelname)s - %(message)s')\n",
    "console_handler.setFormatter(log_formatter)\n",
    "shared_logger.addHandler(console_handler)\n",
    "\n",
    "# Step 5: In each module or class, use the shared logger to log messages\n",
    "# module1.py\n",
    "import logging\n",
    "\n",
    "# Step 1: Import the shared logger\n",
    "from main import shared_logger\n",
    "\n",
    "def do_something():\n",
    "    # Step 5: Use the shared logger to log messages\n",
    "    shared_logger.debug('Doing something in module1')\n",
    "\n",
    "# module2.py\n",
    "import logging\n",
    "\n",
    "# Step 1: Import the shared logger\n",
    "from main import shared_logger\n",
    "\n",
    "def do_something_else():\n",
    "    # Step 5: Use the shared logger to log messages\n",
    "    shared_logger.debug('Doing something else in module2')\n",
    "\n",
    "# Usage in the main script\n",
    "if __name__ == \"__main__\":\n",
    "    from module1 import do_something\n",
    "    from module2 import do_something_else\n",
    "\n",
    "    do_something()\n",
    "    do_something_else()\n"
   ]
  },
  {
   "cell_type": "markdown",
   "id": "a6b173c5-63fc-4270-abc9-392b2bfe5f0e",
   "metadata": {},
   "source": [
    "#### <span style=\"color: #ff0000;\">Question 9 :What is the difference between the logging and print statements in Python? When should you use logging over print statements in a real-world application?\n",
    "**<span style=\"font-size:larger;\">Answer 9</span>** : On the basis of purpose and use cases we can distinguish use between logging and print statements .                         \n",
    "**Purpose** : Logging is primarily used for recording and storing messages during the execution of a program. It provides a structured way to output information about the program's behavior, state, and any issues that may arise and the other hand, Print statements are primarily used for immediate output to the console or standard output. They are a simple way to display information during program execution, especially for quick debugging or understanding what is happening in the code.\n",
    "**Use cases** : Logging is suitable for applications that require monitoring, debugging, error tracking, and performance analysis. It's especially useful in production environments, where print statements may not be appropriate due to their unstructured nature and potential performance impact. But Print statements are helpful during development and quick testing. They can be used for simple debugging tasks, checking variable values, and verifying program flow. However, print statements are generally not recommended for long-term debugging or real-world applications."
   ]
  },
  {
   "cell_type": "markdown",
   "id": "d5151216-b0cd-48ea-b13e-4f92a3aad721",
   "metadata": {},
   "source": [
    "When to use logging over print statements in a real-world application:\n",
    "\n",
    "***Logging Provides Structured Output*** : Logging allows you to categorize log messages based on their severity levels, organize log records with timestamps, and include additional context information. This structured output makes it easier to analyze and monitor the application's behavior in various scenarios.\n",
    "\n",
    "***Control Over Log Levels***: With logging, you can specify different log levels (e.g., DEBUG, INFO, WARNING, ERROR, CRITICAL) and control which log messages should be captured. This level of control allows you to adjust the amount of detail in the log output depending on the application's deployment environment.\n",
    "\n",
    "***Flexibility in Log Destinations***: Logging allows you to direct log messages to various destinations like files, the console, a network, or external logging services. This flexibility allows for centralized log management and analysis.\n",
    "\n",
    "***Performance Impact***: In real-world applications, excessive print statements can significantly impact performance, especially in production environments. Logging provides better performance, and you can disable or modify logging as needed without changing the code.\n",
    "\n",
    "***Security and Compliance***: For applications that require audit trails or comply with security standards, logging is a more appropriate choice as it offers better control and security over log messages."
   ]
  },
  {
   "cell_type": "markdown",
   "id": "c24614b5-cefb-4738-a664-bb330eca5a90",
   "metadata": {},
   "source": [
    "#### <span style=\"color: #ff0000;\">Question 10 : Write a Python program that logs a message to a file named \"app.log\" with the                            \n",
    "following requirements:                      \n",
    "● The log message should be \"Hello, World!\"                    \n",
    "● The log level should be set to \"INFO.\"                                       \n",
    "● The log file should append new log entries without overwriting previous ones.                       \n",
    "**<span style=\"font-size:larger;\">Answer 10</span>** : "
   ]
  },
  {
   "cell_type": "code",
   "execution_count": 2,
   "id": "1f957b0a-964e-4cd7-b1b9-e3db5ea9cb68",
   "metadata": {},
   "outputs": [],
   "source": [
    "import logging\n",
    "\n",
    "def setup_logger():\n",
    "    # Create a logger\n",
    "    logger = logging.getLogger('my_logger')\n",
    "    logger.setLevel(logging.INFO)\n",
    "    file_handler = logging.FileHandler('app.log', mode='a')\n",
    "    log_formatter = logging.Formatter('%(asctime)s - %(levelname)s - %(message)s')\n",
    "    file_handler.setFormatter(log_formatter)\n",
    "    logger.addHandler(file_handler)\n",
    "    return logger\n",
    "\n",
    "def main():\n",
    "    logger = setup_logger()\n",
    "    logger.info(\"Hello, World!\") # Log the message\n",
    "\n",
    "if __name__ == \"__main__\":\n",
    "    main()"
   ]
  },
  {
   "cell_type": "markdown",
   "id": "1d7eced1-ac66-4299-971c-b4d81754381a",
   "metadata": {},
   "source": [
    "#### <span style=\"color: #ff0000;\">Question 11 : Create a Python program that logs an error message to the console and a file named \"errors.log\" if an exception occurs during the program's execution. The error message should include the exception type and a timestamp.\n",
    "**<span style=\"font-size:larger;\">Answer 11</span>** :"
   ]
  },
  {
   "cell_type": "code",
   "execution_count": 3,
   "id": "bca3ce9c-7630-41fa-957f-c26da9d20e3e",
   "metadata": {},
   "outputs": [
    {
     "name": "stderr",
     "output_type": "stream",
     "text": [
      "ERROR:root:Error occurred: ValueError, This is a sample exception.\n",
      "ERROR:error_logger:Error occurred: ValueError, This is a sample exception.\n",
      "ERROR:error_logger:Traceback (most recent call last):\n",
      "  File \"/tmp/ipykernel_83/1303587463.py\", line 18, in main\n",
      "    raise ValueError(\"This is a sample exception.\")\n",
      "ValueError: This is a sample exception.\n",
      "\n"
     ]
    }
   ],
   "source": [
    "import logging\n",
    "import traceback\n",
    "import sys\n",
    "\n",
    "def setup_logger():\n",
    "    logger = logging.getLogger('error_logger')\n",
    "    logger.setLevel(logging.ERROR)\n",
    "    file_handler = logging.FileHandler('errors.log', mode='a')\n",
    "    log_formatter = logging.Formatter('%(asctime)s - %(levelname)s - %(message)s')\n",
    "    file_handler.setFormatter(log_formatter)\n",
    "    logger.addHandler(file_handler)\n",
    "    return logger\n",
    "\n",
    "def main():\n",
    "    logger = setup_logger()\n",
    "\n",
    "    try:\n",
    "        raise ValueError(\"This is a sample exception.\")\n",
    "    except Exception as e:\n",
    "        # Log the exception message to the console\n",
    "        logging.error(f\"Error occurred: {e.__class__.__name__}, {e}\")\n",
    "\n",
    "        # Log the exception message and traceback to the file\n",
    "        logger.error(f\"Error occurred: {e.__class__.__name__}, {e}\")\n",
    "        logger.error(traceback.format_exc())\n",
    "\n",
    "if __name__ == \"__main__\":\n",
    "    main()"
   ]
  }
 ],
 "metadata": {
  "kernelspec": {
   "display_name": "Python 3 (ipykernel)",
   "language": "python",
   "name": "python3"
  },
  "language_info": {
   "codemirror_mode": {
    "name": "ipython",
    "version": 3
   },
   "file_extension": ".py",
   "mimetype": "text/x-python",
   "name": "python",
   "nbconvert_exporter": "python",
   "pygments_lexer": "ipython3",
   "version": "3.10.6"
  }
 },
 "nbformat": 4,
 "nbformat_minor": 5
}
