{
 "cells": [
  {
   "cell_type": "markdown",
   "id": "e2718d78-b9c3-4e14-95ef-f250672aaf4e",
   "metadata": {},
   "source": [
    "# Assignment 1\n",
    "#### <p><span style=\"color: #ff0000;\">Question 1 : In the below elements which of them are values or an expression? eg:- values can be integer or string and expressions will be mathematical operators.\n",
    "#### Answer 1 :"
   ]
  },
  {
   "cell_type": "markdown",
   "id": "458ee8db-31ca-433e-8438-15fb7132a1b5",
   "metadata": {},
   "source": [
    "    __________________________\n",
    "    | Elements | Answer      |\n",
    "    |----------|-------------|\n",
    "    | *        | Expression  |\n",
    "    |----------|-------------|\n",
    "    | 'hello'  | Value       | \n",
    "    |----------|-------------|\n",
    "    | -87.8    | Value       |\n",
    "    |----------|-------------|\n",
    "    |    -     | Expression  |\n",
    "    |----------|-------------|\n",
    "    |    /     | Expression  |\n",
    "    |----------|-------------|\n",
    "    |    +     | Expression  |\n",
    "    |----------|-------------|\n",
    "    |    6     | Value       |\n",
    "    |__________|_____________|\n"
   ]
  },
  {
   "cell_type": "markdown",
   "id": "f4910654-6a11-412b-8fde-4986e4438c9c",
   "metadata": {},
   "source": [
    "#### <p><span style=\"color: #ff0000;\"> Question 2 : What is the difference between string and variable?\n",
    "#### Answer 2 : Difference between String and Variable :\n",
    "    _____________________________________________________________________________\n",
    "    |             Variable               |               String                 |\n",
    "    |------------------------------------|--------------------------------------|\n",
    "    | Variable is a named location used  | String is a data type used to        |\n",
    "    | to store data in memory.           | represent a sequence of characters.  |\n",
    "    |------------------------------------|--------------------------------------|\n",
    "    | Variables are declared by writing  | String is typically enclosed within  |\n",
    "    | the variable names and assingning  | quotation marks (single or double).  | \n",
    "    | it a value the equals sign(=).     |                                      |\n",
    "    |------------------------------------|--------------------------------------|\n",
    "    | Variable can have any kind of data | String is itself a data-type.        |\n",
    "    | type.                              |                                      |\n",
    "    |____________________________________|______________________________________|\n",
    " <p>Example : X = \"Joe Toe\" </p>\n",
    " <p> Here X is a variable have data-type string and \"Joe Toe\" is string which is collection of  6 characters with 1 space. <p>\n",
    "     \n",
    "    "
   ]
  },
  {
   "cell_type": "markdown",
   "id": "bd99e815-1e96-485b-8441-db6ade3c0b8e",
   "metadata": {},
   "source": [
    "#### <p><span style=\"color: #ff0000;\"> Question 3 : Describe three different data types.\n",
    "#### Answer 3 : Three diffrent kind of data-types :"
   ]
  },
  {
   "cell_type": "markdown",
   "id": "84c703d5-3df4-410c-9306-6c43329654cf",
   "metadata": {},
   "source": [
    "1. Integer (int): The integer data type represents whole numbers without fractional or decimal parts and It can be positive or negative. Examples : 1, 56, -43. Integers are defined without a decimal point, and we can perform a lot airthmatic operations on integers.\n",
    "2. String (str): The string data type represents a sequence of characters enclosed in single quotes ('') or double quotes (\"\"). Strings can contain letters, numbers, symbols, and whitespace. Examples: \"Hello, world!\", \"iNeuron\", \"12345\" etc. Strings are immutable, which means we cannot change a character within a string directly, but we can perform various operations on them, such as concatenation, slicing, and formatting. \n",
    "3. Boolean (bool): The boolean data type represents a binary value that can be either True or False. Booleans are useful for logical operations and comparisons. They are often the result of conditional statements. Example : 5 > 3 would evaluate to True, while 10 == 7 would evaluate to False. Booleans are frequently used in control flow and decision-making structures, like if statements and while loops."
   ]
  },
  {
   "cell_type": "markdown",
   "id": "241ea73c-5bd1-42d6-a47c-32b68638a23c",
   "metadata": {
    "tags": []
   },
   "source": [
    "#### <p><span style=\"color: #ff0000;\"> Question 4 : What is an expression made up of? What do all expressions do?\n",
    "#### Answer 4:\n",
    "Expressions are fundamental building blocks used to perform operations, make decisions, and manipulate data. They are an essential part of the language and are used extensively in programming. Expression is combination of values, variables, operators, and function calls that evaluates to a single value. It can be as simple as a single value or as complex as a combination of multiple operations. Expressions are used to perform computations and produce results.\n",
    "\n",
    "\n"
   ]
  },
  {
   "cell_type": "markdown",
   "id": "33fa3f4e-2d6e-4684-8822-664e6b23b2ca",
   "metadata": {},
   "source": [
    "#### <p><span style=\"color: #ff0000;\"> Question 5 : This assignment statements, like spam = 10. What is the difference between an expression and a statement?\n",
    "#### Answer 5 : Diffrence Between an expersion and a statement :\n",
    "    _________________________________________________________________________________\n",
    "    |            Expression             |                  Statement                |\n",
    "    |-----------------------------------|-------------------------------------------|\n",
    "    | Purpose of Expression is Compute  | Purpose of statement is Perform an action,|\n",
    "    | a value.                          | control flow, or define structures.       |\n",
    "    |-----------------------------------|-------------------------------------------|\n",
    "    |      Always has a value           |        Does not have a value              |\n",
    "    |-----------------------------------|-------------------------------------------|\n",
    "    |  evaluated to produce a single    |  Used to control the flow of a program,   |\n",
    "    |  value.                           |  modify variables, or define structures.  |\n",
    "    |-----------------------------------|-------------------------------------------|\n",
    "    | Can be used anywhere a value is   |      Used as complete instructions        |\n",
    "    | expected.                         |                                           |\n",
    "    |-----------------------------------|-------------------------------------------|\n",
    "    | Can be part of larger expressions.| Can include expressions or other          | \n",
    "    |                                   | statements.                               |\n",
    "    |___________________________________|___________________________________________|\n",
    "    "
   ]
  },
  {
   "cell_type": "markdown",
   "id": "5318956b-2e95-44fa-bcad-ae9f2246adf4",
   "metadata": {},
   "source": [
    "#### <p><span style=\"color: #ff0000;\">Question 6 : After running the following code, what does the variable bacon contain?\n",
    "#### bacon = 22\n",
    "#### bacon + 1\n",
    "#### Answer :"
   ]
  },
  {
   "cell_type": "code",
   "execution_count": 12,
   "id": "054aeca1-4194-4425-9314-67ef76d45cd0",
   "metadata": {},
   "outputs": [
    {
     "name": "stdout",
     "output_type": "stream",
     "text": [
      " After running above code, variable bacon will contain 22 value, means the operation \n",
      " 'bacon + 1' will be excected but the value of bacon will not update and for update \n",
      " the value the expresion should be 'bacon = bacon +1' then we will get 23 value \n",
      " conatin by the bacon variable.\n"
     ]
    }
   ],
   "source": [
    "bacon =22\n",
    "bacon +1\n",
    "\n",
    "print(f\" After running above code, variable bacon will contain {bacon} value, means the operation \\n 'bacon + 1' will be excected but the value of bacon will not update and for update \\n the value the expresion should be 'bacon = bacon +1' then we will get 23 value \\n conatin by the bacon variable.\")"
   ]
  },
  {
   "cell_type": "markdown",
   "id": "ff2ff336-c233-412c-90f2-99ecdbf55e3a",
   "metadata": {},
   "source": [
    "#### <p><span style=\"color: #ff0000;\">Question 7 : What should the values of the following two terms be?\n",
    "#### 'spam' + 'spamspam' | Output : 'spamspamspam'\n",
    "#### 'spam' * 3  | Output : 'spamspamspam'"
   ]
  },
  {
   "cell_type": "markdown",
   "id": "b36d4f23-d69d-44f8-857e-9b172719c949",
   "metadata": {},
   "source": [
    "#### <p><span style=\"color: #ff0000;\">Question 8 : Why is eggs a valid variable name while 100 is invalid?\n",
    "#### Answer 8 : The \"eggs\" is a valid variable name while \"100\" is invalid because variable names have certain rules and conventions that determine their validity. Variable names must start with a letter a-z or A-Z or underscore (_). They cannot begin with a digit (0-9)."
   ]
  },
  {
   "cell_type": "markdown",
   "id": "8e61a847-36e6-4425-96d8-4b1ad8e20723",
   "metadata": {},
   "source": [
    "#### <p><span style=\"color: #ff0000;\"> Question 9 : What three functions can be used to get the integer, floating-point number, or string version of a value?\n",
    "#### Answer 9 : To convert a value to different data types in Python, we can use many diffrent-diffrent function :\n",
    " "
   ]
  },
  {
   "cell_type": "markdown",
   "id": "e163aecf-bcb3-47ce-96d0-874f24e47f88",
   "metadata": {},
   "source": [
    "***int()***: This function is used to convert a value to an integer. It can take strings, floating-point numbers, or even other integers, and return an integer representation of the value. If the input cannot be converted to an integer, it will raise a ValueError and example : "
   ]
  },
  {
   "cell_type": "code",
   "execution_count": 13,
   "id": "eb38321e-8a48-44c4-80b8-f62e6960ed75",
   "metadata": {},
   "outputs": [
    {
     "name": "stdout",
     "output_type": "stream",
     "text": [
      "<class 'str'> <class 'int'>\n"
     ]
    }
   ],
   "source": [
    "x = \"5\"\n",
    "y = int(x)\n",
    "print(type(x),type(y)) "
   ]
  },
  {
   "cell_type": "markdown",
   "id": "bcb1c7bc-2370-49b0-952e-3dc301c1aad9",
   "metadata": {},
   "source": [
    "***float()***: This function is used to convert a value to a floating-point number. It works similarly to int(), but it converts the input to a float instead of an integer. Like int(), if the input cannot be converted to a float, it will raise a ValueError. Here's an example:"
   ]
  },
  {
   "cell_type": "code",
   "execution_count": 14,
   "id": "561b0b59-5f98-4472-908c-59cdd50e38d5",
   "metadata": {},
   "outputs": [
    {
     "name": "stdout",
     "output_type": "stream",
     "text": [
      "<class 'str'> <class 'float'>\n"
     ]
    }
   ],
   "source": [
    "value = \"3.14\"\n",
    "float_value = float(value)\n",
    "print(type(value),type(float_value)) \n"
   ]
  },
  {
   "cell_type": "markdown",
   "id": "1f9ffa1c-e645-48a9-9280-b03bcac10d3d",
   "metadata": {},
   "source": [
    "***str()***: This function is used to convert a value to a string. It takes any value and returns its string representation. If the value is already a string, it will simply return the value itself. Here's an example:"
   ]
  },
  {
   "cell_type": "code",
   "execution_count": 15,
   "id": "6341347c-cc0b-4bd8-bd7f-edbb3353b6e1",
   "metadata": {},
   "outputs": [
    {
     "name": "stdout",
     "output_type": "stream",
     "text": [
      "<class 'int'> <class 'str'>\n"
     ]
    }
   ],
   "source": [
    "value = 42\n",
    "string_value = str(value)\n",
    "print(type(value),type(string_value)) \n"
   ]
  },
  {
   "cell_type": "markdown",
   "id": "bec7cb32-dafe-41fc-94c9-fdf95be2ed88",
   "metadata": {},
   "source": [
    "#### Question 10 : Why does this expression cause an error? How can you fix it?\n",
    "\"I have eate\" + 99 + \"burritos\"\n",
    "#### Answer 10 :\n",
    "\"I have eaten\" and \"buritos\" are string type and 99 is an integer and here \"+\" is a airthmatic operator which be used for string concatination as well as addition of to numbers and we cannot concatenate a string and an integer without converting the integer to a string first. So to fix it we can convert 99 (integer) to \"99\" string and then we can concate all these strings :"
   ]
  },
  {
   "cell_type": "code",
   "execution_count": 16,
   "id": "913f17fc-682b-466b-ac5c-a7a2611d067b",
   "metadata": {},
   "outputs": [
    {
     "name": "stdout",
     "output_type": "stream",
     "text": [
      "I have eaten 99 burritos\n"
     ]
    }
   ],
   "source": [
    "print(\"I have eaten \" + str(99) + \" burritos\")"
   ]
  }
 ],
 "metadata": {
  "kernelspec": {
   "display_name": "Python 3 (ipykernel)",
   "language": "python",
   "name": "python3"
  },
  "language_info": {
   "codemirror_mode": {
    "name": "ipython",
    "version": 3
   },
   "file_extension": ".py",
   "mimetype": "text/x-python",
   "name": "python",
   "nbconvert_exporter": "python",
   "pygments_lexer": "ipython3",
   "version": "3.10.6"
  }
 },
 "nbformat": 4,
 "nbformat_minor": 5
}
