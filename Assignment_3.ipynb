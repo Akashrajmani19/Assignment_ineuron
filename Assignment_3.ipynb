{
 "cells": [
  {
   "cell_type": "markdown",
   "id": "1af4c022-4381-40fe-ad31-c5b9b1979cf6",
   "metadata": {},
   "source": [
    "# Assignment 3"
   ]
  },
  {
   "cell_type": "markdown",
   "id": "0bb74a2b-912c-44c6-ae72-74e1fafcaee9",
   "metadata": {},
   "source": [
    "#### <span style=\"color: #ff0000;\">Question 1 : Why are functions advantageous to have in your programs?\n",
    "**<span style=\"font-size:larger;\">Answer 1</span>** : Functions are advantageous to have in programs for several reasons:           \n",
    "1. Reusability : Instead of writing the same code over and over again, we can define a function once and call it whenever needed. This promotes code reuse, improves maintainability, and reduces redundancy.\n",
    "2. Modularity : Functions break down complex programs into smaller, manageable chunks. Each function can represent a specific task or subtask within the program.    \n",
    "3. Code organization and maintainability : Functions help in structuring the codebase by providing a logical and organized way to group related functionality. With functions, we can divide your program into smaller, self-contained units, making it easier to navigate, debug, and maintain. If a bug or issue is found, we can focus on a specific function rather than searching through the entire program.      \n",
    "4. Code readability: Functions make the code more readable and self-explanatory. By using descriptive function names and properly defining the function's purpose, we can convey the intention of the code more effectively. This aids in understanding the program's functionality, even for someone who didn't write the code."
   ]
  },
  {
   "cell_type": "markdown",
   "id": "f5fb3f55-dedc-4173-af89-de619bf88431",
   "metadata": {},
   "source": [
    "#### <span style=\"color: #ff0000;\">Question 2 : When does the code in a function run: when it's specified or when it's called?"
   ]
  },
  {
   "cell_type": "markdown",
   "id": "6f82cfeb-ade4-4799-a590-93b25e8f502e",
   "metadata": {},
   "source": [
    "**<span style=\"font-size:larger;\">Answer 2</span>** : The code inside a function runs when the function is called, not when it is specified or defined.\n"
   ]
  },
  {
   "cell_type": "markdown",
   "id": "0b78594f-589b-4087-94e8-c41d4ffb330c",
   "metadata": {},
   "source": [
    "#### <span style=\"color: #ff0000;\">Question 3 : What statement creates a function?\n",
    "**<span style=\"font-size:larger;\">Answer 3</span>** : In Python, the specific keyword used to create a function is def and the general syntax to create a function in Python is as follows:"
   ]
  },
  {
   "cell_type": "code",
   "execution_count": null,
   "id": "ef064bfc-0f91-4eac-ae1d-7929d72729fc",
   "metadata": {},
   "outputs": [],
   "source": [
    "def function_name(parameters):\n",
    "    # Function body\n",
    "    # Statements\n",
    "    # Return statement (optional)"
   ]
  },
  {
   "cell_type": "markdown",
   "id": "0369aaf3-ab16-4a8f-9cc3-df81fc0a0d9a",
   "metadata": {
    "jp-MarkdownHeadingCollapsed": true,
    "tags": []
   },
   "source": [
    "#### <span style=\"color: #ff0000;\">Question 4 : What is the difference between a function and a function call?\n",
    "**<span style=\"font-size:larger;\">Answer 4</span>** : A function and a function call are related but represent different concepts in programming.            \n",
    "A function is a named block of code that performs a specific task or set of instructions. It encapsulates a series of operations and may take inputs as parameters and produce an output as return value. Functions are defined to provide reusability and modularity in a program. They are created using a function definition statement, such as def in Python, and contain the code that will be executed when the function is called.                \n",
    "On the other hand, a function call is an instruction that tells the program to execute a specific function at a certain point in the code. It invokes the execution of the function and passes any required arguments (values) to the function if it expects parameters. When a function is called, the program temporarily pauses its execution, jumps to the function's code block, executes the instructions within the function, and then returns to the point where the function was called to continue executing the remaining code.        \n",
    "\n",
    "    "
   ]
  },
  {
   "cell_type": "markdown",
   "id": "96afa73d-8144-423a-b5d4-f92c1e977990",
   "metadata": {
    "tags": []
   },
   "source": [
    "#### <span style=\"color: #ff0000;\">Question 5 : How many global scopes are there in a Python program? How many local scopes?\n",
    "**<span style=\"font-size:larger;\">Answer 5</span>** : There is one global scope in a Python program but local scopes are created whenever a function is called or when entering a nested block, the number of local scopes depends on the number of function calls and nested blocks in the program.\n",
    "        \n",
    "    "
   ]
  },
  {
   "cell_type": "markdown",
   "id": "2661cbd0-1d25-4440-a0fd-b6eabb3a8c9d",
   "metadata": {},
   "source": [
    "#### <span style=\"color: #ff0000;\">Question 6 : What happens to variables in a local scope when the function call returns?\n",
    "**<span style=\"font-size:larger;\">Answer 6</span>** : When a function call returns, the local scope associated with that function is destroyed, and the variables within it cease to exist. This process is known as \"variable cleanup\" or \"variable destruction.\""
   ]
  },
  {
   "cell_type": "markdown",
   "id": "b509430e-f40a-4923-9c4e-70a0bf067dec",
   "metadata": {
    "tags": []
   },
   "source": [
    "#### <span style=\"color: #ff0000;\">Question 7 : What is the concept of a return value? Is it possible to have a return value in an expression?\n",
    "**<span style=\"font-size:larger;\">Answer 7</span>** : A return value in programming is the value that a function sends back to the caller when it completes its execution. It serves as a way for the function to provide a result or output that can be utilized by the calling code. By using a return statement, a function can send a specific value back to the caller, allowing further computation or actions to be based on that result.      \n",
    "Regarding the possibility of having a return value in an expression in Python, yes, it is possible. In Python, you can use a function call directly in an expression and use the returned value as part of that expression. For example:"
   ]
  },
  {
   "cell_type": "code",
   "execution_count": null,
   "id": "c06bc666-7a9e-4813-b6c3-be3057fadd84",
   "metadata": {},
   "outputs": [],
   "source": [
    "def square(x):\n",
    "    return x ** 2\n",
    "\n",
    "result = square(3) + square(4) # So here, square(3) and square(4) are return values from square() function."
   ]
  },
  {
   "cell_type": "markdown",
   "id": "f3706eb9-c70a-4183-91db-6cb859ee9730",
   "metadata": {},
   "source": [
    "#### <span style=\"color: #ff0000;\"> Question 8 : If a function does not have a return statement, what is the return value of a call to that function?\n",
    "**<span style=\"font-size:larger;\">Answer 8</span>** : If a function does not have a return statemen then the function will automatically return a special value called None."
   ]
  },
  {
   "cell_type": "markdown",
   "id": "d58fb20c-70f1-45e2-adb6-71ea58e79a62",
   "metadata": {
    "tags": []
   },
   "source": [
    "#### <span style=\"color: #ff0000;\"> Question 9 : How do you make a function variable refer to the global variable?\n",
    "**<span style=\"font-size:larger;\">Answer 9</span>** : To make a function variable refer to the global variable of the same name, we can use the 'global' keyword within the function. This keyword informs that the variable being referenced is the global variable, rather than creating a new local variable within the function's scope."
   ]
  },
  {
   "cell_type": "code",
   "execution_count": 1,
   "id": "e5b894e5-aff7-49cd-be9d-df90c952bbb9",
   "metadata": {},
   "outputs": [
    {
     "name": "stdout",
     "output_type": "stream",
     "text": [
      "Before function call: 10\n",
      "After function call: 20\n"
     ]
    }
   ],
   "source": [
    "x = 10  # Global variable\n",
    "\n",
    "def modify_global_variable():\n",
    "    global x  # Declare x as a global variable\n",
    "    x = 20   # Update the value of the global variable\n",
    "\n",
    "print(\"Before function call:\", x)  \n",
    "\n",
    "modify_global_variable()\n",
    "print(\"After function call:\", x)  \n"
   ]
  },
  {
   "cell_type": "markdown",
   "id": "c2fdd836-1ea1-413f-8945-d0a8b4156314",
   "metadata": {},
   "source": [
    "#### <span style=\"color: #ff0000;\"> Question 10 : What is the data type of None?\n",
    "**<span style=\"font-size:larger;\">Answer 10</span>** : 'None' is a built-in constant and is considered a singleton object of the 'NoneType' data type."
   ]
  },
  {
   "cell_type": "code",
   "execution_count": 2,
   "id": "cc927d26-16d5-4480-8082-c3fd551a8ce5",
   "metadata": {},
   "outputs": [
    {
     "name": "stdout",
     "output_type": "stream",
     "text": [
      "<class 'NoneType'>\n"
     ]
    }
   ],
   "source": [
    "print(type(None))"
   ]
  },
  {
   "cell_type": "markdown",
   "id": "36ffde32-16dc-4312-87df-35b59b3b5b84",
   "metadata": {},
   "source": [
    "#### <span style=\"color: #ff0000;\"> Question 11 : What does the sentence 'import areallyourpetsnamederic' do?\n",
    "**<span style=\"font-size:larger;\">Answer 11</span>** : The import statement is used to bring modules or packages into the current program's namespace, allowing us to access their functionality. However, the sentence \"import areallyourpetsnamederic\" does not correspond to any existing module or package in Python.So, if we attempt to execute the sentence as a Python import statement, it will result in a 'ModuleNotFoundError' since there is no module named \"areallyourpetsnamederic\" available in the Python environment.\""
   ]
  },
  {
   "cell_type": "markdown",
   "id": "95ba104d-3b3e-4710-a5d0-8afec827b907",
   "metadata": {},
   "source": [
    "#### <span style=\"color: #ff0000;\"> Question 12 : If you had a bacon() feature in a spam module, what would you call it after importing spam?\n",
    "**<span style=\"font-size:larger;\">Answer 12</span>** : If i had a 'bacon()' feature in a spam module, i would be able to call it directly after importing the 'spam' module. The syntax to call the 'bacon()' function would be 'spam.bacon()'."
   ]
  },
  {
   "cell_type": "markdown",
   "id": "d5c23303-c68a-4251-a8dc-758c76bd1f19",
   "metadata": {},
   "source": [
    "#### <span style=\"color: #ff0000;\"> Question 13 : What can you do to save a programme from crashing if it encounters an error?\n",
    "**<span style=\"font-size:larger;\">Answer 13</span>** : To save a programme from crashing i will apply exception handling in my programme because exception handling in python allow us to handle and manage errors that occur during programme execution. It helps prevent our programme from crashing and provides a way to gracefully handle unexpected situations. This allows the progrmme to continue running(or terminate gracefully) even if an error occurs."
   ]
  },
  {
   "cell_type": "markdown",
   "id": "10702a1a-c3f0-4cbd-9531-ec25c67a2a05",
   "metadata": {},
   "source": [
    "#### <span style=\"color: #ff0000;\"> Question 14 : What is the purpose of the try clause? What is the purpose of the except clause?\n",
    "**<span style=\"font-size:larger;\">Answer 14</span>** : **Try clause** - The try clause is used to enclose the block of code that might raise an exception. The purpose of the try clause is to identify sections of code that may raise exceptions and handle them gracefully. When an exception occurs within the try block, the rest of the block is skipped, and the program execution jumps to the corresponding except block (if it exists) that can handle the specific exception.                              \n",
    "**Except clause** -  The except clause is used to specify the type of exception that it can handle. The purpose of the except clause is to provide a mechanism for handling specific exceptions or groups of exceptions in a controlled manner.\n"
   ]
  }
 ],
 "metadata": {
  "kernelspec": {
   "display_name": "Python 3 (ipykernel)",
   "language": "python",
   "name": "python3"
  },
  "language_info": {
   "codemirror_mode": {
    "name": "ipython",
    "version": 3
   },
   "file_extension": ".py",
   "mimetype": "text/x-python",
   "name": "python",
   "nbconvert_exporter": "python",
   "pygments_lexer": "ipython3",
   "version": "3.10.6"
  }
 },
 "nbformat": 4,
 "nbformat_minor": 5
}
