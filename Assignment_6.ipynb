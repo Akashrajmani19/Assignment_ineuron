{
 "cells": [
  {
   "cell_type": "markdown",
   "id": "1af4c022-4381-40fe-ad31-c5b9b1979cf6",
   "metadata": {},
   "source": [
    "# Assignment 6 "
   ]
  },
  {
   "cell_type": "markdown",
   "id": "0bb74a2b-912c-44c6-ae72-74e1fafcaee9",
   "metadata": {},
   "source": [
    "#### <span style=\"color: #ff0000;\">Question 1 : What are keywords in python? Using the keyword library, print all the python keywords.\n",
    "**<span style=\"font-size:larger;\">Answer 1</span>** : Keywords are reserved words which basically used as identifiers and have specific meaning and use case in python programming."
   ]
  },
  {
   "cell_type": "code",
   "execution_count": 1,
   "id": "64b141d9-2049-4385-8bdc-bc1374e20b1e",
   "metadata": {},
   "outputs": [
    {
     "name": "stdout",
     "output_type": "stream",
     "text": [
      "Key words in python are :  ['False', 'None', 'True', 'and', 'as', 'assert', 'async', 'await', 'break', 'class', 'continue', 'def', 'del', 'elif', 'else', 'except', 'finally', 'for', 'from', 'global', 'if', 'import', 'in', 'is', 'lambda', 'nonlocal', 'not', 'or', 'pass', 'raise', 'return', 'try', 'while', 'with', 'yield']\n"
     ]
    }
   ],
   "source": [
    "import keyword\n",
    "list1=keyword.kwlist\n",
    "print(\"Key words in python are : \" , list1)"
   ]
  },
  {
   "cell_type": "markdown",
   "id": "f5fb3f55-dedc-4173-af89-de619bf88431",
   "metadata": {},
   "source": [
    "#### <span style=\"color: #ff0000;\">Question 2 : What are the rules to create variables in python?"
   ]
  },
  {
   "cell_type": "markdown",
   "id": "6f82cfeb-ade4-4799-a590-93b25e8f502e",
   "metadata": {},
   "source": [
    "**<span style=\"font-size:larger;\">Answer 2</span>** : Rules to create a variable in python :                  \n",
    "1. Variable names must start with a letter (a-z, A-Z) or an underscore _.\n",
    "2. The first character of a variable name cannot be a digit (0-9).\n",
    "3. Variable names are case-sensitive, so myVariable and myvariable are considered different variables.\n",
    "4. Variable names can contain letters, digits, and underscores.\n",
    "5. Avoid using reserved keywords as variable names (e.g., if, while, for, etc.), as they have special meanings in Python.\n"
   ]
  },
  {
   "cell_type": "markdown",
   "id": "0b78594f-589b-4087-94e8-c41d4ffb330c",
   "metadata": {},
   "source": [
    "#### <span style=\"color: #ff0000;\">Question 3 : What are the standards and conventions followed for the nomenclature of variables in python to improve code readability and maintainability?\n",
    "**<span style=\"font-size:larger;\">Answer 3</span>** : There are several standards and conventions followed for the nomenclature of variables in python to improve code readability and maintainability.                           \n",
    "1. Choose variable names that clearly describe their purpose or content.\n",
    "2. Avoid single-letter names (except for simple loop variables).\n",
    "3. Use names that are self-explanatory and make the code easier to understand.\n",
    "4. Separate multiple words in a variable name with underscores.\n",
    "5. Do not use Python's reserved keywords (e.g., if, for, while, class, etc.) as variable names.\n",
    "6. Use uppercase letters with underscores to denote constants. \n",
    "7. Consistency in naming conventions across projects fosters a cohesive and unified codebase."
   ]
  },
  {
   "cell_type": "markdown",
   "id": "0369aaf3-ab16-4a8f-9cc3-df81fc0a0d9a",
   "metadata": {},
   "source": [
    "#### <span style=\"color: #ff0000;\">Question 4 : What will happen if a keyword is used as a variable name?\n",
    "**<span style=\"font-size:larger;\">Answer 4</span>** : If a keyword is used as a variable name in Python, it will result in a **syntax error**. "
   ]
  },
  {
   "cell_type": "code",
   "execution_count": 3,
   "id": "99de9df4-4fa8-40d2-bf6f-0677af8f27ee",
   "metadata": {},
   "outputs": [
    {
     "ename": "SyntaxError",
     "evalue": "invalid syntax (209242896.py, line 1)",
     "output_type": "error",
     "traceback": [
      "\u001b[0;36m  Cell \u001b[0;32mIn [3], line 1\u001b[0;36m\u001b[0m\n\u001b[0;31m    a=if\u001b[0m\n\u001b[0m      ^\u001b[0m\n\u001b[0;31mSyntaxError\u001b[0m\u001b[0;31m:\u001b[0m invalid syntax\n"
     ]
    }
   ],
   "source": [
    "a=if\n",
    "print(a)"
   ]
  },
  {
   "cell_type": "markdown",
   "id": "96afa73d-8144-423a-b5d4-f92c1e977990",
   "metadata": {
    "tags": []
   },
   "source": [
    "#### <span style=\"color: #ff0000;\">Question 5 : For what purpose def keyword is used?\n",
    "**<span style=\"font-size:larger;\">Answer 5</span>** : The **def** keyword is used to define and create functions. Functions are blocks of reusable code that perform specific tasks. They encapsulate a set of instructions and can accept inputs (arguments) and optionally return a value."
   ]
  },
  {
   "cell_type": "markdown",
   "id": "2661cbd0-1d25-4440-a0fd-b6eabb3a8c9d",
   "metadata": {},
   "source": [
    "#### <span style=\"color: #ff0000;\">Question 6 : What is the operation of this special character ‘\\’?\n",
    "**<span style=\"font-size:larger;\">Answer 6</span>** : The special character '\\' is known as the backslash in Python. It is used as an escape character, providing a way to include special characters within strings or specify certain behaviors."
   ]
  },
  {
   "cell_type": "code",
   "execution_count": 4,
   "id": "9f801b71-7d3c-43f4-82f5-799133feb9bd",
   "metadata": {},
   "outputs": [
    {
     "name": "stdout",
     "output_type": "stream",
     "text": [
      "Hello,\n",
      "World!\n",
      "Name:\tJohn\n",
      "Σ\n",
      "This are the some use cases of escape character \\ in python.\n"
     ]
    }
   ],
   "source": [
    "print(\"Hello,\\nWorld!\") # for change the the line we use \"\\n\"\n",
    "print(\"Name:\\tJohn\")  # '\\t'  is used to insert a tab indentation within a string.\n",
    "print(\"\\u03A3\")  # Σ - Greek capital letter sigma\n",
    "print(\"This are the some use cases of escape character \\\\ in python.\")"
   ]
  },
  {
   "cell_type": "markdown",
   "id": "b509430e-f40a-4923-9c4e-70a0bf067dec",
   "metadata": {
    "tags": []
   },
   "source": [
    "#### <span style=\"color: #ff0000;\">Question 7 : Give an example of the following conditions:  \n",
    "1. Homogeneous list\n",
    "2. Heterogeneous set\n",
    "3. Homogeneous tuple\n",
    "**<span style=\"font-size:larger;\">Answer 7</span>** : "
   ]
  },
  {
   "cell_type": "markdown",
   "id": "7ffd7de4-33a3-42d2-a303-5bf6f128ac82",
   "metadata": {},
   "source": [
    "**Homogeneous list** : A homogeneous list refers to a list in which all the elements have the same data type. "
   ]
  },
  {
   "cell_type": "code",
   "execution_count": 5,
   "id": "15841930-79e2-42d7-81eb-fcf81d614a92",
   "metadata": {},
   "outputs": [
    {
     "name": "stdout",
     "output_type": "stream",
     "text": [
      "[1, 2, 3, 4, 5]\n"
     ]
    }
   ],
   "source": [
    "H_List = [1, 2, 3, 4, 5]\n",
    "print(H_List)"
   ]
  },
  {
   "cell_type": "markdown",
   "id": "18df3e2f-3e72-4cce-9ad6-990fd64817b1",
   "metadata": {},
   "source": [
    "**Hetrogeneous set** : A heterogeneous set refers to a set containing elements of different data types."
   ]
  },
  {
   "cell_type": "code",
   "execution_count": 6,
   "id": "fe5562d5-d78a-416c-a4f0-22977cddb204",
   "metadata": {},
   "outputs": [
    {
     "name": "stdout",
     "output_type": "stream",
     "text": [
      "{'apple', 1, (4, 5), 3.14}\n"
     ]
    }
   ],
   "source": [
    "Het_set = {1, 'apple', 3.14, (4, 5)}\n",
    "print(Het_set)"
   ]
  },
  {
   "cell_type": "markdown",
   "id": "54ddf7d1-c8ee-4618-87cb-083a7fbb73f3",
   "metadata": {},
   "source": [
    "**Homogeneous tuple** : A homogeneous tuple referts to a tuple containing elements of same data type."
   ]
  },
  {
   "cell_type": "code",
   "execution_count": 7,
   "id": "e059b9dc-5bff-4e5b-9dd2-7544b6fbd609",
   "metadata": {},
   "outputs": [
    {
     "name": "stdout",
     "output_type": "stream",
     "text": [
      "('Bheem', 'RAju', 'Kaliya', 'Dhole_molu')\n"
     ]
    }
   ],
   "source": [
    "Homo_tuple = (\"Bheem\", \"RAju\", \"Kaliya\", \"Dhole_molu\")\n",
    "print(Homo_tuple)\n"
   ]
  },
  {
   "cell_type": "markdown",
   "id": "f3706eb9-c70a-4183-91db-6cb859ee9730",
   "metadata": {},
   "source": [
    "#### <span style=\"color: #ff0000;\"> Question 8 : Explain the mutable and immutable data types with proper explanation & examples.\n",
    "**<span style=\"font-size:larger;\">Answer 8</span>** :"
   ]
  },
  {
   "cell_type": "markdown",
   "id": "d58fb20c-70f1-45e2-adb6-71ea58e79a62",
   "metadata": {
    "tags": []
   },
   "source": [
    "#### <span style=\"color: #ff0000;\"> Question 9 : Write a code to create the given structure using only for loop.\n",
    "**<span style=\"font-size:larger;\">Answer 9</span>** : "
   ]
  },
  {
   "cell_type": "code",
   "execution_count": 8,
   "id": "7a708d0a-0d97-4b93-8abc-1ed80b30e3af",
   "metadata": {},
   "outputs": [
    {
     "name": "stdout",
     "output_type": "stream",
     "text": [
      "    *\n",
      "   ***\n",
      "  *****\n",
      " *******\n",
      "*********\n"
     ]
    }
   ],
   "source": [
    "rows = 5 \n",
    "for i in range(rows):\n",
    "    spaces = \" \" * (rows - i - 1)\n",
    "    stars = \"*\" * (2 * i + 1)\n",
    "    print(spaces + stars)"
   ]
  },
  {
   "cell_type": "markdown",
   "id": "c2fdd836-1ea1-413f-8945-d0a8b4156314",
   "metadata": {},
   "source": [
    "#### <span style=\"color: #ff0000;\"> Question 10 : Write a code to create the given structure using while loop.\n",
    "**<span style=\"font-size:larger;\">Answer 10</span>** :"
   ]
  },
  {
   "cell_type": "code",
   "execution_count": 9,
   "id": "86781f13-684a-45f7-aa70-091527f32504",
   "metadata": {},
   "outputs": [
    {
     "name": "stdout",
     "output_type": "stream",
     "text": [
      "|||||||||\n",
      " |||||||\n",
      "  |||||\n",
      "   |||\n",
      "    |\n"
     ]
    }
   ],
   "source": [
    "rows = 5  \n",
    "for i in range(rows):\n",
    "    spaces = \" \" * i\n",
    "    stars = \"|\" * (2 * (rows - i) - 1)\n",
    "    print(spaces + stars)\n"
   ]
  }
 ],
 "metadata": {
  "kernelspec": {
   "display_name": "Python 3 (ipykernel)",
   "language": "python",
   "name": "python3"
  },
  "language_info": {
   "codemirror_mode": {
    "name": "ipython",
    "version": 3
   },
   "file_extension": ".py",
   "mimetype": "text/x-python",
   "name": "python",
   "nbconvert_exporter": "python",
   "pygments_lexer": "ipython3",
   "version": "3.10.6"
  }
 },
 "nbformat": 4,
 "nbformat_minor": 5
}
