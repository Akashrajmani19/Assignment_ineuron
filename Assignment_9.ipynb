{
 "cells": [
  {
   "cell_type": "markdown",
   "id": "923d0bfd-7dc5-41dd-a7ca-e02ca049eca1",
   "metadata": {},
   "source": [
    "# Assignment 9 :"
   ]
  },
  {
   "cell_type": "markdown",
   "id": "692c90d7-3c1d-468e-ba99-f69c1681c4eb",
   "metadata": {},
   "source": [
    "#### <span style=\"color: #ff0000;\">Question 1 : What is a lambda function in Python, and how does it differ from a regular function?\n",
    "**<span style=\"font-size:larger;\">Answer 1</span>** : A Lambda function is a small, anonymous function that can be defined a single line. It is also known as an \"anoymus function\" because it dosen't requir a formal name like a regular function. Lambda functions are typically used when we need a simple function for a short period of time and don't want to define a separate function using the 'def' keyword.          \n",
    "Lambda functions are different from regular functions in a few ways:                              \n",
    "**Anonymous**: Lambda functions don't have a name. They are defined and used at the same place in the code without assigning them to a variable. They are primarily used where a small function is needed as an argument to another function or operation.                          \n",
    "**Single Expression**: Lambda functions can only contain a single expression. This means they can't include multiple statements or complex control flow structures. The expression is evaluated and the result is returned.                      \n",
    "**Concise Syntax**: The syntax of lambda functions is compact and concise, making them useful for writing simple, one-liner functions. They are often used in situations where a full-fledged named function is not necessary."
   ]
  },
  {
   "cell_type": "markdown",
   "id": "1b536b03-b75e-4df5-a709-18a81036878b",
   "metadata": {},
   "source": [
    "#### <span style=\"color: #ff0000;\">Question 2 : Can a lambda function in Python have multiple arguments? If yes, how can you define and use them?\n",
    "**<span style=\"font-size:larger;\">Answer 2</span>** : Yes, a lambda function in Python can have multiple arguments. You can define and use multiple arguments in a lambda function by separating them with commas within the argument list. "
   ]
  },
  {
   "cell_type": "code",
   "execution_count": 37,
   "id": "a43382d6-796e-498b-ba8e-0fbffd060bb0",
   "metadata": {},
   "outputs": [
    {
     "name": "stdout",
     "output_type": "stream",
     "text": [
      "Volume of cube is : 77 \n"
     ]
    }
   ],
   "source": [
    "Volume = lambda x,y,z: x**2+y**2+z**2 \n",
    "# x,y & z are arguments and here we have use multiple argument\n",
    "x,y,z=4,5,6\n",
    "print(f\"Volume of cube is : {Volume(x,y,z)} \")"
   ]
  },
  {
   "cell_type": "markdown",
   "id": "89318ccb-cd23-4e66-bd05-e62ef0eb62b3",
   "metadata": {},
   "source": [
    "#### <span style=\"color: #ff0000;\">Question 3 : How are lambda functions typically used in Python? Provide an example use case.\n",
    "**<span style=\"font-size:larger;\">Answer 3</span>** : Lambda functions are typically used in Python in conjunction with higher-order functions like **map()**, **filter()**, and **reduce()**. These higher-order functions take other functions as arguments, and lambda functions provide a convenient way to define these functions inline without the need for a separate named function."
   ]
  },
  {
   "cell_type": "code",
   "execution_count": 38,
   "id": "91e7797c-acc0-43b0-bb34-9911ac0ccb0e",
   "metadata": {},
   "outputs": [
    {
     "name": "stdout",
     "output_type": "stream",
     "text": [
      "[8, 8, 8, 7]\n",
      "{'name': 'product1', 'price': 2000}\n",
      "{'name': 'product2', 'price': 3000}\n",
      "{'name': 'product3', 'price': 5000}\n"
     ]
    }
   ],
   "source": [
    "# With lambda function\n",
    "list1=[1,2,3,4]\n",
    "list2=[7,6,5,3]\n",
    "# using map() unction\n",
    "b=list(map(lambda x,y:x+y,list1,list2))\n",
    "print(b)\n",
    "\n",
    "products=[{\"name\":\"product1\",\"price\":2000},\n",
    "{\"name\":\"product2\",\"price\":3000},\n",
    "{\"name\":\"product3\",\"price\":5000}]\n",
    "# using sorted() function \n",
    "sorted_product=sorted(products,key=lambda x:x[\"price\"])\n",
    "for product in sorted_product:\n",
    "    print(product)"
   ]
  },
  {
   "cell_type": "markdown",
   "id": "013741a9-9880-4ffc-8302-7ab68010773d",
   "metadata": {},
   "source": [
    "Similarly, lambda functions can be used with filter() to filter elements based on a condition and with reduce() to perform aggregation or reduction operations on a sequence. For example :"
   ]
  },
  {
   "cell_type": "markdown",
   "id": "1a1791bd-1ebd-459d-bcdd-7e81ecf8574d",
   "metadata": {},
   "source": [
    "https://github.com/Akashrajmani19/Pythonlearning/blob/main/2_lambda_function.ipynb"
   ]
  },
  {
   "cell_type": "markdown",
   "id": "097c0da1-67a5-451c-946c-bb385684a12a",
   "metadata": {
    "jp-MarkdownHeadingCollapsed": true,
    "tags": []
   },
   "source": [
    "#### <span style=\"color: #ff0000;\">Question 4 : What are the advantages and limitations of lambda functions compared to regular functions in Python?\n",
    "**<span style=\"font-size:larger;\">Answer 4</span>** : Lambda functions in Python offer several advantages compared to regular functions, but they also have certain limitations. Let's explore both aspects:\n",
    "\n",
    "**Advantages of Lambda Functions**:\n",
    "\n",
    "1. **Syntax**: Lambda functions allow you to write small, one-line functions without the need to define a separate named function. This leads to more compact and readable code, especially when performing simple computations or transformations.\n",
    "\n",
    "2. **Inline Definitions**: Lambda functions can be defined inline at the point where they are used, making the code more self-contained and reducing the clutter of function definitions.\n",
    "\n",
    "3. **Functional Programming**: Lambda functions are commonly used in functional programming paradigms where functions are treated as first-class citizens. They can be passed as arguments to other functions, enabling higher-order functions and allowing for powerful functional programming patterns.\n",
    "\n",
    "**Limitations of Lambda Functions**:\n",
    "\n",
    "1. **Limited Functionality**: Lambda functions are limited to a single expression. They cannot contain multiple statements or complex control flow structures like loops or conditional statements. If your function logic requires more complexity, regular functions are more suitable.\n",
    "\n",
    "2. **Lack of Name**: Lambda functions are anonymous, meaning they don't have a name. This can make debugging and code maintenance more challenging since you cannot refer to the function by name elsewhere in the code.\n",
    "\n",
    "3. **Readability and Documentation**: While lambda functions can provide concise code, they can also reduce code readability if used excessively or inappropriately. They may make the code harder to understand for other developers, especially if the lambda function logic is non-trivial.\n",
    "\n",
    "4. **Limited Reusability**: Lambda functions are typically used for short and specific tasks. They are not designed for reusability across different parts of the codebase. Regular functions, with well-defined names and function bodies, are more suitable for reusable and modular code."
   ]
  },
  {
   "cell_type": "markdown",
   "id": "ba188cbc-9984-401a-a20e-7198c50b66e5",
   "metadata": {},
   "source": [
    "#### <span style=\"color: #ff0000;\">Question 5 : Are lambda functions in Python able to access variables defined outside of their own scope?\n",
    "Explain with an example.\n",
    "**<span style=\"font-size:larger;\">Answer 5</span>** : Yes, lambda functions in Python can access variables defined outside of their own scope. "
   ]
  },
  {
   "cell_type": "code",
   "execution_count": 39,
   "id": "4af2e52d-b8a9-4ebe-93bc-c514f98a11e8",
   "metadata": {},
   "outputs": [
    {
     "name": "stdout",
     "output_type": "stream",
     "text": [
      "80\n"
     ]
    }
   ],
   "source": [
    "n=10 # Global variable\n",
    "multi_10 = lambda x : x*n # Here n is global variabl accessed by mambda function. \n",
    "\n",
    "print(multi_10(8))"
   ]
  },
  {
   "cell_type": "markdown",
   "id": "24dd9545-3474-41f3-9d9e-f5182f69c3de",
   "metadata": {},
   "source": [
    "#### <span style=\"color: #ff0000;\">Question 6 : Write a lambda function to calculate the square of a given number.\n",
    "**<span style=\"font-size:larger;\">Answer 6</span>** :"
   ]
  },
  {
   "cell_type": "code",
   "execution_count": 40,
   "id": "4ea67358-eec2-47ea-8da2-2457debb7270",
   "metadata": {},
   "outputs": [
    {
     "name": "stdin",
     "output_type": "stream",
     "text": [
      "Give any number. 5\n"
     ]
    },
    {
     "name": "stdout",
     "output_type": "stream",
     "text": [
      "Square of this number 5 is 25\n"
     ]
    }
   ],
   "source": [
    "square = lambda x : x**2\n",
    "x = int(input(\"Give any number.\"))\n",
    "print(f\"Square of this number {x} is {square(x)}\")"
   ]
  },
  {
   "cell_type": "markdown",
   "id": "36f6f0e0-0d89-4bed-87bd-dc76adbb2789",
   "metadata": {},
   "source": [
    "#### <span style=\"color: #ff0000;\">Question 7 : Create a lambda function to find the maximum value in a list of integers. \n",
    "**<span style=\"font-size:larger;\">Answer 7</span>** :"
   ]
  },
  {
   "cell_type": "code",
   "execution_count": 41,
   "id": "8b575562-1f33-47fb-aafe-f5cc94710477",
   "metadata": {},
   "outputs": [
    {
     "name": "stdin",
     "output_type": "stream",
     "text": [
      "give number1 5\n",
      "give number2 6\n",
      "give number3 7\n",
      "give number4 8\n",
      "give number5 5\n"
     ]
    },
    {
     "name": "stdout",
     "output_type": "stream",
     "text": [
      "Maximum number in list is : 8\n"
     ]
    }
   ],
   "source": [
    "find_max = lambda list1 : max(list1)\n",
    "\n",
    "list1=[]\n",
    "for i in range(5):\n",
    "    x=int(input(f\"give number{i+1}\"))\n",
    "    list1.append(x)\n",
    "\n",
    "print(f\"Maximum number in list is : {find_max(list1)}\")"
   ]
  },
  {
   "cell_type": "markdown",
   "id": "d78d9e80-3f61-4472-aabc-3dd778aed60d",
   "metadata": {},
   "source": [
    "#### <span style=\"color: #ff0000;\">Question 8 : Implement a lambda function to filter out all the even numbers from a list of integers.\n",
    "**<span style=\"font-size:larger;\">Answer 8</span>** :"
   ]
  },
  {
   "cell_type": "code",
   "execution_count": 42,
   "id": "4bbb072e-8aa1-401e-804e-c846fa5d4ef9",
   "metadata": {},
   "outputs": [
    {
     "name": "stdout",
     "output_type": "stream",
     "text": [
      "[8, 6, 2, 6, 8]\n"
     ]
    }
   ],
   "source": [
    "filter_even = lambda list2 : list(filter(lambda i : i%2 ==0 ,  list2))\n",
    "list2=[8,3,5,7,6,2,5,6,8]\n",
    "print(filter_even(list2))"
   ]
  },
  {
   "cell_type": "markdown",
   "id": "8c3ea15f-a302-4d0f-bbbe-4036e022a83a",
   "metadata": {},
   "source": [
    "#### <span style=\"color: #ff0000;\">Question 9 : Write a lambda function to sort a list of strings in ascending order based on the length of each string.\n",
    "**<span style=\"font-size:larger;\">Answer 9</span>** :"
   ]
  },
  {
   "cell_type": "code",
   "execution_count": 43,
   "id": "75a8fb42-2024-4700-841f-11d2d09f218f",
   "metadata": {},
   "outputs": [
    {
     "name": "stdout",
     "output_type": "stream",
     "text": [
      "Old List With out sorting :  ['Akash', 'Joe', 'Toe', 'Montu', 'Ramlal']\n",
      "new List with sorting on the based on length of names in list.  ['Joe', 'Toe', 'Akash', 'Montu', 'Ramlal']\n"
     ]
    }
   ],
   "source": [
    "Name = [\"Akash\",\"Joe\",\"Toe\",\"Montu\",\"Ramlal\"]\n",
    "sort_Name = sorted(Name, key = lambda name: len(name))\n",
    "print(f\"Old List With out sorting : \",Name) # Old List With out sorting\n",
    "print(\"new List with sorting on the based on length of names in list. \",sort_Name) # new List with sorting on the based on length of names in list."
   ]
  },
  {
   "cell_type": "markdown",
   "id": "36c15dd2-51e5-43b5-918c-73ed38b90a63",
   "metadata": {},
   "source": [
    "#### <span style=\"color: #ff0000;\">Question 10 : Create a lambda function that takes two lists as input and returns a new list containing the common elements between the two lists.\n",
    "**<span style=\"font-size:larger;\">Answer 10</span>** : "
   ]
  },
  {
   "cell_type": "code",
   "execution_count": 44,
   "id": "7cd52dc4-078f-4784-9226-b38255b150ef",
   "metadata": {},
   "outputs": [
    {
     "name": "stdout",
     "output_type": "stream",
     "text": [
      "Common elements in both list are : [3, 6, 5, 9, 5]\n"
     ]
    }
   ],
   "source": [
    "list1= [1,2,3,4,5,6,7,8,9]\n",
    "list2= [11,3,6,5,45,67,9,5,0]\n",
    "same_element = list(filter(lambda element:element in list1 ,list2))\n",
    "print(f\"Common elements in both list are : {same_element}\")"
   ]
  },
  {
   "cell_type": "markdown",
   "id": "36e4b267-2432-424d-9548-bc2c4ff831cb",
   "metadata": {},
   "source": [
    "#### <span style=\"color: #ff0000;\">Question 11 : Write a recursive function to calculate the factorial of a given positive integer.\n",
    "**<span style=\"font-size:larger;\">Answer 11</span>** :"
   ]
  },
  {
   "cell_type": "code",
   "execution_count": 45,
   "id": "4a586555-dd06-4268-84f7-99e7662aae9e",
   "metadata": {},
   "outputs": [
    {
     "name": "stdin",
     "output_type": "stream",
     "text": [
      "Give any number to calculate factorial. 6\n"
     ]
    },
    {
     "name": "stdout",
     "output_type": "stream",
     "text": [
      "Factorial of number 6 is : 720\n"
     ]
    }
   ],
   "source": [
    "\n",
    "def facto(n):\n",
    "    if n ==1 or n==0:\n",
    "        return 1\n",
    "    else:\n",
    "        return n*facto(n-1)\n",
    "\n",
    "n=int(input(\"Give any number to calculate factorial.\"))\n",
    "print(f\"Factorial of number {n} is : {facto(n)}\")"
   ]
  },
  {
   "cell_type": "markdown",
   "id": "662c6958-2235-4be6-a389-b71fd21f678d",
   "metadata": {},
   "source": [
    "#### <span style=\"color: #ff0000;\">Question 12 : Implement a recursive function to compute the nth Fibonacci number.\n",
    "**<span style=\"font-size:larger;\">Answer 12</span>** :"
   ]
  },
  {
   "cell_type": "code",
   "execution_count": 46,
   "id": "fadd5fa7-9408-43d7-9cb4-4c39f3d4e652",
   "metadata": {},
   "outputs": [
    {
     "name": "stdin",
     "output_type": "stream",
     "text": [
      "Give a number for degits in fibonacci series. 7\n"
     ]
    },
    {
     "name": "stdout",
     "output_type": "stream",
     "text": [
      "[0, 1, 1, 2, 3, 5, 8]\n"
     ]
    }
   ],
   "source": [
    "def fibonacci(n):\n",
    "    # Base case \n",
    "    if n==0:\n",
    "        return []\n",
    "    elif n==1:\n",
    "        return ([0])\n",
    "    elif n==2:\n",
    "        return ([0,1])\n",
    "    else:\n",
    "        fibonacci_series=fibonacci(n-1)\n",
    "        next_term=fibonacci_series[-1]+fibonacci_series[-2]\n",
    "        fibonacci_series.append(next_term)\n",
    "        return fibonacci_series\n",
    "n = int(input(\"Give a number for degits in fibonacci series.\"))\n",
    "print(fibonacci(n))\n",
    "    \n",
    "    "
   ]
  },
  {
   "cell_type": "markdown",
   "id": "238e7c92-5a3e-4cfb-a976-9ec33565f839",
   "metadata": {},
   "source": [
    "#### <span style=\"color: #ff0000;\">Question 13 : Create a recursive function to find the sum of all the elements in a given list.\n",
    "**<span style=\"font-size:larger;\">Answer 13</span>** : "
   ]
  },
  {
   "cell_type": "code",
   "execution_count": 47,
   "id": "fd64f648-5c99-48e6-bee5-651ad43a33a7",
   "metadata": {},
   "outputs": [
    {
     "name": "stdout",
     "output_type": "stream",
     "text": [
      "sum of all element is : 186\n"
     ]
    }
   ],
   "source": [
    "def recursive_func(list1):\n",
    "    if not list1:\n",
    "        return 0\n",
    "    else:\n",
    "        return list1[0]+  recursive_func(list1[1:])\n",
    "\n",
    "list1=[1,3,6,8,45,78,45]\n",
    "print(\"sum of all element is :\", recursive_func(list1))"
   ]
  },
  {
   "cell_type": "markdown",
   "id": "e65bb5a0-17e9-4112-b355-0d0e1a82510a",
   "metadata": {},
   "source": [
    "#### <span style=\"color: #ff0000;\">Question 14 : Write a recursive function to determine whether a given string is a palindrome.\n",
    "**<span style=\"font-size:larger;\">Answer 14</span>** :"
   ]
  },
  {
   "cell_type": "code",
   "execution_count": 48,
   "id": "149abb26-b250-455a-89ca-d2e60e2a888f",
   "metadata": {},
   "outputs": [
    {
     "name": "stdin",
     "output_type": "stream",
     "text": [
      "Give any name to check. Akash\n"
     ]
    },
    {
     "name": "stdout",
     "output_type": "stream",
     "text": [
      "Given name is pollidrome : False\n"
     ]
    }
   ],
   "source": [
    "def check(name):\n",
    "    if len(name) ==0 or len(name)==1:\n",
    "        return(True)\n",
    "    else:\n",
    "        return name[0] == name[-1] and check(name[1:-1])\n",
    "\n",
    "name = input(\"Give any name to check.\")\n",
    "print(\"Given name is pollidrome :\",check(name))\n"
   ]
  },
  {
   "cell_type": "markdown",
   "id": "1c43520e-32b0-40d3-8efa-c6637e512906",
   "metadata": {},
   "source": [
    "#### <span style=\"color: #ff0000;\">Question 15 : Implement a recursive function to find the greatest common divisor (GCD) of two positive integers.\n",
    "**<span style=\"font-size:larger;\">Answer 15</span>** :"
   ]
  },
  {
   "cell_type": "code",
   "execution_count": 49,
   "id": "0a12094e-b354-45ea-966c-9e4b58cfe803",
   "metadata": {},
   "outputs": [
    {
     "name": "stdout",
     "output_type": "stream",
     "text": [
      "Greatest Common Divisor of 24 and 36 is: 12\n"
     ]
    }
   ],
   "source": [
    "def gcd(a, b):\n",
    "    if b == 0:\n",
    "        return a\n",
    "    else:\n",
    "        return gcd(b, a % b)\n",
    "\n",
    "num1 = 24\n",
    "num2 = 36\n",
    "result = gcd(num1, num2)\n",
    "print(f\"Greatest Common Divisor of {num1} and {num2} is: {result}\" )"
   ]
  }
 ],
 "metadata": {
  "kernelspec": {
   "display_name": "Python 3 (ipykernel)",
   "language": "python",
   "name": "python3"
  },
  "language_info": {
   "codemirror_mode": {
    "name": "ipython",
    "version": 3
   },
   "file_extension": ".py",
   "mimetype": "text/x-python",
   "name": "python",
   "nbconvert_exporter": "python",
   "pygments_lexer": "ipython3",
   "version": "3.10.6"
  }
 },
 "nbformat": 4,
 "nbformat_minor": 5
}
