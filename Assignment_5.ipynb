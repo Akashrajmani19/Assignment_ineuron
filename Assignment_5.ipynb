{
 "cells": [
  {
   "cell_type": "markdown",
   "id": "1af4c022-4381-40fe-ad31-c5b9b1979cf6",
   "metadata": {},
   "source": [
    "# Assignment 5"
   ]
  },
  {
   "cell_type": "markdown",
   "id": "0bb74a2b-912c-44c6-ae72-74e1fafcaee9",
   "metadata": {},
   "source": [
    "#### <span style=\"color: #ff0000;\">Question 1 : What does an empty dictionary's code look like?\n",
    "**<span style=\"font-size:larger;\">Answer 1</span>** : An empty dictionary can be represented using curly braces '{}' or by using the 'dict()' constructor without any arguments."
   ]
  },
  {
   "cell_type": "code",
   "execution_count": 1,
   "id": "8310fbf8-9c5d-410c-8351-20079b05b965",
   "metadata": {},
   "outputs": [
    {
     "name": "stdout",
     "output_type": "stream",
     "text": [
      "<class 'dict'>\n",
      "<class 'dict'>\n"
     ]
    }
   ],
   "source": [
    "dictionary_1 = {}\n",
    "dictionary_2 = dict()\n",
    "print(type(dictionary_1))\n",
    "print(type(dictionary_2))"
   ]
  },
  {
   "cell_type": "markdown",
   "id": "f5fb3f55-dedc-4173-af89-de619bf88431",
   "metadata": {},
   "source": [
    "#### <span style=\"color: #ff0000;\">Question 2 : What is the value of a dictionary value with the key 'foo' and the value 42?      "
   ]
  },
  {
   "cell_type": "markdown",
   "id": "6f82cfeb-ade4-4799-a590-93b25e8f502e",
   "metadata": {
    "tags": []
   },
   "source": [
    "**<span style=\"font-size:larger;\">Answer 2</span>** : The value of a dictionary with the key 'foo' and the value 42 can be 42.\n"
   ]
  },
  {
   "cell_type": "code",
   "execution_count": 2,
   "id": "79158336-b5ed-4eaa-b0eb-64f56dc430d6",
   "metadata": {},
   "outputs": [
    {
     "name": "stdout",
     "output_type": "stream",
     "text": [
      "dict_values([42])\n",
      "Value of dictionary is  42\n"
     ]
    }
   ],
   "source": [
    "Dict = {'foo':42}\n",
    "print(Dict.values())\n",
    "print(f\"Value of dictionary is  {Dict['foo']}\")"
   ]
  },
  {
   "cell_type": "markdown",
   "id": "0b78594f-589b-4087-94e8-c41d4ffb330c",
   "metadata": {},
   "source": [
    "#### <span style=\"color: #ff0000;\">Question 3 : What is the most significant distinction between a dictionary and a list?\n",
    "**<span style=\"font-size:larger;\">Answer 3</span>** : The most significant distinction between a dictionary and a list is the way they store and access data.          \n"
   ]
  },
  {
   "cell_type": "markdown",
   "id": "54656966-cdd0-4cb0-acd7-49b3dda387dd",
   "metadata": {},
   "source": [
    "    |----------------------------------------|-----------------------------------------|                      \n",
    "    |               List                     |               Dictionary                |                 \n",
    "    |----------------------------------------|-----------------------------------------|                                    \n",
    "    | A list is an ordered collection of     | A dictionary is an unordered collection |                              \n",
    "    | elements that can be of any data type. |   of key-value pairs.                   |\n",
    "    | The elements in a list are accessed    |   The elements in a dictionary are      |\n",
    "    | using their indexes.                   |    accessed using their keys.           |\n",
    "    | Lists maintain the order of elements   |  Dictionaries do not preserve the order |  \n",
    "    | as they are inserted.                  |   of key-value pairs.                   |\n",
    "    |----------------------------------------|-----------------------------------------|"
   ]
  },
  {
   "cell_type": "markdown",
   "id": "0369aaf3-ab16-4a8f-9cc3-df81fc0a0d9a",
   "metadata": {},
   "source": [
    "#### <span style=\"color: #ff0000;\">Question 4 : What happens if you try to access spam['foo'] if spam is {'bar': 100}?\n",
    "**<span style=\"font-size:larger;\">Answer 4</span>** :        \n",
    "\n",
    "    "
   ]
  },
  {
   "cell_type": "markdown",
   "id": "96afa73d-8144-423a-b5d4-f92c1e977990",
   "metadata": {
    "tags": []
   },
   "source": [
    "#### <span style=\"color: #ff0000;\">Question 5 : If a dictionary is stored in spam, what is the difference between the expressions 'cat' in spam and 'cat' in spam.keys()?  \n",
    "    \n",
    "**<span style=\"font-size:larger;\">Answer 5</span>** : If i try to access spam['foo'] where spam is {'bar': 100}, it will raise a **<span style=\"color: #ff0000;\">KeyError</span>** because the key 'foo' does not exist in the dictionary spam.  "
   ]
  },
  {
   "cell_type": "code",
   "execution_count": 3,
   "id": "ce711728-da6e-41cf-ae9b-a45f47ad04bb",
   "metadata": {},
   "outputs": [
    {
     "ename": "KeyError",
     "evalue": "'foo'",
     "output_type": "error",
     "traceback": [
      "\u001b[0;31m---------------------------------------------------------------------------\u001b[0m",
      "\u001b[0;31mKeyError\u001b[0m                                  Traceback (most recent call last)",
      "Cell \u001b[0;32mIn [3], line 2\u001b[0m\n\u001b[1;32m      1\u001b[0m spam \u001b[38;5;241m=\u001b[39m {\u001b[38;5;124m'\u001b[39m\u001b[38;5;124mbar\u001b[39m\u001b[38;5;124m'\u001b[39m:\u001b[38;5;241m100\u001b[39m}\n\u001b[0;32m----> 2\u001b[0m \u001b[43mspam\u001b[49m\u001b[43m[\u001b[49m\u001b[38;5;124;43m'\u001b[39;49m\u001b[38;5;124;43mfoo\u001b[39;49m\u001b[38;5;124;43m'\u001b[39;49m\u001b[43m]\u001b[49m\n",
      "\u001b[0;31mKeyError\u001b[0m: 'foo'"
     ]
    }
   ],
   "source": [
    "spam = {'bar':100}\n",
    "spam['foo']"
   ]
  },
  {
   "cell_type": "markdown",
   "id": "2661cbd0-1d25-4440-a0fd-b6eabb3a8c9d",
   "metadata": {},
   "source": [
    "#### <span style=\"color: #ff0000;\">Question 6 : If a dictionary is stored in spam, what is the difference between the expressions 'cat' in spam and 'cat' in spam.values()?\n",
    "**<span style=\"font-size:larger;\">Answer 6</span>** : 'cat' in spam  : This expression checks if the string 'cat' is a key present in the dictionary 'spam'. It returns True if 'cat' is a key in spam and False otherwise.               \n",
    "'cat' in spam.values() : This expression checks if the string 'cat' is a value present in any of the values of the dictionary 'spam'. It returns True if 'cat' is a value in spam, and False otherwise."
   ]
  },
  {
   "cell_type": "code",
   "execution_count": 4,
   "id": "f16f02d8-8486-45ef-944b-810016ac8b9f",
   "metadata": {},
   "outputs": [
    {
     "name": "stdout",
     "output_type": "stream",
     "text": [
      "True\n"
     ]
    }
   ],
   "source": [
    "# In spam1 'cat' is stored as key\n",
    "sapm1 = {\"cat\":12 , \"Dag\":13}\n",
    "print(\"cat\" in sapm1)"
   ]
  },
  {
   "cell_type": "code",
   "execution_count": 5,
   "id": "6df92f8e-da97-4800-8150-8d61770c94a5",
   "metadata": {},
   "outputs": [
    {
     "name": "stdout",
     "output_type": "stream",
     "text": [
      "True\n"
     ]
    }
   ],
   "source": [
    "# In spam2 'cat' is stored as value\n",
    "spam2 = {\"Animal1\":\"cat\"}\n",
    "print(\"cat\" in spam2.values())"
   ]
  },
  {
   "cell_type": "markdown",
   "id": "b509430e-f40a-4923-9c4e-70a0bf067dec",
   "metadata": {
    "tags": []
   },
   "source": [
    "#### <span style=\"color: #ff0000;\">Question 7 : What is a shortcut for the following code?          \n",
    "    if 'color' not in spam:                         \n",
    "    spam['color'] = 'black'\n",
    "    \n",
    "**<span style=\"font-size:larger;\">Answer 7</span>** : "
   ]
  },
  {
   "cell_type": "code",
   "execution_count": 6,
   "id": "51befb63-3973-4f76-97fc-b73751ce1d9c",
   "metadata": {},
   "outputs": [
    {
     "name": "stdout",
     "output_type": "stream",
     "text": [
      "{'bar': 100, 'color': 'black'}\n"
     ]
    }
   ],
   "source": [
    "spam['color'] = 'black' if 'color' not in spam else spam['color']\n",
    "print(spam)"
   ]
  },
  {
   "cell_type": "markdown",
   "id": "f3706eb9-c70a-4183-91db-6cb859ee9730",
   "metadata": {},
   "source": [
    "#### <span style=\"color: #ff0000;\"> Question 8 : How do you 'pretty print' dictionary values using which module and function?\n",
    "**<span style=\"font-size:larger;\">Answer 8</span>** : I can use pprint module and pprint function to pretty print the dictionary values."
   ]
  },
  {
   "cell_type": "code",
   "execution_count": 7,
   "id": "c416089a-008c-47f5-af6a-b6832bb71aec",
   "metadata": {},
   "outputs": [
    {
     "name": "stdout",
     "output_type": "stream",
     "text": [
      "{'bar': 100, 'color': 'black'}\n"
     ]
    }
   ],
   "source": [
    "from pprint import pprint\n",
    "pprint(spam)"
   ]
  }
 ],
 "metadata": {
  "kernelspec": {
   "display_name": "Python 3 (ipykernel)",
   "language": "python",
   "name": "python3"
  },
  "language_info": {
   "codemirror_mode": {
    "name": "ipython",
    "version": 3
   },
   "file_extension": ".py",
   "mimetype": "text/x-python",
   "name": "python",
   "nbconvert_exporter": "python",
   "pygments_lexer": "ipython3",
   "version": "3.10.6"
  }
 },
 "nbformat": 4,
 "nbformat_minor": 5
}
