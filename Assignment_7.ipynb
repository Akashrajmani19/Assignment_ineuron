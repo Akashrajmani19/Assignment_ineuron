{
 "cells": [
  {
   "cell_type": "markdown",
   "id": "068f9b92-7da7-49cf-be32-2b9370178e09",
   "metadata": {},
   "source": [
    "# Assignment 7 :        "
   ]
  },
  {
   "cell_type": "markdown",
   "id": "643136a1-6bd5-4c69-abe4-b389d77c5f9a",
   "metadata": {},
   "source": [
    "#### <span style=\"color: #ff0000;\">Question 1 : Create two int type variables, apply addition, subtraction, division and multiplications and store the results in variables. Then print the data in the following format by calling the variables:      \n",
    "    \n",
    "First variable is __ & second variable is __.                     \n",
    "    \n",
    "Addition: __ + __ = __                         \n",
    "    \n",
    "Subtraction: __ - __ = __                      \n",
    "    \n",
    "Multiplication: __ * __ = __                         \n",
    "               \n",
    "Division: __ / __ = __                   "
   ]
  },
  {
   "cell_type": "markdown",
   "id": "2266efd1-2299-4836-8ed0-da240c0d7472",
   "metadata": {},
   "source": [
    "**<span style=\"font-size:larger;\">Answer 1</span>** :"
   ]
  },
  {
   "cell_type": "code",
   "execution_count": 15,
   "id": "79e0d480-752b-46b5-b292-4696b0f08ddb",
   "metadata": {},
   "outputs": [
    {
     "name": "stdout",
     "output_type": "stream",
     "text": [
      "First variable is 5 & second variable is 6.\n",
      "\n",
      "Addition:5+6=11\n",
      "\n",
      "Subtraction:5-6=-1\n",
      "\n",
      "Division:5/6=0.8333333333333334\n",
      "\n",
      "Multiplications:5*6=30\n"
     ]
    }
   ],
   "source": [
    "x=5\n",
    "y=6\n",
    "print(f\"First variable is {x} & second variable is {y}.\\n\")\n",
    "addition = x + y\n",
    "print(f\"Addition:{x}+{y}={addition}\\n\")\n",
    "subtraction = x - y\n",
    "print(f\"Subtraction:{x}-{y}={subtraction}\\n\")\n",
    "division = x / y\n",
    "print(f\"Division:{x}/{y}={division}\\n\")\n",
    "multiplications = x * y\n",
    "print(f\"Multiplications:{x}*{y}={multiplications}\")"
   ]
  },
  {
   "cell_type": "markdown",
   "id": "3a9d81f5-f060-4c65-94c0-b3926e689d45",
   "metadata": {},
   "source": [
    "#### <span style=\"color: #ff0000;\">Question 2 : What is the difference between the following operators:      \n",
    "(i) ‘/’ & ‘//’          \n",
    "(ii) ‘**’ & ‘^’             \n",
    "**<span style=\"font-size:larger;\">Answer 2</span>** :    "
   ]
  },
  {
   "cell_type": "markdown",
   "id": "f6f4b1b1-19cd-4240-970a-428fc3f5d084",
   "metadata": {},
   "source": [
    "(i) '/' and '//':\n",
    "\n",
    "The '/' operator is the division operator. It performs normal division and returns the quotient as a floating-point number and on the other hand the '//' operator is known as the floor division operator. It performs division and returns the quotient as an integer, discarding any fractional part. In other words, it performs division and rounds down to the nearest whole number."
   ]
  },
  {
   "cell_type": "code",
   "execution_count": 16,
   "id": "8a632915-c122-4f2f-a78b-724d8f6672a9",
   "metadata": {},
   "outputs": [
    {
     "name": "stdout",
     "output_type": "stream",
     "text": [
      " Using the '/' for operation we get result as : 0.6666666666666666\n",
      "Using the '//' for operation we get result as : 0\n"
     ]
    }
   ],
   "source": [
    "# for example \n",
    "x = 2/3  # Using  '/' \n",
    "y = 2//3  # Using '//'\n",
    "print(f\" Using the '/' for operation we get result as : {x}\")\n",
    "print(f\"Using the '//' for operation we get result as : {y}\")"
   ]
  },
  {
   "cell_type": "markdown",
   "id": "02cd591d-ef57-4f66-8bfd-f2087dfdda1e",
   "metadata": {},
   "source": [
    "(ii) '**' and '^':\n",
    "\n",
    "The '**' operator is the exponentiation operator. It raises the left operand to the power of the right operand. On the other hand the '^' operator is not an exponentiation operator. Instead, it is the bitwise XOR (exclusive OR) operator. It performs the XOR operation between the bits of two integers."
   ]
  },
  {
   "cell_type": "code",
   "execution_count": 17,
   "id": "96296f15-500a-416b-bfcf-bf303b4f9825",
   "metadata": {},
   "outputs": [
    {
     "name": "stdout",
     "output_type": "stream",
     "text": [
      " Using the '**' for operation we get result as : 8\n",
      " Using the '^' for operation we get result as : 1\n"
     ]
    }
   ],
   "source": [
    "# for example\n",
    "\n",
    "x = 2 ** 3\n",
    "y = 2 ^ 3 # 10 ^ 11 = 01  \n",
    "\n",
    "print(f\" Using the '**' for operation we get result as : {x}\")\n",
    "print(f\" Using the '^' for operation we get result as : {y}\")"
   ]
  },
  {
   "cell_type": "markdown",
   "id": "bd157e1a-7e1d-42e0-80f5-1f09d7d5b515",
   "metadata": {},
   "source": [
    "#### <span style=\"color: #ff0000;\">Question 3 : List the logical operators.\n",
    "**<span style=\"font-size:larger;\">Answer 3</span>** : Logical operators are symbols or words used to combine or modify logical statements in programming and logic. The common logical operators include:\n",
    "\n",
    "AND (&): Represents the logical conjunction. It returns true if both operands are true; otherwise, it returns false.\n",
    "\n",
    "OR (||): Represents the logical disjunction. It returns true if at least one of the operands is true; otherwise, it returns false.\n",
    "\n",
    "NOT (!): Represents the logical negation. It returns the opposite boolean value of the operand. If the operand is true, it returns false, and if the operand is false, it returns true.      \n",
    "            \n",
    "XOR (^) : Compares each bit of the first operand with corresponding bit of the second operand. If one of the bits is 1 (But not both), the corresponding result bit is set to 1. Otherwise, the result bit is set to 0. "
   ]
  },
  {
   "cell_type": "markdown",
   "id": "e762957c-cc3b-477c-b7b1-c2ac52b7b864",
   "metadata": {},
   "source": [
    "#### <span style=\"color: #ff0000;\">Question 4 : Explain right shift operator and left shift operator with examples.\n",
    "**<span style=\"font-size:larger;\">Answer 4</span>** :  **Right Shift Operators** >>(Mostly work on Bits): Shifts the bits of the number to the right by the number of bits specified. Each shift to the right corresponds to dividing the number by 2 and yntax will be like is "
   ]
  },
  {
   "cell_type": "code",
   "execution_count": 18,
   "id": "769ba93b-2679-497e-ba63-daf88c2f9cc1",
   "metadata": {},
   "outputs": [
    {
     "name": "stdout",
     "output_type": "stream",
     "text": [
      "2\n"
     ]
    }
   ],
   "source": [
    "a = 10 # 10= 1010\n",
    "shift = a>>2 # shift by 2 bits. \n",
    "print(shift) "
   ]
  },
  {
   "cell_type": "markdown",
   "id": "320d411c-d9f4-4483-bb05-3a6e87c464b7",
   "metadata": {},
   "source": [
    "**Left shift operaotor** <<(Mostly works on Bits): Shifts the bits number to the left by the number of the bits specified. Each shift to the left corresponds to multiplying the number ny 2."
   ]
  },
  {
   "cell_type": "code",
   "execution_count": 19,
   "id": "f774cae7-0f01-48db-af1e-653b69721566",
   "metadata": {},
   "outputs": [
    {
     "name": "stdout",
     "output_type": "stream",
     "text": [
      "40\n"
     ]
    }
   ],
   "source": [
    "a=10\n",
    "result = a<<2 # shift by 2 bits.\n",
    "print(result) # output : 40"
   ]
  },
  {
   "cell_type": "markdown",
   "id": "3bae5ba2-13fa-47a1-b487-025daf6760ca",
   "metadata": {},
   "source": [
    "#### <span style=\"color: #ff0000;\">Question 5 : Create a list containing int type data of length 15. Then write a code to check if 10 is present in the list or not.\n",
    "**<span style=\"font-size:larger;\">Answer 5</span>** :"
   ]
  },
  {
   "cell_type": "code",
   "execution_count": 20,
   "id": "7f8a8cc8-3db8-44df-99e7-c215ee684d2d",
   "metadata": {},
   "outputs": [
    {
     "name": "stdout",
     "output_type": "stream",
     "text": [
      "15\n",
      "10 is present in List : True\n"
     ]
    }
   ],
   "source": [
    "List = [1,2,3,4,5,6,7,8,9,10,11,12,13,14,15]\n",
    "print(len(List))\n",
    "check=True if 10 in List else False\n",
    "print(f\"10 is present in List : {check}\")"
   ]
  }
 ],
 "metadata": {
  "kernelspec": {
   "display_name": "Python 3 (ipykernel)",
   "language": "python",
   "name": "python3"
  },
  "language_info": {
   "codemirror_mode": {
    "name": "ipython",
    "version": 3
   },
   "file_extension": ".py",
   "mimetype": "text/x-python",
   "name": "python",
   "nbconvert_exporter": "python",
   "pygments_lexer": "ipython3",
   "version": "3.10.6"
  }
 },
 "nbformat": 4,
 "nbformat_minor": 5
}
