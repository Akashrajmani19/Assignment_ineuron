{
 "cells": [
  {
   "cell_type": "markdown",
   "id": "074a356a-643e-45b0-ad2e-877ed4afba9f",
   "metadata": {},
   "source": [
    "#### <span style=\"color: #ff0000;\">Question 1 : What is the role of try and exception block?\n",
    "**<span style=\"font-size:larger;\">Answer 1</span>** : The try-except block is used for error handling, allowing us to handle exceptions (errors) that may occur during the execution of our code. The main role of the try-except block is to prevent the program from crashing when an unexpected error occurs, and instead, it allows us to handle the error in a controlled manner, allowing the program to continue running."
   ]
  },
  {
   "cell_type": "markdown",
   "id": "1c4996c5-8a35-4531-9034-fcffcfcb2cee",
   "metadata": {},
   "source": [
    "#### <span style=\"color: #ff0000;\">Question 2 : What is the syntax for a basic try-except block?\n",
    "**<span style=\"font-size:larger;\">Answer 2</span>** : Syntax of try-except block is : "
   ]
  },
  {
   "cell_type": "code",
   "execution_count": null,
   "id": "ab3f7e8a-f196-4d77-924a-c92799437635",
   "metadata": {},
   "outputs": [],
   "source": [
    "try:\n",
    "    # Code that may raise an error\n",
    "except ExceptionType:\n",
    "    # Code to handle the error"
   ]
  },
  {
   "cell_type": "markdown",
   "id": "cde7e6c2-67c0-4639-aadf-e868c65d3b76",
   "metadata": {},
   "source": [
    "#### <span style=\"color: #ff0000;\">Question 3 : What happens if an exception occurs inside a try block and there is no matching except block?\n",
    "**<span style=\"font-size:larger;\">Answer 3</span>** :  If an exception occurs inside a try block and there is no matching except block to handle that specific type of exception, the program will terminate, and an unhandled exception will be raised. Python will display an error traceback indicating the type of exception and the line number where the exception occurred."
   ]
  },
  {
   "cell_type": "code",
   "execution_count": 2,
   "id": "81156884-00f7-41e9-ba75-25e0ae0f82db",
   "metadata": {},
   "outputs": [
    {
     "name": "stdin",
     "output_type": "stream",
     "text": [
      "Enter the first number:  4\n",
      "Enter the second number:  0\n"
     ]
    },
    {
     "ename": "ZeroDivisionError",
     "evalue": "division by zero",
     "output_type": "error",
     "traceback": [
      "\u001b[0;31m---------------------------------------------------------------------------\u001b[0m",
      "\u001b[0;31mZeroDivisionError\u001b[0m                         Traceback (most recent call last)",
      "Cell \u001b[0;32mIn [2], line 6\u001b[0m\n\u001b[1;32m      4\u001b[0m     num1 \u001b[38;5;241m=\u001b[39m \u001b[38;5;28mint\u001b[39m(\u001b[38;5;28minput\u001b[39m(\u001b[38;5;124m\"\u001b[39m\u001b[38;5;124mEnter the first number: \u001b[39m\u001b[38;5;124m\"\u001b[39m))\n\u001b[1;32m      5\u001b[0m     num2 \u001b[38;5;241m=\u001b[39m \u001b[38;5;28mint\u001b[39m(\u001b[38;5;28minput\u001b[39m(\u001b[38;5;124m\"\u001b[39m\u001b[38;5;124mEnter the second number: \u001b[39m\u001b[38;5;124m\"\u001b[39m))\n\u001b[0;32m----> 6\u001b[0m     result \u001b[38;5;241m=\u001b[39m \u001b[43mnum1\u001b[49m\u001b[43m \u001b[49m\u001b[38;5;241;43m/\u001b[39;49m\u001b[43m \u001b[49m\u001b[43mnum2\u001b[49m\n\u001b[1;32m      7\u001b[0m     \u001b[38;5;28mprint\u001b[39m(\u001b[38;5;124m\"\u001b[39m\u001b[38;5;124mResult:\u001b[39m\u001b[38;5;124m\"\u001b[39m, result)\n\u001b[1;32m      8\u001b[0m \u001b[38;5;28;01mexcept\u001b[39;00m \u001b[38;5;167;01mValueError\u001b[39;00m:\n",
      "\u001b[0;31mZeroDivisionError\u001b[0m: division by zero"
     ]
    }
   ],
   "source": [
    "\"\"\"Here exception is degin for handle value error but we will provide input for \n",
    "ZeroDivisionError.\"\"\"\n",
    "try:\n",
    "    num1 = int(input(\"Enter the first number: \"))\n",
    "    num2 = int(input(\"Enter the second number: \"))\n",
    "    result = num1 / num2\n",
    "    print(\"Result:\", result)\n",
    "except ValueError:\n",
    "    print(\"Error: Please enter valid integers.\")\n"
   ]
  },
  {
   "cell_type": "markdown",
   "id": "3265524b-ec6d-4952-a967-81c16b5bbffa",
   "metadata": {},
   "source": [
    "#### <span style=\"color: #ff0000;\">Question 4 : What is the difference between using a bare except block and specifying a specific exception type?\n",
    "**<span style=\"font-size:larger;\">Answer 4</span>** : The diffrence between using a bare except block and specifying a specific exception type is that when we are using a bare except block it catches all exceptions, including ones we might not have anticipated or ones that could be indicative of bugs in our code. On the other hand, specifying a specific exception type allows us to handle different types of exceptions separately, leading to more robust and maintainable code."
   ]
  },
  {
   "cell_type": "markdown",
   "id": "f913b694-f7f7-4707-bedb-6f726d80bb52",
   "metadata": {},
   "source": [
    "#### <span style=\"color: #ff0000;\">Question 5 : Can you have nested try-except blocks in Python? If yes, then give an example. \n",
    "**<span style=\"font-size:larger;\">Answer 5</span>** : Yes, we can have nested try-except blocks in Python. This means we can place one try-except block inside another. This allows us to handle exceptions at different levels of our code and provide more error handling."
   ]
  },
  {
   "cell_type": "code",
   "execution_count": 7,
   "id": "56e40f04-0f3b-4a8e-82d6-6475dc578c84",
   "metadata": {},
   "outputs": [
    {
     "name": "stdout",
     "output_type": "stream",
     "text": [
      "Result for Fisrt data.\n",
      "Result of division: 5.0\n",
      "------------------------\n",
      "Result for second data.\n",
      "\u001b[31mError: Cannot divide by zero.\n",
      "\u001b[0m------------------------\n",
      "Result for second data.\n",
      "\u001b[31mError: Missing key in the given data.\n"
     ]
    }
   ],
   "source": [
    "def divide_numbers(num1, num2):\n",
    "    \"\"\"To handle the ZeroDivisionError and TypeError\"\"\"\n",
    "    try:\n",
    "        result = num1 / num2\n",
    "        print(\"Result of division:\", result)\n",
    "    except ZeroDivisionError:\n",
    "        print(\"\\033[31mError: Cannot divide by zero.\")\n",
    "    except TypeError:\n",
    "        print(\"\\033[31mError: Invalid data types for division.\")\n",
    "\n",
    "def nested_try(data):\n",
    "    try:\n",
    "        num1 = int(data[\"num1\"])\n",
    "        num2 = int(data[\"num2\"])\n",
    "        divide_numbers(num1, num2)\n",
    "    except ValueError:\n",
    "        print(\"\\033[31mError: Please enter valid integers.\")\n",
    "    except KeyError:\n",
    "        print(\"\\033[31mError: Missing key in the given data.\")\n",
    "\n",
    "# Test the nested try-except blocks\n",
    "data1 = {\"num1\": \"10\", \"num2\": \"2\"}\n",
    "print(\"Result for Fisrt data.\")\n",
    "nested_try(data1)\n",
    "print(\"------------------------\")\n",
    "data2 = {\"num1\": \"20\", \"num2\": \"0\"}\n",
    "print(\"Result for second data.\")\n",
    "nested_try(data2)\n",
    "print(\"\\033[0m------------------------\")\n",
    "data3 = {\"num1\": \"30\", \"num3\": \"5\"}\n",
    "print(\"Result for second data.\")\n",
    "nested_try(data3)\n"
   ]
  },
  {
   "cell_type": "markdown",
   "id": "aae27c4a-4e83-4db9-95e4-e1685cd62046",
   "metadata": {},
   "source": [
    "#### <span style=\"color: #ff0000;\">Question 6 : Can we use multiple exception blocks, if yes then give an example.\n",
    "**<span style=\"font-size:larger;\">Answer 6</span>** : Yes, we can use multiple exception blocks to handle different types of exceptions separately. This allows us to provide specific error handling for each type of exception that might occur in our code.  we can have multiple except blocks following a try block, and Python will execute the appropriate except block that matches the type of the raised exception. For example :"
   ]
  },
  {
   "cell_type": "code",
   "execution_count": null,
   "id": "3958e293-ea9f-40e8-8346-409cfb4a0baf",
   "metadata": {},
   "outputs": [],
   "source": [
    "def divide_numbers(num1, num2):\n",
    "    \"\"\"To handle the ZeroDivisionError and TypeError (two diffrent exceptions with sigle try block)\"\"\"\n",
    "    try:\n",
    "        result = num1 / num2\n",
    "        print(\"Result of division:\", result)\n",
    "    except ZeroDivisionError:\n",
    "        print(\"\\033[31mError: Cannot divide by zero.\")\n",
    "    except TypeError:\n",
    "        print(\"\\033[31mError: Invalid data types for division.\")\n",
    "\n",
    "def nested_try(data):\n",
    "    try:\n",
    "        num1 = int(data[\"num1\"])\n",
    "        num2 = int(data[\"num2\"])\n",
    "        divide_numbers(num1, num2)\n",
    "    except ValueError:\n",
    "        print(\"\\033[31mError: Please enter valid integers.\")\n",
    "    except KeyError:\n",
    "        print(\"\\033[31mError: Missing key in the given data.\")\n",
    "\n",
    "# Test the nested try-except blocks\n",
    "data1 = {\"num1\": \"10\", \"num2\": \"2\"}\n",
    "print(\"Result for Fisrt data.\")\n",
    "nested_try(data1)\n",
    "print(\"------------------------\")\n",
    "data2 = {\"num1\": \"20\", \"num2\": \"0\"}\n",
    "print(\"Result for second data.\")\n",
    "nested_try(data2)\n",
    "print(\"\\033[0m------------------------\")\n",
    "data3 = {\"num1\": \"30\", \"num3\": \"5\"}\n",
    "print(\"Result for second data.\")\n",
    "nested_try(data3)"
   ]
  },
  {
   "cell_type": "markdown",
   "id": "a3dd953e-2333-4a7f-a256-cec1a8bb8567",
   "metadata": {},
   "source": [
    "#### <span style=\"color: #ff0000;\">Question 7 : Write the reason due to which following errors are raised:\n",
    "    a. EOFError\n",
    "    b. FloatingPointError\n",
    "    c. IndexError\n",
    "    d. MemoryError\n",
    "    e. OverflowError\n",
    "    f. TabError\n",
    "    g. ValueError\n",
    "**<span style=\"font-size:larger;\">Answer 7</span>** : a. **EOFError** : Raised when the \"**input()**\" function hits the end-of-file (EOF) condition, usually when reading from a file or user input.            \n",
    "b. **FloatingPointError** : Raised when a floating-point operation (like division by zero or an invalid operation) fails.            \n",
    "c. **IndexError** : Raised when trying to access an index in a sequence (e.g., list, tuple, string) that is out of range or not present.                  \n",
    "d. **MemoryError** : Raised when an operation cannot be completed due to insufficient memory (RAM).                                \n",
    "e. **OverflowError** : Raised when the result of an arithmetic operation exceeds the representable range for a numeric type (e.g., int or float).                             \n",
    "f. **TabError** : Raised when indentation using tabs and spaces is not consistent or not in line with Python's indentation rules.      \n",
    "g. **ValueError** : Raised when a function receives an argument of the correct data type but an inappropriate value (e.g., trying to convert a string to an integer, but the string doesn't represent a valid integer).\n",
    "\n",
    "\n",
    "\n",
    "\n",
    "\n",
    "\n"
   ]
  },
  {
   "cell_type": "markdown",
   "id": "936245f0-01db-4c8b-b793-25b76f8f43cb",
   "metadata": {},
   "source": [
    "#### <span style=\"color: #ff0000;\">Question 8 : Write code for the following given scenario and add try-exception block to it.\n",
    "a. Program to divide two numbers        \n",
    "b. Program to convert a string to an integer       \n",
    "c. Program to access an element in a list       \n",
    "d. Program to handle a specific exception        \n",
    "e. Program to handle any exception         \n",
    "**<span style=\"font-size:larger;\">Answer 8</span>** :"
   ]
  },
  {
   "cell_type": "markdown",
   "id": "b9bbb60b-d6b9-4e8c-a7cf-9364f3fba835",
   "metadata": {},
   "source": [
    "a. Programe divide teo numbers"
   ]
  },
  {
   "cell_type": "code",
   "execution_count": 10,
   "id": "0e6cbf0e-54ad-4eb9-9a32-95dec2af1c73",
   "metadata": {},
   "outputs": [
    {
     "name": "stdin",
     "output_type": "stream",
     "text": [
      "Number 1 :  5\n",
      "Number 2 :  0\n"
     ]
    },
    {
     "name": "stdout",
     "output_type": "stream",
     "text": [
      "\u001b[33mError: Cannot divide by zero.\n"
     ]
    }
   ],
   "source": [
    "num1 = int(input(\"Number 1 : \"))\n",
    "num2 =int(input(\"Number 2 : \"))\n",
    "\n",
    "try:\n",
    "    result = num1 / num2\n",
    "    print(\"Result of division:\", result)\n",
    "except ZeroDivisionError:\n",
    "        print(\"\\033[33mError: Cannot divide by zero.\")\n",
    "    "
   ]
  },
  {
   "cell_type": "markdown",
   "id": "f04634f7-5a84-4cae-b4a6-ab3d9a7bd577",
   "metadata": {},
   "source": [
    "b. Program to convert a string to an integer"
   ]
  },
  {
   "cell_type": "code",
   "execution_count": 16,
   "id": "1d01eb11-0965-4854-9276-4efdb3af514d",
   "metadata": {},
   "outputs": [
    {
     "name": "stdin",
     "output_type": "stream",
     "text": [
      "Enter a number:  akash\n"
     ]
    },
    {
     "name": "stdout",
     "output_type": "stream",
     "text": [
      "\u001b[33mError: Cannot convert the string to an integer.\n"
     ]
    }
   ],
   "source": [
    "def convert_to_integer(string_num):\n",
    "    try:\n",
    "        num = int(string_num)\n",
    "        print(\"Converted integer:\", num)\n",
    "    except ValueError:\n",
    "        print(\"\\033[33mError: Cannot convert the string to an integer.\")\n",
    "\n",
    "user_input = input(\"Enter a number: \")\n",
    "convert_to_integer(user_input)"
   ]
  },
  {
   "cell_type": "markdown",
   "id": "3b0409fa-d1e3-41a0-a469-ff738acff30b",
   "metadata": {},
   "source": [
    "c. Program to access an element in a list "
   ]
  },
  {
   "cell_type": "code",
   "execution_count": 18,
   "id": "63e819d5-d711-4a51-8d8d-a4a9be7232d3",
   "metadata": {},
   "outputs": [
    {
     "name": "stdin",
     "output_type": "stream",
     "text": [
      "Enter an index:  5\n"
     ]
    },
    {
     "name": "stdout",
     "output_type": "stream",
     "text": [
      "\u001b[33mError: Index out of range.\n"
     ]
    }
   ],
   "source": [
    "def access_list_element(my_list, index):\n",
    "    try:\n",
    "        element = my_list[index]\n",
    "        print(\"Element at index\", index, \"is:\", element)\n",
    "    except IndexError:\n",
    "        print(\"\\033[33mError: Index out of range.\")\n",
    "\n",
    "my_list = [1, 2, 3, 4, 5]\n",
    "try:\n",
    "    index = int(input(\"Enter an index: \"))\n",
    "    access_list_element(my_list, index)\n",
    "except ValueError:\n",
    "    print(\"\\033[33mError: Please enter a valid integer index.\")\n"
   ]
  },
  {
   "cell_type": "markdown",
   "id": "ee9f1bd0-3f6b-4a4b-b9d8-c4f27bcb2faf",
   "metadata": {},
   "source": [
    "d. Program to handle a specific exception    "
   ]
  },
  {
   "cell_type": "code",
   "execution_count": 19,
   "id": "82a0fdff-0ed7-4602-8dc6-69e6175f7c23",
   "metadata": {},
   "outputs": [
    {
     "name": "stdout",
     "output_type": "stream",
     "text": [
      "\u001b[33mError: Cannot divide by zero.\n"
     ]
    }
   ],
   "source": [
    "try:\n",
    "    x = 10\n",
    "    y = 0\n",
    "    result = x / y\n",
    "    print(\"Result:\", result)\n",
    "except ZeroDivisionError:\n",
    "    print(\"\\033[33mError: Cannot divide by zero.\")\n"
   ]
  },
  {
   "cell_type": "markdown",
   "id": "09411fb5-a75b-449a-89dd-4fbf1157115e",
   "metadata": {},
   "source": [
    "e. Program to handle any exception   "
   ]
  },
  {
   "cell_type": "code",
   "execution_count": 20,
   "id": "bf4b5893-8364-478a-836d-209473a6e636",
   "metadata": {},
   "outputs": [
    {
     "name": "stdin",
     "output_type": "stream",
     "text": [
      "Enter the first number:  1\n",
      "Enter the second number:  0\n"
     ]
    },
    {
     "name": "stdout",
     "output_type": "stream",
     "text": [
      "\u001b[33mAn error occurred: division by zero\n"
     ]
    }
   ],
   "source": [
    "try:\n",
    "    num1 = int(input(\"Enter the first number: \"))\n",
    "    num2 = int(input(\"Enter the second number: \"))\n",
    "    result = num1 / num2\n",
    "    print(\"Result of division:\", result)\n",
    "except Exception as e:\n",
    "    print(\"\\033[33mAn error occurred:\", e)\n"
   ]
  }
 ],
 "metadata": {
  "kernelspec": {
   "display_name": "Python 3 (ipykernel)",
   "language": "python",
   "name": "python3"
  },
  "language_info": {
   "codemirror_mode": {
    "name": "ipython",
    "version": 3
   },
   "file_extension": ".py",
   "mimetype": "text/x-python",
   "name": "python",
   "nbconvert_exporter": "python",
   "pygments_lexer": "ipython3",
   "version": "3.10.6"
  }
 },
 "nbformat": 4,
 "nbformat_minor": 5
}
