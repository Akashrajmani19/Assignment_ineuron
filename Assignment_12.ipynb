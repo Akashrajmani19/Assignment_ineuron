{
 "cells": [
  {
   "cell_type": "markdown",
   "id": "64bfbd09-335d-4c41-b0ff-8bb505818bf6",
   "metadata": {},
   "source": [
    "# Assignment 12 : "
   ]
  },
  {
   "cell_type": "markdown",
   "id": "ab4eb583-908e-4891-be53-5acca03b991a",
   "metadata": {},
   "source": [
    "#### <span style=\"color: #ff0000;\">Question 1 : What is the primary goal of Object-Oriented Programming (OOP)?\n",
    "**<span style=\"font-size:larger;\">Answer 1</span>** : The primary goal of Object-Oriented Programming (OOP) is to model real-world entities and concepts into software objects that encapsulate data and behavior. OOP aims to organize code in a way that is more intuitive, maintainable, and scalable by representing entities and their interactions using objects and classes."
   ]
  },
  {
   "cell_type": "markdown",
   "id": "918677b3-c553-4db0-8712-4313e8c5014b",
   "metadata": {},
   "source": [
    "#### <span style=\"color: #ff0000;\">Question 2 : What is an object in Python?\n",
    "**<span style=\"font-size:larger;\">Answer 2</span>** : An object is a fundamental concept representing a real-world entity, data structure, or instance of a class. Everything in Python is an object, including simple data types (e.g., integers, strings) and more complex data structures (e.g., lists, dictionaries). Additionally, user-defined classes are also objects."
   ]
  },
  {
   "cell_type": "markdown",
   "id": "53b59bd9-4510-4988-9b9a-b0b786296dba",
   "metadata": {},
   "source": [
    "#### <span style=\"color: #ff0000;\">Question 3 : What is a class in Python?\n",
    "**<span style=\"font-size:larger;\">Answer 3</span>** : A class is a blueprint or template for creating objects. It defines the properties and methods that an object of that class will have properties are the data or state of an object, and methods are the actions or behaviours that an object can perform."
   ]
  },
  {
   "cell_type": "markdown",
   "id": "3ac1dec2-50b0-49d0-8b01-f952a218dee0",
   "metadata": {},
   "source": [
    "#### <span style=\"color: #ff0000;\">Question 4 : What are attributes and methods in a class?\n",
    "**<span style=\"font-size:larger;\">Answer 4</span>** : **Attribute** : Attributes are variables that store data associated with an object. They represent the state or characteristics of the object. Each object created from a class can have its own set of attribute values, allowing objects to have different states. Attributes are defined within the class and are shared by all instances of the class. We can access and modify an object's attributes using dot notation.                    \n",
    "**Methods**: Methods are functions defined within a class that define the behavior of the class. They represent actions or operations that can be performed by objects of the class. Methods can interact with and modify the object's attributes, and they can also return values. Like attributes, methods are shared by all instances of the class, but they can also access and modify instance-specific attributes."
   ]
  },
  {
   "cell_type": "markdown",
   "id": "b5077a0f-cfa7-4c70-a479-93095d37beff",
   "metadata": {},
   "source": [
    "#### <span style=\"color: #ff0000;\">Question 5 : What is the difference between class variables and instance variables in Python?\n",
    "**<span style=\"font-size:larger;\">Answer 5</span>** : Diffrence between class variables and instance variables :"
   ]
  },
  {
   "cell_type": "markdown",
   "id": "fb7970e8-37f6-4a9b-bfc1-067f8dcf7256",
   "metadata": {},
   "source": [
    "    |-----------------------------------------|-----------------------------------------|\n",
    "    |         Class variables                 |           Instance variables            |\n",
    "    |-----------------------------------------|-----------------------------------------|\n",
    "    | Class variables are defined within the  | Instance variables are defined within   | \n",
    "    | class but outside of any methods.       | the class's methods and are prefixed    |\n",
    "    |                                         |   with self.                            |\n",
    "    |-----------------------------------------|-----------------------------------------|\n",
    "    | They are shared by all instances        | They belong to each individual instance |\n",
    "    | (objects) of the class.                 | (object) of the class.                  |\n",
    "    |-----------------------------------------|-----------------------------------------|\n",
    "    |  Class variables represent data that    | Instance variables represent unique data|\n",
    "    | is common to all objects of the class.  |                                         |\n",
    "    |-----------------------------------------|-----------------------------------------|\n",
    "    | They are typically used to store attri- |  They are used to store attributes or   |\n",
    "    | butes or properties that are shared     |  properties that are specific to each   | \n",
    "    | among all objects of the class.         |  object of the class.                   |\n",
    "    |-----------------------------------------|-----------------------------------------|"
   ]
  },
  {
   "cell_type": "markdown",
   "id": "030b0485-3266-45c0-b46f-ac32a2a3a7ed",
   "metadata": {},
   "source": [
    "#### <span style=\"color: #ff0000;\">Question 6 : What is the purpose of the self parameter in Python class methods?\n",
    "**<span style=\"font-size:larger;\">Answer 6</span>** : The **self** parameter in class methods refers to the instance of the class itself. It is a convention in Python to use the name self as the first parameter of instance methods (regular methods) in a class. When we call an instance method on an object, Python automatically passes the object itself as the first argument to the method using the self parameter."
   ]
  },
  {
   "cell_type": "markdown",
   "id": "dad76e8a-2953-4854-8527-c047a0c637a9",
   "metadata": {},
   "source": [
    "#### <span style=\"color: #ff0000;\">Question 7 : For a library management system, you have to design the \"Book\" class with OOP                        \n",
    "principles in mind. The “Book” class will have following attributes:                 \n",
    "a. title: Represents the title of the book.                  \n",
    "b. author: Represents the author(s) of the book.                               \n",
    "c. isbn: Represents the ISBN (International Standard Book Number) of the book.                   \n",
    "d. publication_year: Represents the year of publication of the book.                     \n",
    "e. available_copies: Represents the number of copies available for checkout.                 \n",
    "The class will also include the following methods:                         \n",
    "a. check_out(self): Decrements the available copies by one if there are copies available for checkout.                       \n",
    "b. return_book(self): Increments the available copies by one when a book is returned.                                  \n",
    "c. display_book_info(self): Displays the information about the book, including its attributes and the number of available copies.        \n",
    "**<span style=\"font-size:larger;\">Answer 7</span>** :"
   ]
  },
  {
   "cell_type": "code",
   "execution_count": 5,
   "id": "87f64187-65e1-454b-bc1c-fbadb84ae33b",
   "metadata": {},
   "outputs": [],
   "source": [
    "class Book:\n",
    "    def __init__(self,title,author,isbn,publication_year,Avail_copies):\n",
    "        self.title = title\n",
    "        self.author=author\n",
    "        self.isbn=isbn\n",
    "        self.publication_year = publication_year\n",
    "        self.Avail_copies=Avail_copies\n",
    "    def check_out(self):\n",
    "        self.Avail_copies -= 1\n",
    "        print(f\"Number of availlable copies of books : {self.Avail_copies}\")\n",
    "    def return_book(self):\n",
    "        self.Avail_copies += 1\n",
    "        print(f\"Number of availlable copies of books : {self.Avail_copies}\")\n",
    "    def display_book_info(self):\n",
    "        print(f\"Title of book : {self.title} \\n Author name : {self.author} \\n International Standard Book Number : {self.isbn} \\n Publication_year : {self.publication_year} \\n Availlable copies : {self.Avail_copies}\")"
   ]
  },
  {
   "cell_type": "code",
   "execution_count": 6,
   "id": "34a42936-2076-40c7-801f-b2eccbd3a4bc",
   "metadata": {},
   "outputs": [
    {
     "name": "stdout",
     "output_type": "stream",
     "text": [
      "Number of availlable copies of books : 499\n",
      "Number of availlable copies of books : 500\n",
      "Title of book : Data scince and machine learning \n",
      " Author name : Akash Vaishnav \n",
      " International Standard Book Number : DSML212121005 \n",
      " Publication_year : 2021 \n",
      " Availlable copies : 500\n"
     ]
    }
   ],
   "source": [
    "book1 = Book(\"Data scince and machine learning\",\"Akash Vaishnav\",\"DSML212121005\",2021,500)\n",
    "book1.check_out()\n",
    "book1.return_book()\n",
    "book1.display_book_info()"
   ]
  },
  {
   "cell_type": "markdown",
   "id": "7c8b845b-d674-488f-9063-1ff6e9dd6624",
   "metadata": {},
   "source": [
    "#### <span style=\"color: #ff0000;\">Question 8 : For a ticket booking system, you have to design the \"Ticket\" class with OOP principles in mind. The “Ticket” class should have the following attributes:                       \n",
    "a. ticket_id: Represents the unique identifier for the ticket.                          \n",
    "b. event_name: Represents the name of the event.                               \n",
    "c. event_date: Represents the date of the event.                             \n",
    "d. venue: Represents the venue of the event.                            \n",
    "e. seat_number: Represents the seat number associated with the ticket.                            \n",
    "f. price: Represents the price of the ticket.                                   \n",
    "g. is_reserved: Represents the reservation status of the ticket.                                \n",
    "The class also includes the following methods:                                         \n",
    "a. reserve_ticket(self): Marks the ticket as reserved if it is not already reserved.            \n",
    "b. cancel_reservation(self): Cancels the reservation of the ticket if it is already reserved.                         \n",
    "c. display_ticket_info(self): Displays the information about the ticket, including its attributes and reservation status.    \n",
    "    \n",
    "**<span style=\"font-size:larger;\">Answer 8</span>** :"
   ]
  },
  {
   "cell_type": "code",
   "execution_count": 23,
   "id": "6f5f8066-3f73-4f30-82d7-e9ac16db41a7",
   "metadata": {},
   "outputs": [
    {
     "name": "stdout",
     "output_type": "stream",
     "text": [
      "Ticket is booked /n Ticket ID : 235548 \n",
      " Train Name : Vande Bharat \n",
      " Event Date : 21-08-2023 \n",
      " Venue : Banglour \n",
      " Seat_number : None \n",
      " Price : 2110 \n",
      " Resevation is confirmed : False\n"
     ]
    }
   ],
   "source": [
    "class Ticket:\n",
    "    def __init__(self,ticket_id,train_name,event_date,venue,seat_number,price,is_reserved):\n",
    "        self.ticket_id = ticket_id\n",
    "        self.train_name = train_name\n",
    "        self.event_date = event_date\n",
    "        self.venue = venue\n",
    "        self.seat_number= seat_number\n",
    "        self.price=price\n",
    "        self.is_reserved = is_reserved\n",
    "        print(f\"Ticket is booked /n Ticket ID : {self.ticket_id} \\n Train Name : {self.train_name} \\n Event Date : {self.event_date} \\n Venue : {self.venue} \\n Seat_number : {self.seat_number} \\n Price : {self.price} \\n Resevation is confirmed : {self.is_reserved}\")\n",
    "        \n",
    "    def reserve_ticket(self,seat_number):\n",
    "        if self.is_reserved == False:\n",
    "            self.is_reserved = True\n",
    "            self.seat_number = seat_number\n",
    "            print(f\"Seat is confirmed \\n Seat Number is : {self.seat_number}\")\n",
    "        else :\n",
    "            print(f\"Ticket is already confirmed.\")\n",
    "    \n",
    "    def cancel_reservation(self):\n",
    "        if self.is_reserved == True:\n",
    "            self.is_reserved = False\n",
    "            print(\"Ticket is Cancelled.\")\n",
    "            self.seat_number = None\n",
    "        else:\n",
    "            print(f\"Ticket is not reserved.\")\n",
    "        \n",
    "    def  display_ticket_info(self):\n",
    "        print(f\"Ticket ID : {self.ticket_id} \\n Train Name : {self.train_name} \\n Event Date : {self.event_date} \\n Venue : {self.venue} \\n Seat_number : {self.seat_number} \\n Price : {self.price} \\n Resevation is confirmed : {self.is_reserved}\")\n",
    "        \n",
    "    \n",
    "ticket1= Ticket(235548,\"Vande Bharat\",\"21-08-2023\",\"Banglour\",None,2110,False)            "
   ]
  },
  {
   "cell_type": "code",
   "execution_count": 24,
   "id": "7336a18f-ac8d-434e-91ed-5598fd010ad7",
   "metadata": {},
   "outputs": [
    {
     "name": "stdout",
     "output_type": "stream",
     "text": [
      "Seat is confirmed \n",
      " Seat Number is : s4 - 22\n"
     ]
    }
   ],
   "source": [
    "ticket1.reserve_ticket(\"s4 - 22\")"
   ]
  },
  {
   "cell_type": "code",
   "execution_count": 25,
   "id": "272cc075-d6bc-46c4-8527-413bafd793e4",
   "metadata": {},
   "outputs": [
    {
     "name": "stdout",
     "output_type": "stream",
     "text": [
      "Ticket ID : 235548 \n",
      " Train Name : Vande Bharat \n",
      " Event Date : 21-08-2023 \n",
      " Venue : Banglour \n",
      " Seat_number : s4 - 22 \n",
      " Price : 2110 \n",
      " Resevation is confirmed : True\n"
     ]
    }
   ],
   "source": [
    "ticket1.display_ticket_info()"
   ]
  },
  {
   "cell_type": "code",
   "execution_count": 26,
   "id": "5df77d5e-80d4-4358-9b35-460245302bfe",
   "metadata": {},
   "outputs": [
    {
     "name": "stdout",
     "output_type": "stream",
     "text": [
      "Ticket is Cancelled.\n"
     ]
    }
   ],
   "source": [
    "ticket1.cancel_reservation()"
   ]
  },
  {
   "cell_type": "markdown",
   "id": "80bd5d8d-eb10-4382-bb8f-e168104a5b3b",
   "metadata": {},
   "source": [
    "#### <span style=\"color: #ff0000;\">Question 9 :You are creating a shopping cart for an e-commerce website. Using OOP to model the \"ShoppingCart\" functionality the class should contain following attributes and methods:                              \n",
    "a. items: Represents the list of items in the shopping cart.                                 \n",
    "The class also includes the following methods:             \n",
    "a. add_item(self, item): Adds an item to the shopping cart by appending it to the list of items.                            \n",
    "b. remove_item(self, item): Removes an item from the shopping cart if it exists in the list.                                 \n",
    "c. view_cart(self): Displays the items currently present in the shopping cart.                                 \n",
    "d. clear_cart(self): Clears all items from the shopping cart by reassigning an empty list to the items attribute.                      \n",
    "**<span style=\"font-size:larger;\">Answer 9</span>** :"
   ]
  },
  {
   "cell_type": "code",
   "execution_count": 30,
   "id": "b222a0e1-2cfb-44ab-9a32-d242de482d46",
   "metadata": {},
   "outputs": [],
   "source": [
    "class ShoppingCart:\n",
    "    def __init__(self,item=[]):\n",
    "        self.item=item\n",
    "    def add_item(self,item1):\n",
    "        self.item.append(item1)\n",
    "        print(f\"{item1} is added to your cart.\")\n",
    "    def remove_item(self,item1):\n",
    "        if item1 in self.item:\n",
    "            self.item.remove(item1)\n",
    "            print(f\"{item1} is removed from your Cart.\")\n",
    "        else:\n",
    "            print(f\"{item1} is not in your cart.\")\n",
    "    def view_cart(self):\n",
    "        print(f\"Items in your cart : {self.item}\")\n",
    "    \n",
    "    def clear_cart(self):\n",
    "        self.item.clear()\n",
    "        print(\"Your cart is empty now.\")"
   ]
  },
  {
   "cell_type": "code",
   "execution_count": 31,
   "id": "6a3886f4-03f9-4986-b7ba-919a1ee6afb4",
   "metadata": {},
   "outputs": [
    {
     "name": "stdout",
     "output_type": "stream",
     "text": [
      "Play station is added to your cart.\n",
      "Jhaddu is removed from your Cart.\n",
      "Items in your cart : ['Volvo', 'Truck', 'Play station']\n",
      "Your cart is empty now.\n"
     ]
    }
   ],
   "source": [
    "cart1 = ShoppingCart([\"Jhaddu\",\"Volvo\",\"Truck\"])\n",
    "cart1.add_item(\"Play station\")\n",
    "cart1.remove_item(\"Jhaddu\")\n",
    "cart1.view_cart()\n",
    "cart1.clear_cart()"
   ]
  },
  {
   "cell_type": "markdown",
   "id": "e20f48c2-2d9d-4f41-a998-82e6a31293d6",
   "metadata": {},
   "source": [
    "#### <span style=\"color: #ff0000;\">Question 10 : Imagine a school management system. You have to design the \"Student\" class using OOP concepts.The “Student” class has the following attributes:             \n",
    "a. name: Represents the name of the student.                 \n",
    "b. age: Represents the age of the student.                      \n",
    "c. grade: Represents the grade or class of the student.                   \n",
    "d. student_id: Represents the unique identifier for the student.                 \n",
    "e. attendance: Represents the attendance record of the student.                 \n",
    "The class should also include the following methods:                   \n",
    "a. update_attendance(self, date, status): Updates the attendance record of the student for a given date with the provided status (e.g., present or absent).                                                       \n",
    "b. get_attendance(self): Returns the attendance record of the student.                              \n",
    "c. get_average_attendance(self): Calculates and returns the average attendance percentage of the student based on their attendance record.                                            \n",
    "**<span style=\"font-size:larger;\">Answer 10</span>** :"
   ]
  },
  {
   "cell_type": "code",
   "execution_count": 33,
   "id": "adbe0e08-5e05-4830-a8dd-d12ee4d88471",
   "metadata": {},
   "outputs": [],
   "source": [
    "class Student:\n",
    "    def __init__(self, name, age, grade, student_id):\n",
    "        self.name = name\n",
    "        self.age = age\n",
    "        self.grade = grade\n",
    "        self.student_id = student_id\n",
    "        self.attendance = {} # dictionary\n",
    "\n",
    "    def update_attendance(self, date, status):\n",
    "        self.attendance[date] = status\n",
    "\n",
    "    def get_attendance(self):\n",
    "        return self.attendance\n",
    "\n",
    "    def get_average_attendance(self):\n",
    "        if not self.attendance:\n",
    "            return 0.0\n",
    "\n",
    "        total_days = len(self.attendance)\n",
    "        present_days = sum(status == \"present\" for status in self.attendance.values())\n",
    "        average_attendance = (present_days / total_days) * 100\n",
    "        return round(average_attendance, 2)\n",
    "\n",
    "\n",
    "student1 = Student(\"John Doe\", 15, \"10th Grade\", \"A12345\")\n",
    "\n",
    " \n",
    "\n",
    "        "
   ]
  },
  {
   "cell_type": "code",
   "execution_count": 34,
   "id": "1a372686-acb8-4988-b336-9f3191bccac1",
   "metadata": {},
   "outputs": [],
   "source": [
    "student1.update_attendance(\"2023-07-20\", \"present\")\n",
    "student1.update_attendance(\"2023-07-21\", \"absent\")\n",
    "student1.update_attendance(\"2023-07-22\", \"present\")\n"
   ]
  },
  {
   "cell_type": "code",
   "execution_count": 35,
   "id": "85d28f40-bfc8-42b2-b470-95ff14423c7a",
   "metadata": {},
   "outputs": [
    {
     "name": "stdout",
     "output_type": "stream",
     "text": [
      "Attendance Record: {'2023-07-20': 'present', '2023-07-21': 'absent', '2023-07-22': 'present'}\n",
      "Average Attendance: 66.67 %\n"
     ]
    }
   ],
   "source": [
    "attendance_record = student1.get_attendance()\n",
    "average_attendance = student1.get_average_attendance()\n",
    "\n",
    "print(\"Attendance Record:\", attendance_record)\n",
    "print(\"Average Attendance:\", average_attendance, \"%\")"
   ]
  }
 ],
 "metadata": {
  "kernelspec": {
   "display_name": "Python 3 (ipykernel)",
   "language": "python",
   "name": "python3"
  },
  "language_info": {
   "codemirror_mode": {
    "name": "ipython",
    "version": 3
   },
   "file_extension": ".py",
   "mimetype": "text/x-python",
   "name": "python",
   "nbconvert_exporter": "python",
   "pygments_lexer": "ipython3",
   "version": "3.10.6"
  }
 },
 "nbformat": 4,
 "nbformat_minor": 5
}
